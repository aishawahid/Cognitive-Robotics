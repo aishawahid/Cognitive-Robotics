{
  "nbformat": 4,
  "nbformat_minor": 0,
  "metadata": {
    "colab": {
      "provenance": [],
      "collapsed_sections": [
        "YDbYeVQ1xAlk",
        "VYf_PeYYcQdy",
        "HsLO1Ev2B-7E",
        "qbfJ0kpztANs",
        "pjZQUtmajkwB",
        "UVFMuIwxu2Vu",
        "ZYTIZhZxvrod",
        "YsxfOAj-vj6E",
        "ifJ6k8PpbPH0",
        "YyZcPkTKenX0",
        "nIJzx66dbhdT",
        "3uymmWr8feRA",
        "zQ1b8dnbl8rT",
        "H9yPxRxheLkJ",
        "WOCh3L2BYZTC",
        "785khmDshfDi",
        "S77zByHYk0vm",
        "7fHnGLB6nDMf",
        "PMmOskM9wRzz",
        "c0BYk7ebn7c3",
        "2vua-OS7obUU",
        "T6sDK3K7o3FD",
        "YU77xjlKwdyC",
        "GIJGeWUK2W1W",
        "HbqZ3NMNhja7",
        "WuKSPcpUiSx_",
        "zZiIx6BoiLtq",
        "rH3pgQYUb6XG",
        "dvEAZ6Gp_5Z3",
        "_GnaBybKhQuQ",
        "VP4Mxqw7hafJ",
        "hi5bUEzlpWYR",
        "P9tk07pfDcSq"
      ],
      "gpuType": "L4"
    },
    "kernelspec": {
      "name": "python3",
      "display_name": "Python 3"
    },
    "language_info": {
      "name": "python"
    },
    "accelerator": "GPU"
  },
  "cells": [
    {
      "cell_type": "markdown",
      "source": [
        "# Cognitive Robotics Lab"
      ],
      "metadata": {
        "id": "vkgRYLaRqios"
      }
    },
    {
      "cell_type": "markdown",
      "source": [
        "I will be using a deep learning architecture, Convolutional Neural Network (CNN), to perform image classification on the CIFAR-10 dataset."
      ],
      "metadata": {
        "id": "4Pqsz1kFByPz"
      }
    },
    {
      "cell_type": "markdown",
      "source": [
        "## Load Data"
      ],
      "metadata": {
        "id": "YDbYeVQ1xAlk"
      }
    },
    {
      "cell_type": "markdown",
      "source": [
        "### Imports"
      ],
      "metadata": {
        "id": "VYf_PeYYcQdy"
      }
    },
    {
      "cell_type": "code",
      "execution_count": null,
      "metadata": {
        "id": "CQht5NXyqg36"
      },
      "outputs": [],
      "source": [
        "from tensorflow.keras.datasets import cifar10\n",
        "from tensorflow.keras import utils\n",
        "from tensorflow.keras.models import Sequential\n",
        "from tensorflow.keras.layers import Conv2D, MaxPooling2D, Dropout, Flatten, Dense, BatchNormalization\n",
        "from tensorflow.keras import regularizers\n",
        "from tensorflow.keras.optimizers.legacy import SGD, Adam, RMSprop\n",
        "from keras.callbacks import LearningRateScheduler\n",
        "\n",
        "\n",
        "import numpy as np\n",
        "import matplotlib.pyplot as plt"
      ]
    },
    {
      "cell_type": "code",
      "source": [
        "#training constants\n",
        "BATCH_SIZE = 128\n",
        "N_EPOCH = 20 # use 20 for best initial results\n",
        "N_CLASSES = 10\n",
        "VERBOSE = 1\n",
        "VALIDATION_SPLIT = 0.2\n",
        "OPTIM = RMSprop()"
      ],
      "metadata": {
        "id": "-jcCzQ8_I-L3"
      },
      "execution_count": null,
      "outputs": []
    },
    {
      "cell_type": "code",
      "source": [
        "# CIFAR_10 is a set of 60K images 32x32 pixels on 3 channels\n",
        "IMG_CHANNELS = 3\n",
        "IMG_ROWS = 32\n",
        "IMG_COLS = 32"
      ],
      "metadata": {
        "id": "mKxOU_vjJAKT"
      },
      "execution_count": null,
      "outputs": []
    },
    {
      "cell_type": "markdown",
      "source": [
        "### Loading CIFAR 10 dataset"
      ],
      "metadata": {
        "id": "HsLO1Ev2B-7E"
      }
    },
    {
      "cell_type": "code",
      "source": [
        "#load dataset\n",
        "(input_X_train, output_y_train), (input_X_test, output_y_test) = cifar10.load_data()\n",
        "print('input_X_train shape:', input_X_train.shape)\n",
        "print(input_X_train.shape[0], 'train samples')\n",
        "print(input_X_test.shape[0], 'test samples')\n",
        "\n",
        "# convert to categorical\n",
        "output_Y_train = utils.to_categorical(output_y_train, N_CLASSES)\n",
        "output_Y_test = utils.to_categorical(output_y_test, N_CLASSES)\n",
        "\n",
        "# float and normalization\n",
        "input_X_train = input_X_train.astype('float32')\n",
        "input_X_test = input_X_test.astype('float32')\n",
        "input_X_train /= 255\n",
        "input_X_test /= 255"
      ],
      "metadata": {
        "colab": {
          "base_uri": "https://localhost:8080/"
        },
        "id": "opJwn_mQ367a",
        "outputId": "2854a6df-28d7-4080-a7a9-d6d5b73e9e15"
      },
      "execution_count": null,
      "outputs": [
        {
          "output_type": "stream",
          "name": "stdout",
          "text": [
            "Downloading data from https://www.cs.toronto.edu/~kriz/cifar-10-python.tar.gz\n",
            "170498071/170498071 [==============================] - 4s 0us/step\n",
            "input_X_train shape: (50000, 32, 32, 3)\n",
            "50000 train samples\n",
            "10000 test samples\n"
          ]
        }
      ]
    },
    {
      "cell_type": "markdown",
      "source": [
        "## Base Model"
      ],
      "metadata": {
        "id": "qbfJ0kpztANs"
      }
    },
    {
      "cell_type": "code",
      "source": [
        "def create_base_model():\n",
        "    model = Sequential()\n",
        "\n",
        "    model.add(Conv2D(input_shape=(32,32,3),filters=64,kernel_size=(3,3),padding=\"same\", activation=\"relu\"))\n",
        "    model.add(Conv2D(filters=64,kernel_size=(3,3),padding=\"same\", activation=\"relu\"))\n",
        "    model.add(MaxPooling2D(pool_size=(2,2),strides=(2,2)))\n",
        "    model.add(Dropout(0.2))\n",
        "\n",
        "    model.add(Conv2D(filters=128, kernel_size=(3,3), padding=\"same\", activation=\"relu\"))\n",
        "    model.add(Conv2D(filters=128, kernel_size=(3,3), padding=\"same\", activation=\"relu\"))\n",
        "    model.add(MaxPooling2D(pool_size=(2,2),strides=(2,2)))\n",
        "    model.add(Dropout(0.2))\n",
        "\n",
        "    model.add(Conv2D(filters=256, kernel_size=(3,3), padding=\"same\", activation=\"relu\"))\n",
        "    model.add(Conv2D(filters=256, kernel_size=(3,3), padding=\"same\", activation=\"relu\"))\n",
        "    model.add(Conv2D(filters=256, kernel_size=(3,3), padding=\"same\", activation=\"relu\"))\n",
        "    model.add(MaxPooling2D(pool_size=(2,2),strides=(2,2)))\n",
        "    model.add(Dropout(0.2))\n",
        "\n",
        "    model.add(Conv2D(filters=512, kernel_size=(3,3), padding=\"same\", activation=\"relu\"))\n",
        "    model.add(Conv2D(filters=512, kernel_size=(3,3), padding=\"same\", activation=\"relu\"))\n",
        "    model.add(Conv2D(filters=512, kernel_size=(3,3), padding=\"same\", activation=\"relu\"))\n",
        "    model.add(MaxPooling2D(pool_size=(2,2),strides=(2,2)))\n",
        "    model.add(Dropout(0.2))\n",
        "\n",
        "    model.add(Flatten())\n",
        "\n",
        "    model.add(Dense(512, activation='relu'))\n",
        "    model.add(BatchNormalization())\n",
        "    model.add(Dropout(0.4))\n",
        "\n",
        "    model.add(Dense(256, activation='relu'))\n",
        "    model.add(BatchNormalization())\n",
        "    model.add(Dropout(0.4))\n",
        "\n",
        "    model.add(Dense(128, activation='relu'))\n",
        "    model.add(BatchNormalization())\n",
        "    model.add(Dropout(0.4))\n",
        "\n",
        "    model.add(Dense(10, activation='softmax'))\n",
        "\n",
        "    return model"
      ],
      "metadata": {
        "id": "DU4M3FKctHym"
      },
      "execution_count": null,
      "outputs": []
    },
    {
      "cell_type": "code",
      "source": [
        "model = create_base_model()\n",
        "\n",
        "# Plot the simplified model with landscape orientation\n",
        "utils.plot_model(model, to_file='model.png', rankdir='LR', show_shapes=False, show_dtype=False)"
      ],
      "metadata": {
        "colab": {
          "base_uri": "https://localhost:8080/",
          "height": 38
        },
        "id": "SsNQkg_otaxq",
        "outputId": "3cba4880-bcfc-41b4-997a-b6105be54dfc"
      },
      "execution_count": null,
      "outputs": [
        {
          "output_type": "execute_result",
          "data": {
            "image/png": "[encoded data removed]",
            "text/plain": [
              "<IPython.core.display.Image object>"
            ]
          },
          "metadata": {},
          "execution_count": 7
        }
      ]
    },
    {
      "cell_type": "markdown",
      "source": [
        "## Learning Rate Experiments"
      ],
      "metadata": {
        "id": "pjZQUtmajkwB"
      }
    },
    {
      "cell_type": "markdown",
      "source": [
        "### Learning Rate 0.00001"
      ],
      "metadata": {
        "id": "UVFMuIwxu2Vu"
      }
    },
    {
      "cell_type": "code",
      "source": [
        "model = create_base_model()"
      ],
      "metadata": {
        "id": "r4fJrC3Au2V4"
      },
      "execution_count": null,
      "outputs": []
    },
    {
      "cell_type": "code",
      "source": [
        "# Adam optimizer with initial learning rate\n",
        "optimizer = Adam(learning_rate=0.00001)\n",
        "\n",
        "model.compile(loss='categorical_crossentropy',\n",
        "             optimizer=optimizer,\n",
        "             metrics=['accuracy'])\n",
        "\n",
        "history = model.fit(input_X_train, output_Y_train, batch_size=128, epochs=20, validation_split=VALIDATION_SPLIT, verbose=VERBOSE)"
      ],
      "metadata": {
        "colab": {
          "base_uri": "https://localhost:8080/"
        },
        "outputId": "5a0272a9-9f25-459f-e29e-d312cb436aa0",
        "id": "1BGOAShIu2V5"
      },
      "execution_count": null,
      "outputs": [
        {
          "output_type": "stream",
          "name": "stdout",
          "text": [
            "Epoch 1/20\n",
            "313/313 [==============================] - 26s 61ms/step - loss: 3.3142 - accuracy: 0.1188 - val_loss: 2.4142 - val_accuracy: 0.0952\n",
            "Epoch 2/20\n",
            "313/313 [==============================] - 17s 54ms/step - loss: 3.0865 - accuracy: 0.1409 - val_loss: 2.4883 - val_accuracy: 0.1181\n",
            "Epoch 3/20\n",
            "313/313 [==============================] - 17s 55ms/step - loss: 2.8982 - accuracy: 0.1624 - val_loss: 2.8357 - val_accuracy: 0.1302\n",
            "Epoch 4/20\n",
            "313/313 [==============================] - 18s 56ms/step - loss: 2.6861 - accuracy: 0.1867 - val_loss: 3.0993 - val_accuracy: 0.1311\n",
            "Epoch 5/20\n",
            "313/313 [==============================] - 18s 58ms/step - loss: 2.5426 - accuracy: 0.2059 - val_loss: 2.6262 - val_accuracy: 0.1590\n",
            "Epoch 6/20\n",
            "313/313 [==============================] - 18s 56ms/step - loss: 2.4359 - accuracy: 0.2243 - val_loss: 2.4234 - val_accuracy: 0.1908\n",
            "Epoch 7/20\n",
            "313/313 [==============================] - 18s 57ms/step - loss: 2.3392 - accuracy: 0.2403 - val_loss: 2.2363 - val_accuracy: 0.2254\n",
            "Epoch 8/20\n",
            "313/313 [==============================] - 18s 56ms/step - loss: 2.2819 - accuracy: 0.2506 - val_loss: 2.1751 - val_accuracy: 0.2301\n",
            "Epoch 9/20\n",
            "313/313 [==============================] - 17s 55ms/step - loss: 2.2059 - accuracy: 0.2670 - val_loss: 2.0707 - val_accuracy: 0.2564\n",
            "Epoch 10/20\n",
            "313/313 [==============================] - 17s 54ms/step - loss: 2.1347 - accuracy: 0.2825 - val_loss: 1.9862 - val_accuracy: 0.2701\n",
            "Epoch 11/20\n",
            "313/313 [==============================] - 17s 53ms/step - loss: 2.0823 - accuracy: 0.2948 - val_loss: 1.9219 - val_accuracy: 0.2908\n",
            "Epoch 12/20\n",
            "313/313 [==============================] - 17s 55ms/step - loss: 2.0214 - accuracy: 0.3065 - val_loss: 1.8789 - val_accuracy: 0.3187\n",
            "Epoch 13/20\n",
            "313/313 [==============================] - 18s 57ms/step - loss: 1.9709 - accuracy: 0.3228 - val_loss: 1.8518 - val_accuracy: 0.3220\n",
            "Epoch 14/20\n",
            "313/313 [==============================] - 18s 57ms/step - loss: 1.9377 - accuracy: 0.3343 - val_loss: 1.7929 - val_accuracy: 0.3402\n",
            "Epoch 15/20\n",
            "313/313 [==============================] - 17s 55ms/step - loss: 1.8864 - accuracy: 0.3480 - val_loss: 1.7526 - val_accuracy: 0.3627\n",
            "Epoch 16/20\n",
            "313/313 [==============================] - 17s 55ms/step - loss: 1.8398 - accuracy: 0.3584 - val_loss: 1.7712 - val_accuracy: 0.3589\n",
            "Epoch 17/20\n",
            "313/313 [==============================] - 16s 53ms/step - loss: 1.8109 - accuracy: 0.3705 - val_loss: 1.6772 - val_accuracy: 0.3888\n",
            "Epoch 18/20\n",
            "313/313 [==============================] - 17s 54ms/step - loss: 1.7751 - accuracy: 0.3821 - val_loss: 1.7781 - val_accuracy: 0.3776\n",
            "Epoch 19/20\n",
            "313/313 [==============================] - 18s 56ms/step - loss: 1.7452 - accuracy: 0.3889 - val_loss: 1.6887 - val_accuracy: 0.4029\n",
            "Epoch 20/20\n",
            "313/313 [==============================] - 17s 54ms/step - loss: 1.7182 - accuracy: 0.4011 - val_loss: 1.5835 - val_accuracy: 0.4361\n"
          ]
        }
      ]
    },
    {
      "cell_type": "code",
      "source": [
        "history = model.fit(input_X_train, output_Y_train, batch_size=128, epochs=20, validation_split=VALIDATION_SPLIT, verbose=VERBOSE)"
      ],
      "metadata": {
        "colab": {
          "base_uri": "https://localhost:8080/"
        },
        "id": "KmEC8pVUbwZ-",
        "outputId": "bc0347bc-88b9-44e2-9499-3a724b2b083e"
      },
      "execution_count": null,
      "outputs": [
        {
          "output_type": "stream",
          "name": "stdout",
          "text": [
            "Epoch 1/20\n",
            "313/313 [==============================] - 17s 55ms/step - loss: 1.6802 - accuracy: 0.4124 - val_loss: 1.7201 - val_accuracy: 0.4042\n",
            "Epoch 2/20\n",
            "313/313 [==============================] - 17s 53ms/step - loss: 1.6513 - accuracy: 0.4236 - val_loss: 1.6603 - val_accuracy: 0.4204\n",
            "Epoch 3/20\n",
            "313/313 [==============================] - 17s 54ms/step - loss: 1.6243 - accuracy: 0.4326 - val_loss: 1.5640 - val_accuracy: 0.4442\n",
            "Epoch 4/20\n",
            "313/313 [==============================] - 17s 54ms/step - loss: 1.5992 - accuracy: 0.4390 - val_loss: 1.5154 - val_accuracy: 0.4595\n",
            "Epoch 5/20\n",
            "313/313 [==============================] - 16s 52ms/step - loss: 1.5704 - accuracy: 0.4476 - val_loss: 1.5838 - val_accuracy: 0.4533\n",
            "Epoch 6/20\n",
            "313/313 [==============================] - 17s 55ms/step - loss: 1.5438 - accuracy: 0.4554 - val_loss: 1.5801 - val_accuracy: 0.4585\n",
            "Epoch 7/20\n",
            "313/313 [==============================] - 18s 58ms/step - loss: 1.5233 - accuracy: 0.4656 - val_loss: 1.5947 - val_accuracy: 0.4613\n",
            "Epoch 8/20\n",
            "313/313 [==============================] - 17s 55ms/step - loss: 1.4910 - accuracy: 0.4760 - val_loss: 1.5124 - val_accuracy: 0.4714\n",
            "Epoch 9/20\n",
            "313/313 [==============================] - 16s 52ms/step - loss: 1.4762 - accuracy: 0.4764 - val_loss: 1.3771 - val_accuracy: 0.5160\n",
            "Epoch 10/20\n",
            "313/313 [==============================] - 17s 53ms/step - loss: 1.4552 - accuracy: 0.4883 - val_loss: 1.5770 - val_accuracy: 0.4779\n",
            "Epoch 11/20\n",
            "313/313 [==============================] - 17s 54ms/step - loss: 1.4375 - accuracy: 0.4954 - val_loss: 1.3456 - val_accuracy: 0.5344\n",
            "Epoch 12/20\n",
            "313/313 [==============================] - 17s 54ms/step - loss: 1.4099 - accuracy: 0.5033 - val_loss: 1.7035 - val_accuracy: 0.4594\n",
            "Epoch 13/20\n",
            "313/313 [==============================] - 18s 58ms/step - loss: 1.3791 - accuracy: 0.5138 - val_loss: 1.4002 - val_accuracy: 0.5145\n",
            "Epoch 14/20\n",
            "313/313 [==============================] - 17s 54ms/step - loss: 1.3546 - accuracy: 0.5264 - val_loss: 1.4429 - val_accuracy: 0.5099\n",
            "Epoch 15/20\n",
            "313/313 [==============================] - 17s 53ms/step - loss: 1.3440 - accuracy: 0.5282 - val_loss: 1.3989 - val_accuracy: 0.5215\n",
            "Epoch 16/20\n",
            "313/313 [==============================] - 17s 55ms/step - loss: 1.3288 - accuracy: 0.5363 - val_loss: 1.3470 - val_accuracy: 0.5440\n",
            "Epoch 17/20\n",
            "313/313 [==============================] - 17s 54ms/step - loss: 1.2968 - accuracy: 0.5428 - val_loss: 1.3692 - val_accuracy: 0.5419\n",
            "Epoch 18/20\n",
            "313/313 [==============================] - 17s 54ms/step - loss: 1.2880 - accuracy: 0.5484 - val_loss: 1.4729 - val_accuracy: 0.5170\n",
            "Epoch 19/20\n",
            "313/313 [==============================] - 17s 55ms/step - loss: 1.2716 - accuracy: 0.5520 - val_loss: 1.2636 - val_accuracy: 0.5695\n",
            "Epoch 20/20\n",
            "313/313 [==============================] - 17s 54ms/step - loss: 1.2584 - accuracy: 0.5587 - val_loss: 1.3560 - val_accuracy: 0.5501\n"
          ]
        }
      ]
    },
    {
      "cell_type": "markdown",
      "source": [
        "### Learning Rate 0.0001"
      ],
      "metadata": {
        "id": "ZYTIZhZxvrod"
      }
    },
    {
      "cell_type": "code",
      "source": [
        "model = create_base_model()"
      ],
      "metadata": {
        "id": "7dspkSzsvron"
      },
      "execution_count": null,
      "outputs": []
    },
    {
      "cell_type": "code",
      "source": [
        "# Adam optimizer with initial learning rate\n",
        "optimizer = Adam(learning_rate=0.0001)\n",
        "\n",
        "model.compile(loss='categorical_crossentropy',\n",
        "             optimizer=optimizer,\n",
        "             metrics=['accuracy'])\n",
        "\n",
        "history = model.fit(input_X_train, output_Y_train, batch_size=128, epochs=40, validation_split=VALIDATION_SPLIT, verbose=VERBOSE)"
      ],
      "metadata": {
        "colab": {
          "base_uri": "https://localhost:8080/"
        },
        "outputId": "f1dd6b23-2771-401e-dac1-4384864c6a8d",
        "id": "BnQetcd7vron"
      },
      "execution_count": null,
      "outputs": [
        {
          "output_type": "stream",
          "name": "stdout",
          "text": [
            "Epoch 1/40\n",
            "313/313 [==============================] - 22s 54ms/step - loss: 2.7599 - accuracy: 0.1568 - val_loss: 2.3126 - val_accuracy: 0.1770\n",
            "Epoch 2/40\n",
            "313/313 [==============================] - 16s 53ms/step - loss: 2.2008 - accuracy: 0.2482 - val_loss: 1.9322 - val_accuracy: 0.2705\n",
            "Epoch 3/40\n",
            "313/313 [==============================] - 17s 53ms/step - loss: 1.8550 - accuracy: 0.3391 - val_loss: 1.7068 - val_accuracy: 0.3988\n",
            "Epoch 4/40\n",
            "313/313 [==============================] - 17s 54ms/step - loss: 1.5868 - accuracy: 0.4310 - val_loss: 1.3706 - val_accuracy: 0.5131\n",
            "Epoch 5/40\n",
            "313/313 [==============================] - 17s 53ms/step - loss: 1.3935 - accuracy: 0.5016 - val_loss: 1.2104 - val_accuracy: 0.5709\n",
            "Epoch 6/40\n",
            "313/313 [==============================] - 16s 52ms/step - loss: 1.2561 - accuracy: 0.5548 - val_loss: 1.2813 - val_accuracy: 0.5629\n",
            "Epoch 7/40\n",
            "313/313 [==============================] - 17s 54ms/step - loss: 1.1481 - accuracy: 0.5953 - val_loss: 1.0557 - val_accuracy: 0.6287\n",
            "Epoch 8/40\n",
            "313/313 [==============================] - 17s 55ms/step - loss: 1.0511 - accuracy: 0.6295 - val_loss: 1.0342 - val_accuracy: 0.6503\n",
            "Epoch 9/40\n",
            "313/313 [==============================] - 17s 54ms/step - loss: 0.9693 - accuracy: 0.6599 - val_loss: 1.0017 - val_accuracy: 0.6579\n",
            "Epoch 10/40\n",
            "313/313 [==============================] - 17s 53ms/step - loss: 0.9083 - accuracy: 0.6861 - val_loss: 0.9041 - val_accuracy: 0.6869\n",
            "Epoch 11/40\n",
            "313/313 [==============================] - 16s 52ms/step - loss: 0.8563 - accuracy: 0.7039 - val_loss: 0.8775 - val_accuracy: 0.7083\n",
            "Epoch 12/40\n",
            "313/313 [==============================] - 16s 52ms/step - loss: 0.7906 - accuracy: 0.7270 - val_loss: 0.7113 - val_accuracy: 0.7518\n",
            "Epoch 13/40\n",
            "313/313 [==============================] - 16s 52ms/step - loss: 0.7355 - accuracy: 0.7474 - val_loss: 0.9013 - val_accuracy: 0.7030\n",
            "Epoch 14/40\n",
            "313/313 [==============================] - 16s 52ms/step - loss: 0.6894 - accuracy: 0.7648 - val_loss: 0.8076 - val_accuracy: 0.7389\n",
            "Epoch 15/40\n",
            "313/313 [==============================] - 16s 52ms/step - loss: 0.6475 - accuracy: 0.7800 - val_loss: 0.7685 - val_accuracy: 0.7476\n",
            "Epoch 16/40\n",
            "313/313 [==============================] - 17s 53ms/step - loss: 0.6098 - accuracy: 0.7958 - val_loss: 0.7237 - val_accuracy: 0.7606\n",
            "Epoch 17/40\n",
            "313/313 [==============================] - 17s 53ms/step - loss: 0.5595 - accuracy: 0.8123 - val_loss: 0.6405 - val_accuracy: 0.7881\n",
            "Epoch 18/40\n",
            "313/313 [==============================] - 17s 53ms/step - loss: 0.5233 - accuracy: 0.8268 - val_loss: 0.6249 - val_accuracy: 0.7957\n",
            "Epoch 19/40\n",
            "313/313 [==============================] - 16s 52ms/step - loss: 0.4852 - accuracy: 0.8383 - val_loss: 0.6454 - val_accuracy: 0.7939\n",
            "Epoch 20/40\n",
            "313/313 [==============================] - 17s 54ms/step - loss: 0.4480 - accuracy: 0.8482 - val_loss: 0.6597 - val_accuracy: 0.7981\n",
            "Epoch 21/40\n",
            "313/313 [==============================] - 17s 53ms/step - loss: 0.4207 - accuracy: 0.8583 - val_loss: 0.6560 - val_accuracy: 0.7928\n",
            "Epoch 22/40\n",
            "313/313 [==============================] - 17s 53ms/step - loss: 0.3827 - accuracy: 0.8717 - val_loss: 0.6287 - val_accuracy: 0.8099\n",
            "Epoch 23/40\n",
            "313/313 [==============================] - 17s 53ms/step - loss: 0.3522 - accuracy: 0.8832 - val_loss: 0.7208 - val_accuracy: 0.7917\n",
            "Epoch 24/40\n",
            "313/313 [==============================] - 17s 54ms/step - loss: 0.3261 - accuracy: 0.8918 - val_loss: 0.5974 - val_accuracy: 0.8193\n",
            "Epoch 25/40\n",
            "313/313 [==============================] - 17s 54ms/step - loss: 0.3051 - accuracy: 0.8995 - val_loss: 0.7739 - val_accuracy: 0.7839\n",
            "Epoch 26/40\n",
            "313/313 [==============================] - 17s 54ms/step - loss: 0.2756 - accuracy: 0.9079 - val_loss: 0.6446 - val_accuracy: 0.8137\n",
            "Epoch 27/40\n",
            "313/313 [==============================] - 17s 55ms/step - loss: 0.2543 - accuracy: 0.9170 - val_loss: 0.6886 - val_accuracy: 0.8086\n",
            "Epoch 28/40\n",
            "313/313 [==============================] - 17s 54ms/step - loss: 0.2388 - accuracy: 0.9219 - val_loss: 0.6249 - val_accuracy: 0.8255\n",
            "Epoch 29/40\n",
            "313/313 [==============================] - 16s 52ms/step - loss: 0.2211 - accuracy: 0.9265 - val_loss: 0.6727 - val_accuracy: 0.8161\n",
            "Epoch 30/40\n",
            "313/313 [==============================] - 17s 54ms/step - loss: 0.2006 - accuracy: 0.9332 - val_loss: 0.6917 - val_accuracy: 0.8144\n",
            "Epoch 31/40\n",
            "313/313 [==============================] - 16s 52ms/step - loss: 0.1766 - accuracy: 0.9419 - val_loss: 0.6864 - val_accuracy: 0.8271\n",
            "Epoch 32/40\n",
            "313/313 [==============================] - 17s 53ms/step - loss: 0.1629 - accuracy: 0.9470 - val_loss: 0.8076 - val_accuracy: 0.7984\n",
            "Epoch 33/40\n",
            "313/313 [==============================] - 16s 52ms/step - loss: 0.1585 - accuracy: 0.9490 - val_loss: 0.7698 - val_accuracy: 0.8209\n",
            "Epoch 34/40\n",
            "313/313 [==============================] - 16s 52ms/step - loss: 0.1427 - accuracy: 0.9540 - val_loss: 0.6982 - val_accuracy: 0.8227\n",
            "Epoch 35/40\n",
            "313/313 [==============================] - 17s 53ms/step - loss: 0.1293 - accuracy: 0.9585 - val_loss: 0.7788 - val_accuracy: 0.8123\n",
            "Epoch 36/40\n",
            "313/313 [==============================] - 17s 53ms/step - loss: 0.1195 - accuracy: 0.9617 - val_loss: 0.8069 - val_accuracy: 0.8087\n",
            "Epoch 37/40\n",
            "313/313 [==============================] - 17s 53ms/step - loss: 0.1256 - accuracy: 0.9592 - val_loss: 0.7587 - val_accuracy: 0.8203\n",
            "Epoch 38/40\n",
            "313/313 [==============================] - 17s 53ms/step - loss: 0.1088 - accuracy: 0.9643 - val_loss: 0.7975 - val_accuracy: 0.8183\n",
            "Epoch 39/40\n",
            "313/313 [==============================] - 17s 54ms/step - loss: 0.1028 - accuracy: 0.9671 - val_loss: 0.7665 - val_accuracy: 0.8249\n",
            "Epoch 40/40\n",
            "313/313 [==============================] - 17s 53ms/step - loss: 0.1112 - accuracy: 0.9636 - val_loss: 0.7589 - val_accuracy: 0.8257\n"
          ]
        }
      ]
    },
    {
      "cell_type": "markdown",
      "source": [
        "### Learning Rate 0.001"
      ],
      "metadata": {
        "id": "YsxfOAj-vj6E"
      }
    },
    {
      "cell_type": "code",
      "source": [
        "model = create_base_model()"
      ],
      "metadata": {
        "id": "xpGYQSWlvj6P"
      },
      "execution_count": null,
      "outputs": []
    },
    {
      "cell_type": "code",
      "source": [
        "# Adam optimizer with initial learning rate\n",
        "optimizer = Adam(learning_rate=0.001)\n",
        "\n",
        "model.compile(loss='categorical_crossentropy',\n",
        "             optimizer=optimizer,\n",
        "             metrics=['accuracy'])\n",
        "\n",
        "history = model.fit(input_X_train, output_Y_train, batch_size=128, epochs=40, validation_split=VALIDATION_SPLIT, verbose=VERBOSE)"
      ],
      "metadata": {
        "colab": {
          "base_uri": "https://localhost:8080/"
        },
        "outputId": "e6432fd0-d0d6-4c37-ea8a-b0af8a3b31b6",
        "id": "DHXAyOnSvj6P"
      },
      "execution_count": null,
      "outputs": [
        {
          "output_type": "stream",
          "name": "stdout",
          "text": [
            "Epoch 1/40\n",
            "313/313 [==============================] - 22s 55ms/step - loss: 2.3008 - accuracy: 0.1911 - val_loss: 1.8683 - val_accuracy: 0.2529\n",
            "Epoch 2/40\n",
            "313/313 [==============================] - 17s 54ms/step - loss: 1.9054 - accuracy: 0.2570 - val_loss: 1.9355 - val_accuracy: 0.2661\n",
            "Epoch 3/40\n",
            "313/313 [==============================] - 16s 52ms/step - loss: 1.6954 - accuracy: 0.3331 - val_loss: 1.9152 - val_accuracy: 0.2818\n",
            "Epoch 4/40\n",
            "313/313 [==============================] - 17s 53ms/step - loss: 1.5208 - accuracy: 0.4113 - val_loss: 1.4290 - val_accuracy: 0.4605\n",
            "Epoch 5/40\n",
            "313/313 [==============================] - 16s 51ms/step - loss: 1.3367 - accuracy: 0.5011 - val_loss: 1.3495 - val_accuracy: 0.5006\n",
            "Epoch 6/40\n",
            "313/313 [==============================] - 16s 51ms/step - loss: 1.1660 - accuracy: 0.5753 - val_loss: 1.3729 - val_accuracy: 0.5286\n",
            "Epoch 7/40\n",
            "313/313 [==============================] - 16s 52ms/step - loss: 1.1608 - accuracy: 0.5799 - val_loss: 1.1354 - val_accuracy: 0.6037\n",
            "Epoch 8/40\n",
            "313/313 [==============================] - 16s 51ms/step - loss: 0.9699 - accuracy: 0.6552 - val_loss: 0.9618 - val_accuracy: 0.6623\n",
            "Epoch 9/40\n",
            "313/313 [==============================] - 16s 51ms/step - loss: 0.8825 - accuracy: 0.6878 - val_loss: 0.7921 - val_accuracy: 0.7197\n",
            "Epoch 10/40\n",
            "313/313 [==============================] - 16s 52ms/step - loss: 0.8875 - accuracy: 0.6873 - val_loss: 0.8800 - val_accuracy: 0.6932\n",
            "Epoch 11/40\n",
            "313/313 [==============================] - 16s 51ms/step - loss: 0.7755 - accuracy: 0.7325 - val_loss: 1.0256 - val_accuracy: 0.6700\n",
            "Epoch 12/40\n",
            "313/313 [==============================] - 16s 52ms/step - loss: 0.7047 - accuracy: 0.7584 - val_loss: 0.7056 - val_accuracy: 0.7606\n",
            "Epoch 13/40\n",
            "313/313 [==============================] - 16s 52ms/step - loss: 0.6536 - accuracy: 0.7791 - val_loss: 0.7866 - val_accuracy: 0.7486\n",
            "Epoch 14/40\n",
            "313/313 [==============================] - 16s 52ms/step - loss: 0.6054 - accuracy: 0.7964 - val_loss: 0.7480 - val_accuracy: 0.7601\n",
            "Epoch 15/40\n",
            "313/313 [==============================] - 16s 53ms/step - loss: 0.5533 - accuracy: 0.8141 - val_loss: 0.6696 - val_accuracy: 0.7834\n",
            "Epoch 16/40\n",
            "313/313 [==============================] - 17s 53ms/step - loss: 0.5249 - accuracy: 0.8249 - val_loss: 0.6799 - val_accuracy: 0.7851\n",
            "Epoch 17/40\n",
            "313/313 [==============================] - 16s 52ms/step - loss: 0.4717 - accuracy: 0.8437 - val_loss: 0.6113 - val_accuracy: 0.8012\n",
            "Epoch 18/40\n",
            "313/313 [==============================] - 16s 51ms/step - loss: 0.4520 - accuracy: 0.8510 - val_loss: 0.6334 - val_accuracy: 0.8040\n",
            "Epoch 19/40\n",
            "313/313 [==============================] - 16s 53ms/step - loss: 0.4198 - accuracy: 0.8610 - val_loss: 0.6605 - val_accuracy: 0.7986\n",
            "Epoch 20/40\n",
            "313/313 [==============================] - 16s 52ms/step - loss: 0.3784 - accuracy: 0.8754 - val_loss: 0.6538 - val_accuracy: 0.8068\n",
            "Epoch 21/40\n",
            "313/313 [==============================] - 16s 52ms/step - loss: 0.3616 - accuracy: 0.8813 - val_loss: 0.6982 - val_accuracy: 0.7985\n",
            "Epoch 22/40\n",
            "313/313 [==============================] - 17s 54ms/step - loss: 0.3315 - accuracy: 0.8918 - val_loss: 0.6738 - val_accuracy: 0.7969\n",
            "Epoch 23/40\n",
            "313/313 [==============================] - 18s 57ms/step - loss: 0.3107 - accuracy: 0.8981 - val_loss: 0.7197 - val_accuracy: 0.7994\n",
            "Epoch 24/40\n",
            "313/313 [==============================] - 18s 57ms/step - loss: 0.2829 - accuracy: 0.9086 - val_loss: 0.6843 - val_accuracy: 0.8044\n",
            "Epoch 25/40\n",
            "313/313 [==============================] - 17s 53ms/step - loss: 0.2668 - accuracy: 0.9139 - val_loss: 0.7300 - val_accuracy: 0.8033\n",
            "Epoch 26/40\n",
            "313/313 [==============================] - 17s 54ms/step - loss: 0.2476 - accuracy: 0.9204 - val_loss: 0.7131 - val_accuracy: 0.8030\n",
            "Epoch 27/40\n",
            "313/313 [==============================] - 17s 53ms/step - loss: 0.2374 - accuracy: 0.9230 - val_loss: 0.7164 - val_accuracy: 0.8091\n",
            "Epoch 28/40\n",
            "313/313 [==============================] - 17s 53ms/step - loss: 0.2155 - accuracy: 0.9294 - val_loss: 0.6763 - val_accuracy: 0.8138\n",
            "Epoch 29/40\n",
            "313/313 [==============================] - 16s 51ms/step - loss: 0.1979 - accuracy: 0.9358 - val_loss: 0.7347 - val_accuracy: 0.8114\n",
            "Epoch 30/40\n",
            "313/313 [==============================] - 16s 52ms/step - loss: 0.1908 - accuracy: 0.9386 - val_loss: 0.7156 - val_accuracy: 0.8147\n",
            "Epoch 31/40\n",
            "313/313 [==============================] - 17s 56ms/step - loss: 0.1803 - accuracy: 0.9420 - val_loss: 0.7604 - val_accuracy: 0.8120\n",
            "Epoch 32/40\n",
            "313/313 [==============================] - 17s 55ms/step - loss: 0.1714 - accuracy: 0.9444 - val_loss: 0.7443 - val_accuracy: 0.8136\n",
            "Epoch 33/40\n",
            "313/313 [==============================] - 17s 53ms/step - loss: 0.1539 - accuracy: 0.9516 - val_loss: 0.7287 - val_accuracy: 0.8193\n",
            "Epoch 34/40\n",
            "313/313 [==============================] - 17s 53ms/step - loss: 0.1552 - accuracy: 0.9495 - val_loss: 0.7207 - val_accuracy: 0.8218\n",
            "Epoch 35/40\n",
            "313/313 [==============================] - 17s 56ms/step - loss: 0.1505 - accuracy: 0.9518 - val_loss: 0.7081 - val_accuracy: 0.8269\n",
            "Epoch 36/40\n",
            "313/313 [==============================] - 16s 51ms/step - loss: 0.1315 - accuracy: 0.9592 - val_loss: 0.7318 - val_accuracy: 0.8256\n",
            "Epoch 37/40\n",
            "313/313 [==============================] - 16s 51ms/step - loss: 0.1264 - accuracy: 0.9610 - val_loss: 0.7785 - val_accuracy: 0.8204\n",
            "Epoch 38/40\n",
            "313/313 [==============================] - 17s 53ms/step - loss: 0.1292 - accuracy: 0.9587 - val_loss: 0.8021 - val_accuracy: 0.8162\n",
            "Epoch 39/40\n",
            "313/313 [==============================] - 16s 52ms/step - loss: 0.1207 - accuracy: 0.9621 - val_loss: 0.7431 - val_accuracy: 0.8248\n",
            "Epoch 40/40\n",
            "313/313 [==============================] - 16s 52ms/step - loss: 0.1205 - accuracy: 0.9623 - val_loss: 0.8025 - val_accuracy: 0.8135\n"
          ]
        }
      ]
    },
    {
      "cell_type": "markdown",
      "source": [
        "### Schedule Learning Rate"
      ],
      "metadata": {
        "id": "ifJ6k8PpbPH0"
      }
    },
    {
      "cell_type": "code",
      "source": [
        "model = create_base_model()"
      ],
      "metadata": {
        "id": "-5vyv2febPH-"
      },
      "execution_count": null,
      "outputs": []
    },
    {
      "cell_type": "code",
      "source": [
        "# Learning rate schedule\n",
        "def lr_schedule(epoch):\n",
        "    if epoch < 20:\n",
        "        return 0.0001\n",
        "    elif epoch < 30:\n",
        "        return 0.00001\n",
        "    else:\n",
        "        return 0.000001\n",
        "\n",
        "# Adam optimizer with initial learning rate\n",
        "optimizer = Adam(learning_rate=0.0001)\n",
        "\n",
        "model.compile(loss='categorical_crossentropy',\n",
        "             optimizer=optimizer,\n",
        "             metrics=['accuracy'])\n",
        "\n",
        "# Learning rate scheduler callback\n",
        "lr_scheduler = LearningRateScheduler(lr_schedule)\n",
        "\n",
        "history = model.fit(input_X_train, output_Y_train, batch_size=128, epochs=40, validation_split=VALIDATION_SPLIT, verbose=VERBOSE, callbacks=[lr_scheduler])"
      ],
      "metadata": {
        "colab": {
          "base_uri": "https://localhost:8080/"
        },
        "outputId": "3ebf42fd-ebee-4e66-e59d-11d0b57a4122",
        "id": "tf7KwSYTbYoi"
      },
      "execution_count": null,
      "outputs": [
        {
          "output_type": "stream",
          "name": "stdout",
          "text": [
            "Epoch 1/40\n",
            "313/313 [==============================] - 9s 23ms/step - loss: 2.8199 - accuracy: 0.1538 - val_loss: 2.3349 - val_accuracy: 0.1018 - lr: 1.0000e-04\n",
            "Epoch 2/40\n",
            "313/313 [==============================] - 7s 22ms/step - loss: 2.2415 - accuracy: 0.2288 - val_loss: 1.9953 - val_accuracy: 0.2695 - lr: 1.0000e-04\n",
            "Epoch 3/40\n",
            "313/313 [==============================] - 7s 22ms/step - loss: 1.9023 - accuracy: 0.3198 - val_loss: 1.5685 - val_accuracy: 0.4322 - lr: 1.0000e-04\n",
            "Epoch 4/40\n",
            "313/313 [==============================] - 7s 22ms/step - loss: 1.6592 - accuracy: 0.4062 - val_loss: 1.4867 - val_accuracy: 0.4604 - lr: 1.0000e-04\n",
            "Epoch 5/40\n",
            "313/313 [==============================] - 7s 22ms/step - loss: 1.4362 - accuracy: 0.4908 - val_loss: 1.4248 - val_accuracy: 0.5128 - lr: 1.0000e-04\n",
            "Epoch 6/40\n",
            "313/313 [==============================] - 7s 22ms/step - loss: 1.2691 - accuracy: 0.5527 - val_loss: 1.1979 - val_accuracy: 0.6031 - lr: 1.0000e-04\n",
            "Epoch 7/40\n",
            "313/313 [==============================] - 7s 22ms/step - loss: 1.1498 - accuracy: 0.5958 - val_loss: 1.0065 - val_accuracy: 0.6382 - lr: 1.0000e-04\n",
            "Epoch 8/40\n",
            "313/313 [==============================] - 7s 22ms/step - loss: 1.0511 - accuracy: 0.6327 - val_loss: 1.1580 - val_accuracy: 0.6208 - lr: 1.0000e-04\n",
            "Epoch 9/40\n",
            "313/313 [==============================] - 7s 22ms/step - loss: 0.9734 - accuracy: 0.6591 - val_loss: 0.9650 - val_accuracy: 0.6868 - lr: 1.0000e-04\n",
            "Epoch 10/40\n",
            "313/313 [==============================] - 7s 22ms/step - loss: 0.8986 - accuracy: 0.6872 - val_loss: 0.7911 - val_accuracy: 0.7180 - lr: 1.0000e-04\n",
            "Epoch 11/40\n",
            "313/313 [==============================] - 7s 22ms/step - loss: 0.8380 - accuracy: 0.7095 - val_loss: 0.7449 - val_accuracy: 0.7390 - lr: 1.0000e-04\n",
            "Epoch 12/40\n",
            "313/313 [==============================] - 7s 22ms/step - loss: 0.7812 - accuracy: 0.7312 - val_loss: 0.8098 - val_accuracy: 0.7273 - lr: 1.0000e-04\n",
            "Epoch 13/40\n",
            "313/313 [==============================] - 7s 22ms/step - loss: 0.7227 - accuracy: 0.7527 - val_loss: 0.8087 - val_accuracy: 0.7329 - lr: 1.0000e-04\n",
            "Epoch 14/40\n",
            "313/313 [==============================] - 7s 22ms/step - loss: 0.6835 - accuracy: 0.7669 - val_loss: 0.8061 - val_accuracy: 0.7422 - lr: 1.0000e-04\n",
            "Epoch 15/40\n",
            "313/313 [==============================] - 7s 22ms/step - loss: 0.6373 - accuracy: 0.7839 - val_loss: 0.6919 - val_accuracy: 0.7704 - lr: 1.0000e-04\n",
            "Epoch 16/40\n",
            "313/313 [==============================] - 7s 22ms/step - loss: 0.5931 - accuracy: 0.8007 - val_loss: 0.8257 - val_accuracy: 0.7412 - lr: 1.0000e-04\n",
            "Epoch 17/40\n",
            "313/313 [==============================] - 7s 22ms/step - loss: 0.5587 - accuracy: 0.8126 - val_loss: 0.6475 - val_accuracy: 0.7909 - lr: 1.0000e-04\n",
            "Epoch 18/40\n",
            "313/313 [==============================] - 7s 22ms/step - loss: 0.5198 - accuracy: 0.8255 - val_loss: 0.6370 - val_accuracy: 0.7931 - lr: 1.0000e-04\n",
            "Epoch 19/40\n",
            "313/313 [==============================] - 7s 22ms/step - loss: 0.4872 - accuracy: 0.8354 - val_loss: 0.6229 - val_accuracy: 0.7949 - lr: 1.0000e-04\n",
            "Epoch 20/40\n",
            "313/313 [==============================] - 7s 22ms/step - loss: 0.4410 - accuracy: 0.8530 - val_loss: 0.6725 - val_accuracy: 0.7952 - lr: 1.0000e-04\n",
            "Epoch 21/40\n",
            "313/313 [==============================] - 7s 22ms/step - loss: 0.3439 - accuracy: 0.8875 - val_loss: 0.5450 - val_accuracy: 0.8271 - lr: 1.0000e-05\n",
            "Epoch 22/40\n",
            "313/313 [==============================] - 7s 22ms/step - loss: 0.3129 - accuracy: 0.8991 - val_loss: 0.5414 - val_accuracy: 0.8312 - lr: 1.0000e-05\n",
            "Epoch 23/40\n",
            "313/313 [==============================] - 7s 22ms/step - loss: 0.3011 - accuracy: 0.9011 - val_loss: 0.5517 - val_accuracy: 0.8303 - lr: 1.0000e-05\n",
            "Epoch 24/40\n",
            "313/313 [==============================] - 7s 22ms/step - loss: 0.2855 - accuracy: 0.9072 - val_loss: 0.5583 - val_accuracy: 0.8299 - lr: 1.0000e-05\n",
            "Epoch 25/40\n",
            "313/313 [==============================] - 7s 22ms/step - loss: 0.2774 - accuracy: 0.9097 - val_loss: 0.5522 - val_accuracy: 0.8337 - lr: 1.0000e-05\n",
            "Epoch 26/40\n",
            "313/313 [==============================] - 7s 22ms/step - loss: 0.2663 - accuracy: 0.9119 - val_loss: 0.5547 - val_accuracy: 0.8320 - lr: 1.0000e-05\n",
            "Epoch 27/40\n",
            "313/313 [==============================] - 7s 22ms/step - loss: 0.2622 - accuracy: 0.9148 - val_loss: 0.5833 - val_accuracy: 0.8268 - lr: 1.0000e-05\n",
            "Epoch 28/40\n",
            "313/313 [==============================] - 7s 22ms/step - loss: 0.2493 - accuracy: 0.9178 - val_loss: 0.5729 - val_accuracy: 0.8311 - lr: 1.0000e-05\n",
            "Epoch 29/40\n",
            "313/313 [==============================] - 7s 22ms/step - loss: 0.2404 - accuracy: 0.9213 - val_loss: 0.5785 - val_accuracy: 0.8338 - lr: 1.0000e-05\n",
            "Epoch 30/40\n",
            "313/313 [==============================] - 7s 22ms/step - loss: 0.2309 - accuracy: 0.9236 - val_loss: 0.5890 - val_accuracy: 0.8312 - lr: 1.0000e-05\n",
            "Epoch 31/40\n",
            "313/313 [==============================] - 7s 22ms/step - loss: 0.2194 - accuracy: 0.9278 - val_loss: 0.5774 - val_accuracy: 0.8370 - lr: 1.0000e-06\n",
            "Epoch 32/40\n",
            "313/313 [==============================] - 7s 22ms/step - loss: 0.2211 - accuracy: 0.9280 - val_loss: 0.5763 - val_accuracy: 0.8382 - lr: 1.0000e-06\n",
            "Epoch 33/40\n",
            "313/313 [==============================] - 7s 22ms/step - loss: 0.2217 - accuracy: 0.9283 - val_loss: 0.5737 - val_accuracy: 0.8381 - lr: 1.0000e-06\n",
            "Epoch 34/40\n",
            "313/313 [==============================] - 7s 22ms/step - loss: 0.2151 - accuracy: 0.9303 - val_loss: 0.5755 - val_accuracy: 0.8370 - lr: 1.0000e-06\n",
            "Epoch 35/40\n",
            "313/313 [==============================] - 7s 22ms/step - loss: 0.2174 - accuracy: 0.9296 - val_loss: 0.5747 - val_accuracy: 0.8371 - lr: 1.0000e-06\n",
            "Epoch 36/40\n",
            "313/313 [==============================] - 7s 22ms/step - loss: 0.2142 - accuracy: 0.9309 - val_loss: 0.5797 - val_accuracy: 0.8360 - lr: 1.0000e-06\n",
            "Epoch 37/40\n",
            "313/313 [==============================] - 7s 22ms/step - loss: 0.2140 - accuracy: 0.9311 - val_loss: 0.5773 - val_accuracy: 0.8381 - lr: 1.0000e-06\n",
            "Epoch 38/40\n",
            "313/313 [==============================] - 7s 22ms/step - loss: 0.2114 - accuracy: 0.9313 - val_loss: 0.5776 - val_accuracy: 0.8381 - lr: 1.0000e-06\n",
            "Epoch 39/40\n",
            "313/313 [==============================] - 7s 22ms/step - loss: 0.2135 - accuracy: 0.9302 - val_loss: 0.5813 - val_accuracy: 0.8367 - lr: 1.0000e-06\n",
            "Epoch 40/40\n",
            "313/313 [==============================] - 7s 22ms/step - loss: 0.2113 - accuracy: 0.9322 - val_loss: 0.5799 - val_accuracy: 0.8366 - lr: 1.0000e-06\n"
          ]
        }
      ]
    },
    {
      "cell_type": "markdown",
      "source": [
        "## Optimiser Experiments"
      ],
      "metadata": {
        "id": "YyZcPkTKenX0"
      }
    },
    {
      "cell_type": "markdown",
      "source": [
        "### Adam Optimiser"
      ],
      "metadata": {
        "id": "nIJzx66dbhdT"
      }
    },
    {
      "cell_type": "code",
      "source": [
        "model = create_base_model()"
      ],
      "metadata": {
        "id": "qRRdzWvrOJPC"
      },
      "execution_count": null,
      "outputs": []
    },
    {
      "cell_type": "code",
      "source": [
        "# Learning rate schedule\n",
        "def lr_schedule(epoch):\n",
        "    if epoch < 20:\n",
        "        return 0.0001\n",
        "    elif epoch < 30:\n",
        "        return 0.00001\n",
        "    else:\n",
        "        return 0.000001\n",
        "\n",
        "# Adam optimizer with initial learning rate\n",
        "optimizer = Adam(learning_rate=0.0001)\n",
        "\n",
        "model.compile(loss='categorical_crossentropy',\n",
        "             optimizer=optimizer,\n",
        "             metrics=['accuracy'])\n",
        "\n",
        "# Learning rate scheduler callback\n",
        "lr_scheduler = LearningRateScheduler(lr_schedule)\n",
        "\n",
        "history = model.fit(input_X_train, output_Y_train, batch_size=128, epochs=40, validation_split=VALIDATION_SPLIT, verbose=VERBOSE, callbacks=[lr_scheduler])"
      ],
      "metadata": {
        "colab": {
          "base_uri": "https://localhost:8080/"
        },
        "id": "yKYULGppOM1N",
        "outputId": "3ebf42fd-ebee-4e66-e59d-11d0b57a4122"
      },
      "execution_count": null,
      "outputs": [
        {
          "output_type": "stream",
          "name": "stdout",
          "text": [
            "Epoch 1/40\n",
            "313/313 [==============================] - 9s 23ms/step - loss: 2.8199 - accuracy: 0.1538 - val_loss: 2.3349 - val_accuracy: 0.1018 - lr: 1.0000e-04\n",
            "Epoch 2/40\n",
            "313/313 [==============================] - 7s 22ms/step - loss: 2.2415 - accuracy: 0.2288 - val_loss: 1.9953 - val_accuracy: 0.2695 - lr: 1.0000e-04\n",
            "Epoch 3/40\n",
            "313/313 [==============================] - 7s 22ms/step - loss: 1.9023 - accuracy: 0.3198 - val_loss: 1.5685 - val_accuracy: 0.4322 - lr: 1.0000e-04\n",
            "Epoch 4/40\n",
            "313/313 [==============================] - 7s 22ms/step - loss: 1.6592 - accuracy: 0.4062 - val_loss: 1.4867 - val_accuracy: 0.4604 - lr: 1.0000e-04\n",
            "Epoch 5/40\n",
            "313/313 [==============================] - 7s 22ms/step - loss: 1.4362 - accuracy: 0.4908 - val_loss: 1.4248 - val_accuracy: 0.5128 - lr: 1.0000e-04\n",
            "Epoch 6/40\n",
            "313/313 [==============================] - 7s 22ms/step - loss: 1.2691 - accuracy: 0.5527 - val_loss: 1.1979 - val_accuracy: 0.6031 - lr: 1.0000e-04\n",
            "Epoch 7/40\n",
            "313/313 [==============================] - 7s 22ms/step - loss: 1.1498 - accuracy: 0.5958 - val_loss: 1.0065 - val_accuracy: 0.6382 - lr: 1.0000e-04\n",
            "Epoch 8/40\n",
            "313/313 [==============================] - 7s 22ms/step - loss: 1.0511 - accuracy: 0.6327 - val_loss: 1.1580 - val_accuracy: 0.6208 - lr: 1.0000e-04\n",
            "Epoch 9/40\n",
            "313/313 [==============================] - 7s 22ms/step - loss: 0.9734 - accuracy: 0.6591 - val_loss: 0.9650 - val_accuracy: 0.6868 - lr: 1.0000e-04\n",
            "Epoch 10/40\n",
            "313/313 [==============================] - 7s 22ms/step - loss: 0.8986 - accuracy: 0.6872 - val_loss: 0.7911 - val_accuracy: 0.7180 - lr: 1.0000e-04\n",
            "Epoch 11/40\n",
            "313/313 [==============================] - 7s 22ms/step - loss: 0.8380 - accuracy: 0.7095 - val_loss: 0.7449 - val_accuracy: 0.7390 - lr: 1.0000e-04\n",
            "Epoch 12/40\n",
            "313/313 [==============================] - 7s 22ms/step - loss: 0.7812 - accuracy: 0.7312 - val_loss: 0.8098 - val_accuracy: 0.7273 - lr: 1.0000e-04\n",
            "Epoch 13/40\n",
            "313/313 [==============================] - 7s 22ms/step - loss: 0.7227 - accuracy: 0.7527 - val_loss: 0.8087 - val_accuracy: 0.7329 - lr: 1.0000e-04\n",
            "Epoch 14/40\n",
            "313/313 [==============================] - 7s 22ms/step - loss: 0.6835 - accuracy: 0.7669 - val_loss: 0.8061 - val_accuracy: 0.7422 - lr: 1.0000e-04\n",
            "Epoch 15/40\n",
            "313/313 [==============================] - 7s 22ms/step - loss: 0.6373 - accuracy: 0.7839 - val_loss: 0.6919 - val_accuracy: 0.7704 - lr: 1.0000e-04\n",
            "Epoch 16/40\n",
            "313/313 [==============================] - 7s 22ms/step - loss: 0.5931 - accuracy: 0.8007 - val_loss: 0.8257 - val_accuracy: 0.7412 - lr: 1.0000e-04\n",
            "Epoch 17/40\n",
            "313/313 [==============================] - 7s 22ms/step - loss: 0.5587 - accuracy: 0.8126 - val_loss: 0.6475 - val_accuracy: 0.7909 - lr: 1.0000e-04\n",
            "Epoch 18/40\n",
            "313/313 [==============================] - 7s 22ms/step - loss: 0.5198 - accuracy: 0.8255 - val_loss: 0.6370 - val_accuracy: 0.7931 - lr: 1.0000e-04\n",
            "Epoch 19/40\n",
            "313/313 [==============================] - 7s 22ms/step - loss: 0.4872 - accuracy: 0.8354 - val_loss: 0.6229 - val_accuracy: 0.7949 - lr: 1.0000e-04\n",
            "Epoch 20/40\n",
            "313/313 [==============================] - 7s 22ms/step - loss: 0.4410 - accuracy: 0.8530 - val_loss: 0.6725 - val_accuracy: 0.7952 - lr: 1.0000e-04\n",
            "Epoch 21/40\n",
            "313/313 [==============================] - 7s 22ms/step - loss: 0.3439 - accuracy: 0.8875 - val_loss: 0.5450 - val_accuracy: 0.8271 - lr: 1.0000e-05\n",
            "Epoch 22/40\n",
            "313/313 [==============================] - 7s 22ms/step - loss: 0.3129 - accuracy: 0.8991 - val_loss: 0.5414 - val_accuracy: 0.8312 - lr: 1.0000e-05\n",
            "Epoch 23/40\n",
            "313/313 [==============================] - 7s 22ms/step - loss: 0.3011 - accuracy: 0.9011 - val_loss: 0.5517 - val_accuracy: 0.8303 - lr: 1.0000e-05\n",
            "Epoch 24/40\n",
            "313/313 [==============================] - 7s 22ms/step - loss: 0.2855 - accuracy: 0.9072 - val_loss: 0.5583 - val_accuracy: 0.8299 - lr: 1.0000e-05\n",
            "Epoch 25/40\n",
            "313/313 [==============================] - 7s 22ms/step - loss: 0.2774 - accuracy: 0.9097 - val_loss: 0.5522 - val_accuracy: 0.8337 - lr: 1.0000e-05\n",
            "Epoch 26/40\n",
            "313/313 [==============================] - 7s 22ms/step - loss: 0.2663 - accuracy: 0.9119 - val_loss: 0.5547 - val_accuracy: 0.8320 - lr: 1.0000e-05\n",
            "Epoch 27/40\n",
            "313/313 [==============================] - 7s 22ms/step - loss: 0.2622 - accuracy: 0.9148 - val_loss: 0.5833 - val_accuracy: 0.8268 - lr: 1.0000e-05\n",
            "Epoch 28/40\n",
            "313/313 [==============================] - 7s 22ms/step - loss: 0.2493 - accuracy: 0.9178 - val_loss: 0.5729 - val_accuracy: 0.8311 - lr: 1.0000e-05\n",
            "Epoch 29/40\n",
            "313/313 [==============================] - 7s 22ms/step - loss: 0.2404 - accuracy: 0.9213 - val_loss: 0.5785 - val_accuracy: 0.8338 - lr: 1.0000e-05\n",
            "Epoch 30/40\n",
            "313/313 [==============================] - 7s 22ms/step - loss: 0.2309 - accuracy: 0.9236 - val_loss: 0.5890 - val_accuracy: 0.8312 - lr: 1.0000e-05\n",
            "Epoch 31/40\n",
            "313/313 [==============================] - 7s 22ms/step - loss: 0.2194 - accuracy: 0.9278 - val_loss: 0.5774 - val_accuracy: 0.8370 - lr: 1.0000e-06\n",
            "Epoch 32/40\n",
            "313/313 [==============================] - 7s 22ms/step - loss: 0.2211 - accuracy: 0.9280 - val_loss: 0.5763 - val_accuracy: 0.8382 - lr: 1.0000e-06\n",
            "Epoch 33/40\n",
            "313/313 [==============================] - 7s 22ms/step - loss: 0.2217 - accuracy: 0.9283 - val_loss: 0.5737 - val_accuracy: 0.8381 - lr: 1.0000e-06\n",
            "Epoch 34/40\n",
            "313/313 [==============================] - 7s 22ms/step - loss: 0.2151 - accuracy: 0.9303 - val_loss: 0.5755 - val_accuracy: 0.8370 - lr: 1.0000e-06\n",
            "Epoch 35/40\n",
            "313/313 [==============================] - 7s 22ms/step - loss: 0.2174 - accuracy: 0.9296 - val_loss: 0.5747 - val_accuracy: 0.8371 - lr: 1.0000e-06\n",
            "Epoch 36/40\n",
            "313/313 [==============================] - 7s 22ms/step - loss: 0.2142 - accuracy: 0.9309 - val_loss: 0.5797 - val_accuracy: 0.8360 - lr: 1.0000e-06\n",
            "Epoch 37/40\n",
            "313/313 [==============================] - 7s 22ms/step - loss: 0.2140 - accuracy: 0.9311 - val_loss: 0.5773 - val_accuracy: 0.8381 - lr: 1.0000e-06\n",
            "Epoch 38/40\n",
            "313/313 [==============================] - 7s 22ms/step - loss: 0.2114 - accuracy: 0.9313 - val_loss: 0.5776 - val_accuracy: 0.8381 - lr: 1.0000e-06\n",
            "Epoch 39/40\n",
            "313/313 [==============================] - 7s 22ms/step - loss: 0.2135 - accuracy: 0.9302 - val_loss: 0.5813 - val_accuracy: 0.8367 - lr: 1.0000e-06\n",
            "Epoch 40/40\n",
            "313/313 [==============================] - 7s 22ms/step - loss: 0.2113 - accuracy: 0.9322 - val_loss: 0.5799 - val_accuracy: 0.8366 - lr: 1.0000e-06\n"
          ]
        }
      ]
    },
    {
      "cell_type": "markdown",
      "source": [
        "### RMSprop Optimiser"
      ],
      "metadata": {
        "id": "3uymmWr8feRA"
      }
    },
    {
      "cell_type": "code",
      "source": [
        "model = create_base_model()"
      ],
      "metadata": {
        "id": "wj9qcGBQfaD0"
      },
      "execution_count": null,
      "outputs": []
    },
    {
      "cell_type": "code",
      "source": [
        "# Learning rate schedule\n",
        "def lr_schedule(epoch):\n",
        "    if epoch < 20:\n",
        "        return 0.0001\n",
        "    elif epoch < 30:\n",
        "        return 0.00001\n",
        "    else:\n",
        "        return 0.000001\n",
        "\n",
        "# RMSprop optimizer with initial learning rate\n",
        "optimizer = RMSprop(learning_rate=0.0001)\n",
        "\n",
        "model.compile(loss='categorical_crossentropy',\n",
        "             optimizer=optimizer,\n",
        "             metrics=['accuracy'])\n",
        "\n",
        "# Learning rate scheduler callback\n",
        "lr_scheduler = LearningRateScheduler(lr_schedule)\n",
        "\n",
        "history = model.fit(input_X_train, output_Y_train, batch_size=128, epochs=40, validation_split=VALIDATION_SPLIT, verbose=VERBOSE, callbacks=[lr_scheduler])\n"
      ],
      "metadata": {
        "colab": {
          "base_uri": "https://localhost:8080/"
        },
        "outputId": "b1cfeadc-3361-4daa-a953-90fe3d415ab0",
        "id": "GtdIh1clfdJt"
      },
      "execution_count": null,
      "outputs": [
        {
          "output_type": "stream",
          "name": "stdout",
          "text": [
            "Epoch 1/40\n",
            "313/313 [==============================] - 10s 25ms/step - loss: 2.7568 - accuracy: 0.1616 - val_loss: 2.3452 - val_accuracy: 0.1279 - lr: 1.0000e-04\n",
            "Epoch 2/40\n",
            "313/313 [==============================] - 7s 24ms/step - loss: 2.1961 - accuracy: 0.2462 - val_loss: 1.7203 - val_accuracy: 0.3527 - lr: 1.0000e-04\n",
            "Epoch 3/40\n",
            "313/313 [==============================] - 7s 24ms/step - loss: 1.8364 - accuracy: 0.3435 - val_loss: 1.5050 - val_accuracy: 0.4583 - lr: 1.0000e-04\n",
            "Epoch 4/40\n",
            "313/313 [==============================] - 7s 24ms/step - loss: 1.5743 - accuracy: 0.4362 - val_loss: 1.6571 - val_accuracy: 0.4418 - lr: 1.0000e-04\n",
            "Epoch 5/40\n",
            "313/313 [==============================] - 7s 24ms/step - loss: 1.3756 - accuracy: 0.5120 - val_loss: 1.5489 - val_accuracy: 0.4919 - lr: 1.0000e-04\n",
            "Epoch 6/40\n",
            "313/313 [==============================] - 7s 24ms/step - loss: 1.2284 - accuracy: 0.5659 - val_loss: 1.8587 - val_accuracy: 0.4441 - lr: 1.0000e-04\n",
            "Epoch 7/40\n",
            "313/313 [==============================] - 7s 24ms/step - loss: 1.1281 - accuracy: 0.6016 - val_loss: 0.9924 - val_accuracy: 0.6432 - lr: 1.0000e-04\n",
            "Epoch 8/40\n",
            "313/313 [==============================] - 8s 24ms/step - loss: 1.0379 - accuracy: 0.6388 - val_loss: 1.1064 - val_accuracy: 0.6176 - lr: 1.0000e-04\n",
            "Epoch 9/40\n",
            "313/313 [==============================] - 7s 24ms/step - loss: 0.9592 - accuracy: 0.6673 - val_loss: 0.8610 - val_accuracy: 0.6969 - lr: 1.0000e-04\n",
            "Epoch 10/40\n",
            "313/313 [==============================] - 7s 24ms/step - loss: 0.8959 - accuracy: 0.6877 - val_loss: 1.1316 - val_accuracy: 0.6351 - lr: 1.0000e-04\n",
            "Epoch 11/40\n",
            "313/313 [==============================] - 8s 24ms/step - loss: 0.8378 - accuracy: 0.7127 - val_loss: 0.8075 - val_accuracy: 0.7204 - lr: 1.0000e-04\n",
            "Epoch 12/40\n",
            "313/313 [==============================] - 8s 24ms/step - loss: 0.7855 - accuracy: 0.7314 - val_loss: 0.9453 - val_accuracy: 0.6656 - lr: 1.0000e-04\n",
            "Epoch 13/40\n",
            "313/313 [==============================] - 8s 24ms/step - loss: 0.7229 - accuracy: 0.7539 - val_loss: 0.7469 - val_accuracy: 0.7497 - lr: 1.0000e-04\n",
            "Epoch 14/40\n",
            "313/313 [==============================] - 8s 24ms/step - loss: 0.6827 - accuracy: 0.7688 - val_loss: 0.7380 - val_accuracy: 0.7595 - lr: 1.0000e-04\n",
            "Epoch 15/40\n",
            "313/313 [==============================] - 8s 24ms/step - loss: 0.6405 - accuracy: 0.7831 - val_loss: 0.8384 - val_accuracy: 0.7278 - lr: 1.0000e-04\n",
            "Epoch 16/40\n",
            "313/313 [==============================] - 8s 24ms/step - loss: 0.5985 - accuracy: 0.7983 - val_loss: 0.9329 - val_accuracy: 0.7051 - lr: 1.0000e-04\n",
            "Epoch 17/40\n",
            "313/313 [==============================] - 8s 24ms/step - loss: 0.5638 - accuracy: 0.8096 - val_loss: 0.7767 - val_accuracy: 0.7480 - lr: 1.0000e-04\n",
            "Epoch 18/40\n",
            "313/313 [==============================] - 7s 24ms/step - loss: 0.5242 - accuracy: 0.8250 - val_loss: 0.7061 - val_accuracy: 0.7730 - lr: 1.0000e-04\n",
            "Epoch 19/40\n",
            "313/313 [==============================] - 7s 24ms/step - loss: 0.4923 - accuracy: 0.8361 - val_loss: 0.6710 - val_accuracy: 0.7899 - lr: 1.0000e-04\n",
            "Epoch 20/40\n",
            "313/313 [==============================] - 7s 24ms/step - loss: 0.4612 - accuracy: 0.8465 - val_loss: 0.8116 - val_accuracy: 0.7530 - lr: 1.0000e-04\n",
            "Epoch 21/40\n",
            "313/313 [==============================] - 8s 24ms/step - loss: 0.3527 - accuracy: 0.8835 - val_loss: 0.5191 - val_accuracy: 0.8343 - lr: 1.0000e-05\n",
            "Epoch 22/40\n",
            "313/313 [==============================] - 8s 24ms/step - loss: 0.3156 - accuracy: 0.8973 - val_loss: 0.5182 - val_accuracy: 0.8346 - lr: 1.0000e-05\n",
            "Epoch 23/40\n",
            "313/313 [==============================] - 8s 24ms/step - loss: 0.2975 - accuracy: 0.9045 - val_loss: 0.5191 - val_accuracy: 0.8375 - lr: 1.0000e-05\n",
            "Epoch 24/40\n",
            "313/313 [==============================] - 8s 24ms/step - loss: 0.2874 - accuracy: 0.9064 - val_loss: 0.5342 - val_accuracy: 0.8351 - lr: 1.0000e-05\n",
            "Epoch 25/40\n",
            "313/313 [==============================] - 8s 24ms/step - loss: 0.2790 - accuracy: 0.9093 - val_loss: 0.5590 - val_accuracy: 0.8298 - lr: 1.0000e-05\n",
            "Epoch 26/40\n",
            "313/313 [==============================] - 8s 24ms/step - loss: 0.2715 - accuracy: 0.9123 - val_loss: 0.5506 - val_accuracy: 0.8351 - lr: 1.0000e-05\n",
            "Epoch 27/40\n",
            "313/313 [==============================] - 7s 24ms/step - loss: 0.2630 - accuracy: 0.9128 - val_loss: 0.5562 - val_accuracy: 0.8336 - lr: 1.0000e-05\n",
            "Epoch 28/40\n",
            "313/313 [==============================] - 7s 24ms/step - loss: 0.2560 - accuracy: 0.9177 - val_loss: 0.5508 - val_accuracy: 0.8375 - lr: 1.0000e-05\n",
            "Epoch 29/40\n",
            "313/313 [==============================] - 8s 24ms/step - loss: 0.2483 - accuracy: 0.9200 - val_loss: 0.5521 - val_accuracy: 0.8387 - lr: 1.0000e-05\n",
            "Epoch 30/40\n",
            "313/313 [==============================] - 7s 24ms/step - loss: 0.2390 - accuracy: 0.9219 - val_loss: 0.5627 - val_accuracy: 0.8399 - lr: 1.0000e-05\n",
            "Epoch 31/40\n",
            "313/313 [==============================] - 8s 24ms/step - loss: 0.2240 - accuracy: 0.9268 - val_loss: 0.5534 - val_accuracy: 0.8413 - lr: 1.0000e-06\n",
            "Epoch 32/40\n",
            "313/313 [==============================] - 7s 24ms/step - loss: 0.2269 - accuracy: 0.9272 - val_loss: 0.5528 - val_accuracy: 0.8418 - lr: 1.0000e-06\n",
            "Epoch 33/40\n",
            "313/313 [==============================] - 7s 24ms/step - loss: 0.2231 - accuracy: 0.9261 - val_loss: 0.5559 - val_accuracy: 0.8413 - lr: 1.0000e-06\n",
            "Epoch 34/40\n",
            "313/313 [==============================] - 8s 24ms/step - loss: 0.2258 - accuracy: 0.9280 - val_loss: 0.5532 - val_accuracy: 0.8425 - lr: 1.0000e-06\n",
            "Epoch 35/40\n",
            "313/313 [==============================] - 8s 24ms/step - loss: 0.2228 - accuracy: 0.9284 - val_loss: 0.5510 - val_accuracy: 0.8425 - lr: 1.0000e-06\n",
            "Epoch 36/40\n",
            "313/313 [==============================] - 8s 24ms/step - loss: 0.2225 - accuracy: 0.9283 - val_loss: 0.5505 - val_accuracy: 0.8433 - lr: 1.0000e-06\n",
            "Epoch 37/40\n",
            "313/313 [==============================] - 8s 24ms/step - loss: 0.2188 - accuracy: 0.9296 - val_loss: 0.5540 - val_accuracy: 0.8415 - lr: 1.0000e-06\n",
            "Epoch 38/40\n",
            "313/313 [==============================] - 8s 24ms/step - loss: 0.2212 - accuracy: 0.9296 - val_loss: 0.5541 - val_accuracy: 0.8428 - lr: 1.0000e-06\n",
            "Epoch 39/40\n",
            "313/313 [==============================] - 7s 24ms/step - loss: 0.2232 - accuracy: 0.9270 - val_loss: 0.5532 - val_accuracy: 0.8423 - lr: 1.0000e-06\n",
            "Epoch 40/40\n",
            "313/313 [==============================] - 7s 24ms/step - loss: 0.2154 - accuracy: 0.9312 - val_loss: 0.5560 - val_accuracy: 0.8421 - lr: 1.0000e-06\n"
          ]
        }
      ]
    },
    {
      "cell_type": "markdown",
      "source": [
        "### SGD Optimiser"
      ],
      "metadata": {
        "id": "zQ1b8dnbl8rT"
      }
    },
    {
      "cell_type": "code",
      "source": [
        "model = create_base_model()"
      ],
      "metadata": {
        "id": "-XDCnDVeboco"
      },
      "execution_count": null,
      "outputs": []
    },
    {
      "cell_type": "code",
      "source": [
        "# Learning rate schedule\n",
        "def lr_schedule(epoch):\n",
        "    if epoch < 20:\n",
        "        return 0.01\n",
        "    elif epoch < 30:\n",
        "        return 0.001\n",
        "    else:\n",
        "        return 0.0001\n",
        "\n",
        "# SGD optimizer with initial learning rate\n",
        "optimizer = SGD(learning_rate=0.01)\n",
        "\n",
        "model.compile(loss='categorical_crossentropy',\n",
        "             optimizer=optimizer,\n",
        "             metrics=['accuracy'])\n",
        "\n",
        "# Learning rate scheduler callback\n",
        "lr_scheduler = LearningRateScheduler(lr_schedule)\n",
        "\n",
        "history = model.fit(input_X_train, output_Y_train, batch_size=128, epochs=40, validation_split=VALIDATION_SPLIT, verbose=VERBOSE, callbacks=[lr_scheduler])\n"
      ],
      "metadata": {
        "colab": {
          "base_uri": "https://localhost:8080/"
        },
        "id": "xVyWuCjobqrO",
        "outputId": "5e0427e5-4297-4b0b-f2a1-5b5291033715"
      },
      "execution_count": null,
      "outputs": [
        {
          "output_type": "stream",
          "name": "stdout",
          "text": [
            "Epoch 1/40\n",
            "313/313 [==============================] - 8s 23ms/step - loss: 0.8379 - accuracy: 0.7092 - val_loss: 2.5168 - val_accuracy: 0.4240 - lr: 0.0100\n",
            "Epoch 2/40\n",
            "313/313 [==============================] - 7s 21ms/step - loss: 0.8092 - accuracy: 0.7163 - val_loss: 1.1786 - val_accuracy: 0.6261 - lr: 0.0100\n",
            "Epoch 3/40\n",
            "313/313 [==============================] - 7s 21ms/step - loss: 0.7868 - accuracy: 0.7253 - val_loss: 1.0372 - val_accuracy: 0.6635 - lr: 0.0100\n",
            "Epoch 4/40\n",
            "313/313 [==============================] - 7s 21ms/step - loss: 0.7671 - accuracy: 0.7294 - val_loss: 1.2211 - val_accuracy: 0.6345 - lr: 0.0100\n",
            "Epoch 5/40\n",
            "313/313 [==============================] - 7s 21ms/step - loss: 0.7406 - accuracy: 0.7431 - val_loss: 0.8340 - val_accuracy: 0.7154 - lr: 0.0100\n",
            "Epoch 6/40\n",
            "313/313 [==============================] - 7s 21ms/step - loss: 0.7127 - accuracy: 0.7516 - val_loss: 0.7348 - val_accuracy: 0.7520 - lr: 0.0100\n",
            "Epoch 7/40\n",
            "313/313 [==============================] - 7s 21ms/step - loss: 0.6969 - accuracy: 0.7586 - val_loss: 0.8841 - val_accuracy: 0.7221 - lr: 0.0100\n",
            "Epoch 8/40\n",
            "313/313 [==============================] - 7s 21ms/step - loss: 0.6748 - accuracy: 0.7668 - val_loss: 0.8228 - val_accuracy: 0.7270 - lr: 0.0100\n",
            "Epoch 9/40\n",
            "313/313 [==============================] - 7s 21ms/step - loss: 0.6537 - accuracy: 0.7752 - val_loss: 0.8895 - val_accuracy: 0.7103 - lr: 0.0100\n",
            "Epoch 10/40\n",
            "313/313 [==============================] - 7s 21ms/step - loss: 0.6374 - accuracy: 0.7792 - val_loss: 1.4079 - val_accuracy: 0.5873 - lr: 0.0100\n",
            "Epoch 11/40\n",
            "313/313 [==============================] - 7s 21ms/step - loss: 0.6247 - accuracy: 0.7876 - val_loss: 1.0450 - val_accuracy: 0.6857 - lr: 0.0100\n",
            "Epoch 12/40\n",
            "313/313 [==============================] - 7s 21ms/step - loss: 0.6018 - accuracy: 0.7934 - val_loss: 0.8694 - val_accuracy: 0.7214 - lr: 0.0100\n",
            "Epoch 13/40\n",
            "313/313 [==============================] - 7s 21ms/step - loss: 0.5903 - accuracy: 0.7965 - val_loss: 0.7480 - val_accuracy: 0.7604 - lr: 0.0100\n",
            "Epoch 14/40\n",
            "313/313 [==============================] - 7s 21ms/step - loss: 0.5745 - accuracy: 0.8046 - val_loss: 1.2596 - val_accuracy: 0.6680 - lr: 0.0100\n",
            "Epoch 15/40\n",
            "313/313 [==============================] - 7s 21ms/step - loss: 0.5469 - accuracy: 0.8145 - val_loss: 0.7156 - val_accuracy: 0.7748 - lr: 0.0100\n",
            "Epoch 16/40\n",
            "313/313 [==============================] - 7s 21ms/step - loss: 0.5446 - accuracy: 0.8157 - val_loss: 0.7267 - val_accuracy: 0.7652 - lr: 0.0100\n",
            "Epoch 17/40\n",
            "313/313 [==============================] - 7s 21ms/step - loss: 0.5256 - accuracy: 0.8224 - val_loss: 2.0695 - val_accuracy: 0.5547 - lr: 0.0100\n",
            "Epoch 18/40\n",
            "313/313 [==============================] - 7s 21ms/step - loss: 0.5090 - accuracy: 0.8273 - val_loss: 0.6403 - val_accuracy: 0.7940 - lr: 0.0100\n",
            "Epoch 19/40\n",
            "313/313 [==============================] - 7s 21ms/step - loss: 0.4933 - accuracy: 0.8328 - val_loss: 0.7042 - val_accuracy: 0.7780 - lr: 0.0100\n",
            "Epoch 20/40\n",
            "313/313 [==============================] - 7s 21ms/step - loss: 0.4760 - accuracy: 0.8407 - val_loss: 0.7237 - val_accuracy: 0.7771 - lr: 0.0100\n",
            "Epoch 21/40\n",
            "313/313 [==============================] - 7s 21ms/step - loss: 0.4008 - accuracy: 0.8666 - val_loss: 0.5463 - val_accuracy: 0.8237 - lr: 0.0010\n",
            "Epoch 22/40\n",
            "313/313 [==============================] - 7s 21ms/step - loss: 0.3820 - accuracy: 0.8739 - val_loss: 0.5348 - val_accuracy: 0.8262 - lr: 0.0010\n",
            "Epoch 23/40\n",
            "313/313 [==============================] - 7s 21ms/step - loss: 0.3724 - accuracy: 0.8746 - val_loss: 0.5447 - val_accuracy: 0.8245 - lr: 0.0010\n",
            "Epoch 24/40\n",
            "313/313 [==============================] - 7s 21ms/step - loss: 0.3654 - accuracy: 0.8767 - val_loss: 0.5298 - val_accuracy: 0.8276 - lr: 0.0010\n",
            "Epoch 25/40\n",
            "313/313 [==============================] - 7s 21ms/step - loss: 0.3589 - accuracy: 0.8824 - val_loss: 0.5423 - val_accuracy: 0.8242 - lr: 0.0010\n",
            "Epoch 26/40\n",
            "313/313 [==============================] - 7s 21ms/step - loss: 0.3540 - accuracy: 0.8822 - val_loss: 0.5760 - val_accuracy: 0.8186 - lr: 0.0010\n",
            "Epoch 27/40\n",
            "313/313 [==============================] - 7s 21ms/step - loss: 0.3530 - accuracy: 0.8830 - val_loss: 0.5463 - val_accuracy: 0.8260 - lr: 0.0010\n",
            "Epoch 28/40\n",
            "313/313 [==============================] - 7s 21ms/step - loss: 0.3456 - accuracy: 0.8846 - val_loss: 0.5282 - val_accuracy: 0.8314 - lr: 0.0010\n",
            "Epoch 29/40\n",
            "313/313 [==============================] - 7s 21ms/step - loss: 0.3425 - accuracy: 0.8875 - val_loss: 0.5335 - val_accuracy: 0.8307 - lr: 0.0010\n",
            "Epoch 30/40\n",
            "313/313 [==============================] - 7s 21ms/step - loss: 0.3407 - accuracy: 0.8875 - val_loss: 0.5339 - val_accuracy: 0.8281 - lr: 0.0010\n",
            "Epoch 31/40\n",
            "313/313 [==============================] - 7s 21ms/step - loss: 0.3329 - accuracy: 0.8916 - val_loss: 0.5322 - val_accuracy: 0.8325 - lr: 1.0000e-04\n",
            "Epoch 32/40\n",
            "313/313 [==============================] - 7s 21ms/step - loss: 0.3309 - accuracy: 0.8899 - val_loss: 0.5333 - val_accuracy: 0.8314 - lr: 1.0000e-04\n",
            "Epoch 33/40\n",
            "313/313 [==============================] - 7s 21ms/step - loss: 0.3308 - accuracy: 0.8902 - val_loss: 0.5335 - val_accuracy: 0.8322 - lr: 1.0000e-04\n",
            "Epoch 34/40\n",
            "313/313 [==============================] - 7s 21ms/step - loss: 0.3292 - accuracy: 0.8921 - val_loss: 0.5330 - val_accuracy: 0.8324 - lr: 1.0000e-04\n",
            "Epoch 35/40\n",
            "313/313 [==============================] - 7s 21ms/step - loss: 0.3330 - accuracy: 0.8905 - val_loss: 0.5343 - val_accuracy: 0.8306 - lr: 1.0000e-04\n",
            "Epoch 36/40\n",
            "313/313 [==============================] - 7s 21ms/step - loss: 0.3260 - accuracy: 0.8921 - val_loss: 0.5340 - val_accuracy: 0.8310 - lr: 1.0000e-04\n",
            "Epoch 37/40\n",
            "313/313 [==============================] - 7s 21ms/step - loss: 0.3304 - accuracy: 0.8918 - val_loss: 0.5322 - val_accuracy: 0.8312 - lr: 1.0000e-04\n",
            "Epoch 38/40\n",
            "313/313 [==============================] - 7s 21ms/step - loss: 0.3268 - accuracy: 0.8921 - val_loss: 0.5364 - val_accuracy: 0.8314 - lr: 1.0000e-04\n",
            "Epoch 39/40\n",
            "313/313 [==============================] - 7s 21ms/step - loss: 0.3280 - accuracy: 0.8933 - val_loss: 0.5349 - val_accuracy: 0.8312 - lr: 1.0000e-04\n",
            "Epoch 40/40\n",
            "313/313 [==============================] - 7s 21ms/step - loss: 0.3244 - accuracy: 0.8945 - val_loss: 0.5319 - val_accuracy: 0.8319 - lr: 1.0000e-04\n"
          ]
        }
      ]
    },
    {
      "cell_type": "markdown",
      "source": [
        "## Batch Size Experiments"
      ],
      "metadata": {
        "id": "H9yPxRxheLkJ"
      }
    },
    {
      "cell_type": "markdown",
      "source": [
        "### Batch Size of 128"
      ],
      "metadata": {
        "id": "WOCh3L2BYZTC"
      }
    },
    {
      "cell_type": "code",
      "source": [
        "model = create_base_model()"
      ],
      "metadata": {
        "id": "WK2Ah57rQLKv"
      },
      "execution_count": null,
      "outputs": []
    },
    {
      "cell_type": "code",
      "source": [
        "from keras.callbacks import LearningRateScheduler\n",
        "\n",
        "# Learning rate schedule\n",
        "def lr_schedule(epoch):\n",
        "    if epoch < 20:\n",
        "        return 0.0001\n",
        "    elif epoch < 30:\n",
        "        return 0.00001\n",
        "    else:\n",
        "        return 0.000001\n",
        "\n",
        "# RMSprop optimizer with initial learning rate\n",
        "optimizer = RMSprop(learning_rate=0.0001)\n",
        "\n",
        "model.compile(loss='categorical_crossentropy',\n",
        "             optimizer=optimizer,\n",
        "             metrics=['accuracy'])\n",
        "\n",
        "# Learning rate scheduler callback\n",
        "lr_scheduler = LearningRateScheduler(lr_schedule)\n",
        "\n",
        "history = model.fit(input_X_train, output_Y_train, batch_size=128, epochs=40, validation_split=VALIDATION_SPLIT, verbose=VERBOSE, callbacks=[lr_scheduler])\n"
      ],
      "metadata": {
        "colab": {
          "base_uri": "https://localhost:8080/"
        },
        "id": "RAYQiUTzQRyW",
        "outputId": "b1cfeadc-3361-4daa-a953-90fe3d415ab0"
      },
      "execution_count": null,
      "outputs": [
        {
          "output_type": "stream",
          "name": "stdout",
          "text": [
            "Epoch 1/40\n",
            "313/313 [==============================] - 10s 25ms/step - loss: 2.7568 - accuracy: 0.1616 - val_loss: 2.3452 - val_accuracy: 0.1279 - lr: 1.0000e-04\n",
            "Epoch 2/40\n",
            "313/313 [==============================] - 7s 24ms/step - loss: 2.1961 - accuracy: 0.2462 - val_loss: 1.7203 - val_accuracy: 0.3527 - lr: 1.0000e-04\n",
            "Epoch 3/40\n",
            "313/313 [==============================] - 7s 24ms/step - loss: 1.8364 - accuracy: 0.3435 - val_loss: 1.5050 - val_accuracy: 0.4583 - lr: 1.0000e-04\n",
            "Epoch 4/40\n",
            "313/313 [==============================] - 7s 24ms/step - loss: 1.5743 - accuracy: 0.4362 - val_loss: 1.6571 - val_accuracy: 0.4418 - lr: 1.0000e-04\n",
            "Epoch 5/40\n",
            "313/313 [==============================] - 7s 24ms/step - loss: 1.3756 - accuracy: 0.5120 - val_loss: 1.5489 - val_accuracy: 0.4919 - lr: 1.0000e-04\n",
            "Epoch 6/40\n",
            "313/313 [==============================] - 7s 24ms/step - loss: 1.2284 - accuracy: 0.5659 - val_loss: 1.8587 - val_accuracy: 0.4441 - lr: 1.0000e-04\n",
            "Epoch 7/40\n",
            "313/313 [==============================] - 7s 24ms/step - loss: 1.1281 - accuracy: 0.6016 - val_loss: 0.9924 - val_accuracy: 0.6432 - lr: 1.0000e-04\n",
            "Epoch 8/40\n",
            "313/313 [==============================] - 8s 24ms/step - loss: 1.0379 - accuracy: 0.6388 - val_loss: 1.1064 - val_accuracy: 0.6176 - lr: 1.0000e-04\n",
            "Epoch 9/40\n",
            "313/313 [==============================] - 7s 24ms/step - loss: 0.9592 - accuracy: 0.6673 - val_loss: 0.8610 - val_accuracy: 0.6969 - lr: 1.0000e-04\n",
            "Epoch 10/40\n",
            "313/313 [==============================] - 7s 24ms/step - loss: 0.8959 - accuracy: 0.6877 - val_loss: 1.1316 - val_accuracy: 0.6351 - lr: 1.0000e-04\n",
            "Epoch 11/40\n",
            "313/313 [==============================] - 8s 24ms/step - loss: 0.8378 - accuracy: 0.7127 - val_loss: 0.8075 - val_accuracy: 0.7204 - lr: 1.0000e-04\n",
            "Epoch 12/40\n",
            "313/313 [==============================] - 8s 24ms/step - loss: 0.7855 - accuracy: 0.7314 - val_loss: 0.9453 - val_accuracy: 0.6656 - lr: 1.0000e-04\n",
            "Epoch 13/40\n",
            "313/313 [==============================] - 8s 24ms/step - loss: 0.7229 - accuracy: 0.7539 - val_loss: 0.7469 - val_accuracy: 0.7497 - lr: 1.0000e-04\n",
            "Epoch 14/40\n",
            "313/313 [==============================] - 8s 24ms/step - loss: 0.6827 - accuracy: 0.7688 - val_loss: 0.7380 - val_accuracy: 0.7595 - lr: 1.0000e-04\n",
            "Epoch 15/40\n",
            "313/313 [==============================] - 8s 24ms/step - loss: 0.6405 - accuracy: 0.7831 - val_loss: 0.8384 - val_accuracy: 0.7278 - lr: 1.0000e-04\n",
            "Epoch 16/40\n",
            "313/313 [==============================] - 8s 24ms/step - loss: 0.5985 - accuracy: 0.7983 - val_loss: 0.9329 - val_accuracy: 0.7051 - lr: 1.0000e-04\n",
            "Epoch 17/40\n",
            "313/313 [==============================] - 8s 24ms/step - loss: 0.5638 - accuracy: 0.8096 - val_loss: 0.7767 - val_accuracy: 0.7480 - lr: 1.0000e-04\n",
            "Epoch 18/40\n",
            "313/313 [==============================] - 7s 24ms/step - loss: 0.5242 - accuracy: 0.8250 - val_loss: 0.7061 - val_accuracy: 0.7730 - lr: 1.0000e-04\n",
            "Epoch 19/40\n",
            "313/313 [==============================] - 7s 24ms/step - loss: 0.4923 - accuracy: 0.8361 - val_loss: 0.6710 - val_accuracy: 0.7899 - lr: 1.0000e-04\n",
            "Epoch 20/40\n",
            "313/313 [==============================] - 7s 24ms/step - loss: 0.4612 - accuracy: 0.8465 - val_loss: 0.8116 - val_accuracy: 0.7530 - lr: 1.0000e-04\n",
            "Epoch 21/40\n",
            "313/313 [==============================] - 8s 24ms/step - loss: 0.3527 - accuracy: 0.8835 - val_loss: 0.5191 - val_accuracy: 0.8343 - lr: 1.0000e-05\n",
            "Epoch 22/40\n",
            "313/313 [==============================] - 8s 24ms/step - loss: 0.3156 - accuracy: 0.8973 - val_loss: 0.5182 - val_accuracy: 0.8346 - lr: 1.0000e-05\n",
            "Epoch 23/40\n",
            "313/313 [==============================] - 8s 24ms/step - loss: 0.2975 - accuracy: 0.9045 - val_loss: 0.5191 - val_accuracy: 0.8375 - lr: 1.0000e-05\n",
            "Epoch 24/40\n",
            "313/313 [==============================] - 8s 24ms/step - loss: 0.2874 - accuracy: 0.9064 - val_loss: 0.5342 - val_accuracy: 0.8351 - lr: 1.0000e-05\n",
            "Epoch 25/40\n",
            "313/313 [==============================] - 8s 24ms/step - loss: 0.2790 - accuracy: 0.9093 - val_loss: 0.5590 - val_accuracy: 0.8298 - lr: 1.0000e-05\n",
            "Epoch 26/40\n",
            "313/313 [==============================] - 8s 24ms/step - loss: 0.2715 - accuracy: 0.9123 - val_loss: 0.5506 - val_accuracy: 0.8351 - lr: 1.0000e-05\n",
            "Epoch 27/40\n",
            "313/313 [==============================] - 7s 24ms/step - loss: 0.2630 - accuracy: 0.9128 - val_loss: 0.5562 - val_accuracy: 0.8336 - lr: 1.0000e-05\n",
            "Epoch 28/40\n",
            "313/313 [==============================] - 7s 24ms/step - loss: 0.2560 - accuracy: 0.9177 - val_loss: 0.5508 - val_accuracy: 0.8375 - lr: 1.0000e-05\n",
            "Epoch 29/40\n",
            "313/313 [==============================] - 8s 24ms/step - loss: 0.2483 - accuracy: 0.9200 - val_loss: 0.5521 - val_accuracy: 0.8387 - lr: 1.0000e-05\n",
            "Epoch 30/40\n",
            "313/313 [==============================] - 7s 24ms/step - loss: 0.2390 - accuracy: 0.9219 - val_loss: 0.5627 - val_accuracy: 0.8399 - lr: 1.0000e-05\n",
            "Epoch 31/40\n",
            "313/313 [==============================] - 8s 24ms/step - loss: 0.2240 - accuracy: 0.9268 - val_loss: 0.5534 - val_accuracy: 0.8413 - lr: 1.0000e-06\n",
            "Epoch 32/40\n",
            "313/313 [==============================] - 7s 24ms/step - loss: 0.2269 - accuracy: 0.9272 - val_loss: 0.5528 - val_accuracy: 0.8418 - lr: 1.0000e-06\n",
            "Epoch 33/40\n",
            "313/313 [==============================] - 7s 24ms/step - loss: 0.2231 - accuracy: 0.9261 - val_loss: 0.5559 - val_accuracy: 0.8413 - lr: 1.0000e-06\n",
            "Epoch 34/40\n",
            "313/313 [==============================] - 8s 24ms/step - loss: 0.2258 - accuracy: 0.9280 - val_loss: 0.5532 - val_accuracy: 0.8425 - lr: 1.0000e-06\n",
            "Epoch 35/40\n",
            "313/313 [==============================] - 8s 24ms/step - loss: 0.2228 - accuracy: 0.9284 - val_loss: 0.5510 - val_accuracy: 0.8425 - lr: 1.0000e-06\n",
            "Epoch 36/40\n",
            "313/313 [==============================] - 8s 24ms/step - loss: 0.2225 - accuracy: 0.9283 - val_loss: 0.5505 - val_accuracy: 0.8433 - lr: 1.0000e-06\n",
            "Epoch 37/40\n",
            "313/313 [==============================] - 8s 24ms/step - loss: 0.2188 - accuracy: 0.9296 - val_loss: 0.5540 - val_accuracy: 0.8415 - lr: 1.0000e-06\n",
            "Epoch 38/40\n",
            "313/313 [==============================] - 8s 24ms/step - loss: 0.2212 - accuracy: 0.9296 - val_loss: 0.5541 - val_accuracy: 0.8428 - lr: 1.0000e-06\n",
            "Epoch 39/40\n",
            "313/313 [==============================] - 7s 24ms/step - loss: 0.2232 - accuracy: 0.9270 - val_loss: 0.5532 - val_accuracy: 0.8423 - lr: 1.0000e-06\n",
            "Epoch 40/40\n",
            "313/313 [==============================] - 7s 24ms/step - loss: 0.2154 - accuracy: 0.9312 - val_loss: 0.5560 - val_accuracy: 0.8421 - lr: 1.0000e-06\n"
          ]
        }
      ]
    },
    {
      "cell_type": "markdown",
      "source": [
        "### Batch Size of 64"
      ],
      "metadata": {
        "id": "785khmDshfDi"
      }
    },
    {
      "cell_type": "code",
      "source": [
        "model = create_base_model()"
      ],
      "metadata": {
        "id": "Cz9TYLzShZLN"
      },
      "execution_count": null,
      "outputs": []
    },
    {
      "cell_type": "code",
      "source": [
        "from keras.callbacks import LearningRateScheduler\n",
        "\n",
        "# Learning rate schedule\n",
        "def lr_schedule(epoch):\n",
        "    if epoch < 20:\n",
        "        return 0.0001\n",
        "    elif epoch < 30:\n",
        "        return 0.00001\n",
        "    else:\n",
        "        return 0.000001\n",
        "\n",
        "# RMSprop optimizer with initial learning rate\n",
        "optimizer = RMSprop(learning_rate=0.0001)\n",
        "\n",
        "model.compile(loss='categorical_crossentropy',\n",
        "             optimizer=optimizer,\n",
        "             metrics=['accuracy'])\n",
        "\n",
        "# Learning rate scheduler callback\n",
        "lr_scheduler = LearningRateScheduler(lr_schedule)\n",
        "\n",
        "history = model.fit(input_X_train, output_Y_train, batch_size=64, epochs=40, validation_split=VALIDATION_SPLIT, verbose=VERBOSE, callbacks=[lr_scheduler])"
      ],
      "metadata": {
        "colab": {
          "base_uri": "https://localhost:8080/"
        },
        "id": "iuxE-ne1hbIk",
        "outputId": "c36f69ba-b5a4-468c-87f0-1409f19edaba"
      },
      "execution_count": null,
      "outputs": [
        {
          "output_type": "stream",
          "name": "stdout",
          "text": [
            "Epoch 1/40\n",
            "625/625 [==============================] - 11s 14ms/step - loss: 2.5958 - accuracy: 0.1846 - val_loss: 1.9760 - val_accuracy: 0.2960 - lr: 1.0000e-04\n",
            "Epoch 2/40\n",
            "625/625 [==============================] - 8s 14ms/step - loss: 2.0011 - accuracy: 0.2955 - val_loss: 1.7325 - val_accuracy: 0.4062 - lr: 1.0000e-04\n",
            "Epoch 3/40\n",
            "625/625 [==============================] - 9s 14ms/step - loss: 1.6739 - accuracy: 0.3965 - val_loss: 1.5473 - val_accuracy: 0.4999 - lr: 1.0000e-04\n",
            "Epoch 4/40\n",
            "625/625 [==============================] - 8s 14ms/step - loss: 1.4399 - accuracy: 0.4841 - val_loss: 1.7807 - val_accuracy: 0.4248 - lr: 1.0000e-04\n",
            "Epoch 5/40\n",
            "625/625 [==============================] - 8s 14ms/step - loss: 1.2658 - accuracy: 0.5544 - val_loss: 1.2819 - val_accuracy: 0.5676 - lr: 1.0000e-04\n",
            "Epoch 6/40\n",
            "625/625 [==============================] - 8s 14ms/step - loss: 1.1450 - accuracy: 0.5958 - val_loss: 1.2013 - val_accuracy: 0.5895 - lr: 1.0000e-04\n",
            "Epoch 7/40\n",
            "625/625 [==============================] - 8s 14ms/step - loss: 1.0399 - accuracy: 0.6365 - val_loss: 1.1155 - val_accuracy: 0.6283 - lr: 1.0000e-04\n",
            "Epoch 8/40\n",
            "625/625 [==============================] - 8s 14ms/step - loss: 0.9575 - accuracy: 0.6653 - val_loss: 0.9131 - val_accuracy: 0.6862 - lr: 1.0000e-04\n",
            "Epoch 9/40\n",
            "625/625 [==============================] - 8s 14ms/step - loss: 0.8811 - accuracy: 0.6952 - val_loss: 0.7593 - val_accuracy: 0.7355 - lr: 1.0000e-04\n",
            "Epoch 10/40\n",
            "625/625 [==============================] - 8s 14ms/step - loss: 0.8108 - accuracy: 0.7218 - val_loss: 1.1296 - val_accuracy: 0.6394 - lr: 1.0000e-04\n",
            "Epoch 11/40\n",
            "625/625 [==============================] - 8s 14ms/step - loss: 0.7552 - accuracy: 0.7427 - val_loss: 0.6842 - val_accuracy: 0.7642 - lr: 1.0000e-04\n",
            "Epoch 12/40\n",
            "625/625 [==============================] - 8s 14ms/step - loss: 0.7045 - accuracy: 0.7610 - val_loss: 0.7049 - val_accuracy: 0.7647 - lr: 1.0000e-04\n",
            "Epoch 13/40\n",
            "625/625 [==============================] - 8s 14ms/step - loss: 0.6566 - accuracy: 0.7790 - val_loss: 0.7033 - val_accuracy: 0.7693 - lr: 1.0000e-04\n",
            "Epoch 14/40\n",
            "625/625 [==============================] - 9s 14ms/step - loss: 0.6114 - accuracy: 0.7965 - val_loss: 0.6322 - val_accuracy: 0.7925 - lr: 1.0000e-04\n",
            "Epoch 15/40\n",
            "625/625 [==============================] - 8s 14ms/step - loss: 0.5750 - accuracy: 0.8087 - val_loss: 0.6359 - val_accuracy: 0.7956 - lr: 1.0000e-04\n",
            "Epoch 16/40\n",
            "625/625 [==============================] - 9s 14ms/step - loss: 0.5359 - accuracy: 0.8206 - val_loss: 0.6672 - val_accuracy: 0.7874 - lr: 1.0000e-04\n",
            "Epoch 17/40\n",
            "625/625 [==============================] - 9s 14ms/step - loss: 0.4976 - accuracy: 0.8358 - val_loss: 0.6749 - val_accuracy: 0.7852 - lr: 1.0000e-04\n",
            "Epoch 18/40\n",
            "625/625 [==============================] - 8s 14ms/step - loss: 0.4631 - accuracy: 0.8456 - val_loss: 0.6484 - val_accuracy: 0.7979 - lr: 1.0000e-04\n",
            "Epoch 19/40\n",
            "625/625 [==============================] - 8s 14ms/step - loss: 0.4318 - accuracy: 0.8564 - val_loss: 0.6423 - val_accuracy: 0.8046 - lr: 1.0000e-04\n",
            "Epoch 20/40\n",
            "625/625 [==============================] - 8s 14ms/step - loss: 0.3979 - accuracy: 0.8676 - val_loss: 0.6537 - val_accuracy: 0.8010 - lr: 1.0000e-04\n",
            "Epoch 21/40\n",
            "625/625 [==============================] - 9s 14ms/step - loss: 0.2794 - accuracy: 0.9091 - val_loss: 0.4881 - val_accuracy: 0.8504 - lr: 1.0000e-05\n",
            "Epoch 22/40\n",
            "625/625 [==============================] - 8s 14ms/step - loss: 0.2493 - accuracy: 0.9197 - val_loss: 0.4860 - val_accuracy: 0.8517 - lr: 1.0000e-05\n",
            "Epoch 23/40\n",
            "625/625 [==============================] - 8s 14ms/step - loss: 0.2369 - accuracy: 0.9244 - val_loss: 0.4923 - val_accuracy: 0.8534 - lr: 1.0000e-05\n",
            "Epoch 24/40\n",
            "625/625 [==============================] - 8s 14ms/step - loss: 0.2232 - accuracy: 0.9286 - val_loss: 0.4983 - val_accuracy: 0.8552 - lr: 1.0000e-05\n",
            "Epoch 25/40\n",
            "625/625 [==============================] - 8s 14ms/step - loss: 0.2153 - accuracy: 0.9320 - val_loss: 0.5073 - val_accuracy: 0.8527 - lr: 1.0000e-05\n",
            "Epoch 26/40\n",
            "625/625 [==============================] - 9s 14ms/step - loss: 0.2044 - accuracy: 0.9343 - val_loss: 0.5231 - val_accuracy: 0.8509 - lr: 1.0000e-05\n",
            "Epoch 27/40\n",
            "625/625 [==============================] - 9s 14ms/step - loss: 0.1938 - accuracy: 0.9381 - val_loss: 0.5242 - val_accuracy: 0.8532 - lr: 1.0000e-05\n",
            "Epoch 28/40\n",
            "625/625 [==============================] - 9s 14ms/step - loss: 0.1887 - accuracy: 0.9397 - val_loss: 0.5334 - val_accuracy: 0.8529 - lr: 1.0000e-05\n",
            "Epoch 29/40\n",
            "625/625 [==============================] - 8s 14ms/step - loss: 0.1834 - accuracy: 0.9402 - val_loss: 0.5373 - val_accuracy: 0.8521 - lr: 1.0000e-05\n",
            "Epoch 30/40\n",
            "625/625 [==============================] - 8s 14ms/step - loss: 0.1788 - accuracy: 0.9435 - val_loss: 0.5427 - val_accuracy: 0.8533 - lr: 1.0000e-05\n",
            "Epoch 31/40\n",
            "625/625 [==============================] - 8s 14ms/step - loss: 0.1639 - accuracy: 0.9473 - val_loss: 0.5358 - val_accuracy: 0.8562 - lr: 1.0000e-06\n",
            "Epoch 32/40\n",
            "625/625 [==============================] - 8s 13ms/step - loss: 0.1611 - accuracy: 0.9493 - val_loss: 0.5352 - val_accuracy: 0.8577 - lr: 1.0000e-06\n",
            "Epoch 33/40\n",
            "625/625 [==============================] - 9s 14ms/step - loss: 0.1624 - accuracy: 0.9483 - val_loss: 0.5361 - val_accuracy: 0.8576 - lr: 1.0000e-06\n",
            "Epoch 34/40\n",
            "625/625 [==============================] - 8s 14ms/step - loss: 0.1593 - accuracy: 0.9485 - val_loss: 0.5370 - val_accuracy: 0.8578 - lr: 1.0000e-06\n",
            "Epoch 35/40\n",
            "625/625 [==============================] - 8s 14ms/step - loss: 0.1610 - accuracy: 0.9482 - val_loss: 0.5372 - val_accuracy: 0.8567 - lr: 1.0000e-06\n",
            "Epoch 36/40\n",
            "625/625 [==============================] - 8s 14ms/step - loss: 0.1549 - accuracy: 0.9510 - val_loss: 0.5374 - val_accuracy: 0.8571 - lr: 1.0000e-06\n",
            "Epoch 37/40\n",
            "625/625 [==============================] - 8s 14ms/step - loss: 0.1584 - accuracy: 0.9493 - val_loss: 0.5393 - val_accuracy: 0.8578 - lr: 1.0000e-06\n",
            "Epoch 38/40\n",
            "625/625 [==============================] - 8s 14ms/step - loss: 0.1555 - accuracy: 0.9503 - val_loss: 0.5399 - val_accuracy: 0.8567 - lr: 1.0000e-06\n",
            "Epoch 39/40\n",
            "625/625 [==============================] - 8s 14ms/step - loss: 0.1570 - accuracy: 0.9506 - val_loss: 0.5387 - val_accuracy: 0.8572 - lr: 1.0000e-06\n",
            "Epoch 40/40\n",
            "625/625 [==============================] - 8s 14ms/step - loss: 0.1578 - accuracy: 0.9502 - val_loss: 0.5440 - val_accuracy: 0.8564 - lr: 1.0000e-06\n"
          ]
        }
      ]
    },
    {
      "cell_type": "markdown",
      "source": [
        "### Batch Size of 16"
      ],
      "metadata": {
        "id": "S77zByHYk0vm"
      }
    },
    {
      "cell_type": "code",
      "source": [
        "model = create_base_model()"
      ],
      "metadata": {
        "id": "G4kmarcIi9KI"
      },
      "execution_count": null,
      "outputs": []
    },
    {
      "cell_type": "code",
      "source": [
        "from keras.callbacks import LearningRateScheduler\n",
        "\n",
        "# Learning rate schedule\n",
        "def lr_schedule(epoch):\n",
        "    if epoch < 20:\n",
        "        return 0.0001\n",
        "    elif epoch < 30:\n",
        "        return 0.00001\n",
        "    else:\n",
        "        return 0.000001\n",
        "\n",
        "# RMSprop optimizer with initial learning rate\n",
        "optimizer = RMSprop(learning_rate=0.0001)\n",
        "\n",
        "model.compile(loss='categorical_crossentropy',\n",
        "             optimizer=optimizer,\n",
        "             metrics=['accuracy'])\n",
        "\n",
        "# Learning rate scheduler callback\n",
        "lr_scheduler = LearningRateScheduler(lr_schedule)\n",
        "\n",
        "history = model.fit(input_X_train, output_Y_train, batch_size=16, epochs=40, validation_split=VALIDATION_SPLIT, verbose=VERBOSE, callbacks=[lr_scheduler])"
      ],
      "metadata": {
        "outputId": "f46ce841-507e-4c5c-c97e-c850bb984a8b",
        "colab": {
          "base_uri": "https://localhost:8080/"
        },
        "id": "azdYQl8hjAOk"
      },
      "execution_count": null,
      "outputs": [
        {
          "output_type": "stream",
          "name": "stdout",
          "text": [
            "Epoch 1/40\n",
            "2500/2500 [==============================] - 24s 9ms/step - loss: 2.6010 - accuracy: 0.1692 - val_loss: 2.3669 - val_accuracy: 0.1399 - lr: 1.0000e-04\n",
            "Epoch 2/40\n",
            "2500/2500 [==============================] - 21s 8ms/step - loss: 2.1640 - accuracy: 0.2036 - val_loss: 1.8482 - val_accuracy: 0.2559 - lr: 1.0000e-04\n",
            "Epoch 3/40\n",
            "2500/2500 [==============================] - 21s 8ms/step - loss: 1.9962 - accuracy: 0.2325 - val_loss: 1.8496 - val_accuracy: 0.2809 - lr: 1.0000e-04\n",
            "Epoch 4/40\n",
            "2500/2500 [==============================] - 21s 8ms/step - loss: 1.8404 - accuracy: 0.2866 - val_loss: 1.5865 - val_accuracy: 0.3614 - lr: 1.0000e-04\n",
            "Epoch 5/40\n",
            "2500/2500 [==============================] - 21s 8ms/step - loss: 1.6700 - accuracy: 0.3593 - val_loss: 1.3817 - val_accuracy: 0.4787 - lr: 1.0000e-04\n",
            "Epoch 6/40\n",
            "2500/2500 [==============================] - 21s 8ms/step - loss: 1.5035 - accuracy: 0.4387 - val_loss: 1.3730 - val_accuracy: 0.5042 - lr: 1.0000e-04\n",
            "Epoch 7/40\n",
            "2500/2500 [==============================] - 21s 8ms/step - loss: 1.3635 - accuracy: 0.5026 - val_loss: 1.2082 - val_accuracy: 0.5468 - lr: 1.0000e-04\n",
            "Epoch 8/40\n",
            "2500/2500 [==============================] - 21s 8ms/step - loss: 1.2563 - accuracy: 0.5475 - val_loss: 1.0542 - val_accuracy: 0.6155 - lr: 1.0000e-04\n",
            "Epoch 9/40\n",
            "2500/2500 [==============================] - 21s 8ms/step - loss: 1.1713 - accuracy: 0.5840 - val_loss: 1.0262 - val_accuracy: 0.6285 - lr: 1.0000e-04\n",
            "Epoch 10/40\n",
            "2500/2500 [==============================] - 21s 8ms/step - loss: 1.0951 - accuracy: 0.6190 - val_loss: 0.9739 - val_accuracy: 0.6525 - lr: 1.0000e-04\n",
            "Epoch 11/40\n",
            "2500/2500 [==============================] - 21s 8ms/step - loss: 1.0239 - accuracy: 0.6464 - val_loss: 0.9396 - val_accuracy: 0.6715 - lr: 1.0000e-04\n",
            "Epoch 12/40\n",
            "2500/2500 [==============================] - 21s 8ms/step - loss: 0.9702 - accuracy: 0.6669 - val_loss: 1.0218 - val_accuracy: 0.6547 - lr: 1.0000e-04\n",
            "Epoch 13/40\n",
            "2500/2500 [==============================] - 21s 8ms/step - loss: 0.9280 - accuracy: 0.6824 - val_loss: 0.9500 - val_accuracy: 0.6611 - lr: 1.0000e-04\n",
            "Epoch 14/40\n",
            "2500/2500 [==============================] - 21s 8ms/step - loss: 0.8851 - accuracy: 0.6982 - val_loss: 0.9163 - val_accuracy: 0.6840 - lr: 1.0000e-04\n",
            "Epoch 15/40\n",
            "2500/2500 [==============================] - 21s 8ms/step - loss: 0.8323 - accuracy: 0.7200 - val_loss: 0.8017 - val_accuracy: 0.7310 - lr: 1.0000e-04\n",
            "Epoch 16/40\n",
            "2500/2500 [==============================] - 21s 8ms/step - loss: 0.8043 - accuracy: 0.7330 - val_loss: 0.7725 - val_accuracy: 0.7448 - lr: 1.0000e-04\n",
            "Epoch 17/40\n",
            "2500/2500 [==============================] - 21s 8ms/step - loss: 0.7739 - accuracy: 0.7437 - val_loss: 0.7646 - val_accuracy: 0.7436 - lr: 1.0000e-04\n",
            "Epoch 18/40\n",
            "2500/2500 [==============================] - 21s 8ms/step - loss: 0.7380 - accuracy: 0.7586 - val_loss: 0.7105 - val_accuracy: 0.7675 - lr: 1.0000e-04\n",
            "Epoch 19/40\n",
            "2500/2500 [==============================] - 21s 8ms/step - loss: 0.7084 - accuracy: 0.7676 - val_loss: 0.7428 - val_accuracy: 0.7563 - lr: 1.0000e-04\n",
            "Epoch 20/40\n",
            "2500/2500 [==============================] - 21s 8ms/step - loss: 0.6810 - accuracy: 0.7794 - val_loss: 0.8705 - val_accuracy: 0.7233 - lr: 1.0000e-04\n",
            "Epoch 21/40\n",
            "2500/2500 [==============================] - 21s 8ms/step - loss: 0.5625 - accuracy: 0.8224 - val_loss: 0.5747 - val_accuracy: 0.8096 - lr: 1.0000e-05\n",
            "Epoch 22/40\n",
            "2500/2500 [==============================] - 21s 8ms/step - loss: 0.5339 - accuracy: 0.8320 - val_loss: 0.5728 - val_accuracy: 0.8110 - lr: 1.0000e-05\n",
            "Epoch 23/40\n",
            "2500/2500 [==============================] - 21s 8ms/step - loss: 0.5245 - accuracy: 0.8365 - val_loss: 0.5732 - val_accuracy: 0.8148 - lr: 1.0000e-05\n",
            "Epoch 24/40\n",
            "2500/2500 [==============================] - 21s 8ms/step - loss: 0.5150 - accuracy: 0.8390 - val_loss: 0.5808 - val_accuracy: 0.8141 - lr: 1.0000e-05\n",
            "Epoch 25/40\n",
            "2500/2500 [==============================] - 21s 8ms/step - loss: 0.5116 - accuracy: 0.8407 - val_loss: 0.5712 - val_accuracy: 0.8170 - lr: 1.0000e-05\n",
            "Epoch 26/40\n",
            "2500/2500 [==============================] - 21s 8ms/step - loss: 0.5028 - accuracy: 0.8447 - val_loss: 0.5807 - val_accuracy: 0.8149 - lr: 1.0000e-05\n",
            "Epoch 27/40\n",
            "2500/2500 [==============================] - 21s 8ms/step - loss: 0.4937 - accuracy: 0.8475 - val_loss: 0.5787 - val_accuracy: 0.8194 - lr: 1.0000e-05\n",
            "Epoch 28/40\n",
            "2500/2500 [==============================] - 21s 8ms/step - loss: 0.4908 - accuracy: 0.8490 - val_loss: 0.5833 - val_accuracy: 0.8187 - lr: 1.0000e-05\n",
            "Epoch 29/40\n",
            "2500/2500 [==============================] - 21s 8ms/step - loss: 0.4826 - accuracy: 0.8509 - val_loss: 0.5729 - val_accuracy: 0.8193 - lr: 1.0000e-05\n",
            "Epoch 30/40\n",
            "2500/2500 [==============================] - 21s 8ms/step - loss: 0.4754 - accuracy: 0.8526 - val_loss: 0.5793 - val_accuracy: 0.8214 - lr: 1.0000e-05\n",
            "Epoch 31/40\n",
            "2500/2500 [==============================] - 21s 9ms/step - loss: 0.4665 - accuracy: 0.8576 - val_loss: 0.5715 - val_accuracy: 0.8222 - lr: 1.0000e-06\n",
            "Epoch 32/40\n",
            "2500/2500 [==============================] - 21s 8ms/step - loss: 0.4667 - accuracy: 0.8571 - val_loss: 0.5718 - val_accuracy: 0.8234 - lr: 1.0000e-06\n",
            "Epoch 33/40\n",
            "2500/2500 [==============================] - 21s 8ms/step - loss: 0.4566 - accuracy: 0.8600 - val_loss: 0.5727 - val_accuracy: 0.8232 - lr: 1.0000e-06\n",
            "Epoch 34/40\n",
            "2500/2500 [==============================] - 21s 8ms/step - loss: 0.4633 - accuracy: 0.8584 - val_loss: 0.5764 - val_accuracy: 0.8228 - lr: 1.0000e-06\n",
            "Epoch 35/40\n",
            "2500/2500 [==============================] - 21s 8ms/step - loss: 0.4604 - accuracy: 0.8578 - val_loss: 0.5760 - val_accuracy: 0.8223 - lr: 1.0000e-06\n",
            "Epoch 36/40\n",
            "2500/2500 [==============================] - 21s 8ms/step - loss: 0.4628 - accuracy: 0.8590 - val_loss: 0.5776 - val_accuracy: 0.8244 - lr: 1.0000e-06\n",
            "Epoch 37/40\n",
            "2500/2500 [==============================] - 21s 8ms/step - loss: 0.4560 - accuracy: 0.8580 - val_loss: 0.5740 - val_accuracy: 0.8220 - lr: 1.0000e-06\n",
            "Epoch 38/40\n",
            "2500/2500 [==============================] - 21s 8ms/step - loss: 0.4610 - accuracy: 0.8583 - val_loss: 0.5785 - val_accuracy: 0.8237 - lr: 1.0000e-06\n",
            "Epoch 39/40\n",
            "2500/2500 [==============================] - 21s 8ms/step - loss: 0.4566 - accuracy: 0.8603 - val_loss: 0.5815 - val_accuracy: 0.8238 - lr: 1.0000e-06\n",
            "Epoch 40/40\n",
            "2500/2500 [==============================] - 21s 8ms/step - loss: 0.4608 - accuracy: 0.8588 - val_loss: 0.5725 - val_accuracy: 0.8216 - lr: 1.0000e-06\n"
          ]
        }
      ]
    },
    {
      "cell_type": "markdown",
      "source": [
        "## Dropout Experiments\n"
      ],
      "metadata": {
        "id": "7fHnGLB6nDMf"
      }
    },
    {
      "cell_type": "markdown",
      "source": [
        "### No batch normalisation"
      ],
      "metadata": {
        "id": "PMmOskM9wRzz"
      }
    },
    {
      "cell_type": "code",
      "source": [
        "model = Sequential()\n",
        "\n",
        "model.add(Conv2D(input_shape=(32,32,3),filters=64,kernel_size=(3,3),padding=\"same\", activation=\"relu\"))\n",
        "model.add(Conv2D(filters=64,kernel_size=(3,3),padding=\"same\", activation=\"relu\"))\n",
        "model.add(MaxPooling2D(pool_size=(2,2),strides=(2,2)))\n",
        "model.add(Dropout(0.2))\n",
        "\n",
        "model.add(Conv2D(filters=128, kernel_size=(3,3), padding=\"same\", activation=\"relu\"))\n",
        "model.add(Conv2D(filters=128, kernel_size=(3,3), padding=\"same\", activation=\"relu\"))\n",
        "model.add(MaxPooling2D(pool_size=(2,2),strides=(2,2)))\n",
        "model.add(Dropout(0.2))\n",
        "\n",
        "model.add(Conv2D(filters=256, kernel_size=(3,3), padding=\"same\", activation=\"relu\"))\n",
        "model.add(Conv2D(filters=256, kernel_size=(3,3), padding=\"same\", activation=\"relu\"))\n",
        "model.add(Conv2D(filters=256, kernel_size=(3,3), padding=\"same\", activation=\"relu\"))\n",
        "model.add(MaxPooling2D(pool_size=(2,2),strides=(2,2)))\n",
        "model.add(Dropout(0.2))\n",
        "\n",
        "model.add(Conv2D(filters=512, kernel_size=(3,3), padding=\"same\", activation=\"relu\"))\n",
        "model.add(Conv2D(filters=512, kernel_size=(3,3), padding=\"same\", activation=\"relu\"))\n",
        "model.add(Conv2D(filters=512, kernel_size=(3,3), padding=\"same\", activation=\"relu\"))\n",
        "model.add(MaxPooling2D(pool_size=(2,2),strides=(2,2)))\n",
        "model.add(Dropout(0.2))\n",
        "\n",
        "# Fully Connected layers\n",
        "model.add(Flatten())\n",
        "\n",
        "model.add(Dense(512, activation='relu'))\n",
        "model.add(Dropout(0.4))\n",
        "\n",
        "model.add(Dense(256, activation='relu'))\n",
        "model.add(Dropout(0.4))\n",
        "\n",
        "model.add(Dense(128, activation='relu'))\n",
        "model.add(Dropout(0.4))\n",
        "\n",
        "model.add(Dense(10, activation='softmax'))"
      ],
      "metadata": {
        "id": "AdZPrm8cnLPD"
      },
      "execution_count": null,
      "outputs": []
    },
    {
      "cell_type": "code",
      "source": [
        "from keras.callbacks import LearningRateScheduler\n",
        "\n",
        "# Learning rate schedule\n",
        "def lr_schedule(epoch):\n",
        "    if epoch < 20:\n",
        "        return 0.0001\n",
        "    elif epoch < 30:\n",
        "        return 0.00001\n",
        "    else:\n",
        "        return 0.000001\n",
        "\n",
        "# RMSprop optimizer with initial learning rate\n",
        "optimizer = RMSprop(learning_rate=0.0001)\n",
        "\n",
        "model.compile(loss='categorical_crossentropy',\n",
        "             optimizer=optimizer,\n",
        "             metrics=['accuracy'])\n",
        "\n",
        "# Learning rate scheduler callback\n",
        "lr_scheduler = LearningRateScheduler(lr_schedule)\n",
        "\n",
        "history = model.fit(input_X_train, output_Y_train, batch_size=64, epochs=40, validation_split=VALIDATION_SPLIT, verbose=VERBOSE, callbacks=[lr_scheduler])"
      ],
      "metadata": {
        "colab": {
          "base_uri": "https://localhost:8080/"
        },
        "outputId": "2d193b83-035d-44db-edf7-c48ae0393441",
        "id": "R5US21yTnYoP"
      },
      "execution_count": null,
      "outputs": [
        {
          "output_type": "stream",
          "name": "stdout",
          "text": [
            "Epoch 1/40\n",
            "625/625 [==============================] - 10s 14ms/step - loss: 2.1199 - accuracy: 0.1867 - val_loss: 1.9111 - val_accuracy: 0.2808 - lr: 1.0000e-04\n",
            "Epoch 2/40\n",
            "625/625 [==============================] - 8s 13ms/step - loss: 1.8097 - accuracy: 0.3129 - val_loss: 1.6195 - val_accuracy: 0.4047 - lr: 1.0000e-04\n",
            "Epoch 3/40\n",
            "625/625 [==============================] - 8s 13ms/step - loss: 1.6126 - accuracy: 0.4002 - val_loss: 1.4242 - val_accuracy: 0.4791 - lr: 1.0000e-04\n",
            "Epoch 4/40\n",
            "625/625 [==============================] - 8s 13ms/step - loss: 1.4683 - accuracy: 0.4686 - val_loss: 1.3104 - val_accuracy: 0.5260 - lr: 1.0000e-04\n",
            "Epoch 5/40\n",
            "625/625 [==============================] - 8s 13ms/step - loss: 1.3543 - accuracy: 0.5180 - val_loss: 1.2802 - val_accuracy: 0.5279 - lr: 1.0000e-04\n",
            "Epoch 6/40\n",
            "625/625 [==============================] - 8s 13ms/step - loss: 1.2449 - accuracy: 0.5641 - val_loss: 1.1493 - val_accuracy: 0.5884 - lr: 1.0000e-04\n",
            "Epoch 7/40\n",
            "625/625 [==============================] - 8s 13ms/step - loss: 1.1444 - accuracy: 0.6060 - val_loss: 1.1322 - val_accuracy: 0.6105 - lr: 1.0000e-04\n",
            "Epoch 8/40\n",
            "625/625 [==============================] - 8s 13ms/step - loss: 1.0636 - accuracy: 0.6365 - val_loss: 0.9440 - val_accuracy: 0.6713 - lr: 1.0000e-04\n",
            "Epoch 9/40\n",
            "625/625 [==============================] - 8s 13ms/step - loss: 0.9831 - accuracy: 0.6682 - val_loss: 0.9391 - val_accuracy: 0.6727 - lr: 1.0000e-04\n",
            "Epoch 10/40\n",
            "625/625 [==============================] - 8s 13ms/step - loss: 0.9080 - accuracy: 0.6947 - val_loss: 0.8434 - val_accuracy: 0.7145 - lr: 1.0000e-04\n",
            "Epoch 11/40\n",
            "625/625 [==============================] - 8s 13ms/step - loss: 0.8439 - accuracy: 0.7152 - val_loss: 0.8272 - val_accuracy: 0.7240 - lr: 1.0000e-04\n",
            "Epoch 12/40\n",
            "625/625 [==============================] - 8s 13ms/step - loss: 0.7841 - accuracy: 0.7392 - val_loss: 0.7819 - val_accuracy: 0.7397 - lr: 1.0000e-04\n",
            "Epoch 13/40\n",
            "625/625 [==============================] - 8s 13ms/step - loss: 0.7326 - accuracy: 0.7574 - val_loss: 0.7876 - val_accuracy: 0.7416 - lr: 1.0000e-04\n",
            "Epoch 14/40\n",
            "625/625 [==============================] - 8s 13ms/step - loss: 0.6856 - accuracy: 0.7754 - val_loss: 0.7309 - val_accuracy: 0.7627 - lr: 1.0000e-04\n",
            "Epoch 15/40\n",
            "625/625 [==============================] - 8s 13ms/step - loss: 0.6422 - accuracy: 0.7894 - val_loss: 0.7326 - val_accuracy: 0.7633 - lr: 1.0000e-04\n",
            "Epoch 16/40\n",
            "625/625 [==============================] - 8s 13ms/step - loss: 0.5974 - accuracy: 0.8057 - val_loss: 0.7074 - val_accuracy: 0.7723 - lr: 1.0000e-04\n",
            "Epoch 17/40\n",
            "625/625 [==============================] - 8s 13ms/step - loss: 0.5623 - accuracy: 0.8169 - val_loss: 0.6924 - val_accuracy: 0.7858 - lr: 1.0000e-04\n",
            "Epoch 18/40\n",
            "625/625 [==============================] - 8s 13ms/step - loss: 0.5355 - accuracy: 0.8284 - val_loss: 0.7230 - val_accuracy: 0.7724 - lr: 1.0000e-04\n",
            "Epoch 19/40\n",
            "625/625 [==============================] - 8s 13ms/step - loss: 0.5014 - accuracy: 0.8392 - val_loss: 0.6519 - val_accuracy: 0.7924 - lr: 1.0000e-04\n",
            "Epoch 20/40\n",
            "625/625 [==============================] - 8s 13ms/step - loss: 0.4691 - accuracy: 0.8507 - val_loss: 0.6679 - val_accuracy: 0.8023 - lr: 1.0000e-04\n",
            "Epoch 21/40\n",
            "625/625 [==============================] - 8s 13ms/step - loss: 0.3158 - accuracy: 0.8956 - val_loss: 0.6839 - val_accuracy: 0.8171 - lr: 1.0000e-05\n",
            "Epoch 22/40\n",
            "625/625 [==============================] - 8s 13ms/step - loss: 0.2951 - accuracy: 0.9028 - val_loss: 0.6518 - val_accuracy: 0.8237 - lr: 1.0000e-05\n",
            "Epoch 23/40\n",
            "625/625 [==============================] - 8s 13ms/step - loss: 0.2786 - accuracy: 0.9097 - val_loss: 0.7083 - val_accuracy: 0.8214 - lr: 1.0000e-05\n",
            "Epoch 24/40\n",
            "625/625 [==============================] - 8s 13ms/step - loss: 0.2630 - accuracy: 0.9137 - val_loss: 0.7106 - val_accuracy: 0.8223 - lr: 1.0000e-05\n",
            "Epoch 25/40\n",
            "625/625 [==============================] - 8s 13ms/step - loss: 0.2593 - accuracy: 0.9157 - val_loss: 0.7087 - val_accuracy: 0.8247 - lr: 1.0000e-05\n",
            "Epoch 26/40\n",
            "625/625 [==============================] - 8s 13ms/step - loss: 0.2496 - accuracy: 0.9186 - val_loss: 0.7044 - val_accuracy: 0.8244 - lr: 1.0000e-05\n",
            "Epoch 27/40\n",
            "625/625 [==============================] - 8s 13ms/step - loss: 0.2441 - accuracy: 0.9200 - val_loss: 0.7385 - val_accuracy: 0.8248 - lr: 1.0000e-05\n",
            "Epoch 28/40\n",
            "625/625 [==============================] - 8s 13ms/step - loss: 0.2429 - accuracy: 0.9217 - val_loss: 0.7031 - val_accuracy: 0.8235 - lr: 1.0000e-05\n",
            "Epoch 29/40\n",
            "625/625 [==============================] - 8s 13ms/step - loss: 0.2309 - accuracy: 0.9250 - val_loss: 0.7523 - val_accuracy: 0.8240 - lr: 1.0000e-05\n",
            "Epoch 30/40\n",
            "625/625 [==============================] - 8s 13ms/step - loss: 0.2213 - accuracy: 0.9278 - val_loss: 0.7774 - val_accuracy: 0.8283 - lr: 1.0000e-05\n",
            "Epoch 31/40\n",
            "625/625 [==============================] - 8s 13ms/step - loss: 0.2102 - accuracy: 0.9307 - val_loss: 0.7566 - val_accuracy: 0.8271 - lr: 1.0000e-06\n",
            "Epoch 32/40\n",
            "625/625 [==============================] - 8s 13ms/step - loss: 0.2098 - accuracy: 0.9319 - val_loss: 0.7527 - val_accuracy: 0.8283 - lr: 1.0000e-06\n",
            "Epoch 33/40\n",
            "625/625 [==============================] - 8s 13ms/step - loss: 0.2103 - accuracy: 0.9322 - val_loss: 0.7636 - val_accuracy: 0.8268 - lr: 1.0000e-06\n",
            "Epoch 34/40\n",
            "625/625 [==============================] - 8s 13ms/step - loss: 0.2094 - accuracy: 0.9320 - val_loss: 0.7588 - val_accuracy: 0.8271 - lr: 1.0000e-06\n",
            "Epoch 35/40\n",
            "625/625 [==============================] - 8s 13ms/step - loss: 0.2034 - accuracy: 0.9332 - val_loss: 0.7560 - val_accuracy: 0.8279 - lr: 1.0000e-06\n",
            "Epoch 36/40\n",
            "625/625 [==============================] - 8s 13ms/step - loss: 0.2020 - accuracy: 0.9351 - val_loss: 0.7570 - val_accuracy: 0.8285 - lr: 1.0000e-06\n",
            "Epoch 37/40\n",
            "625/625 [==============================] - 8s 13ms/step - loss: 0.2045 - accuracy: 0.9342 - val_loss: 0.7686 - val_accuracy: 0.8282 - lr: 1.0000e-06\n",
            "Epoch 38/40\n",
            "625/625 [==============================] - 8s 13ms/step - loss: 0.2043 - accuracy: 0.9344 - val_loss: 0.7618 - val_accuracy: 0.8270 - lr: 1.0000e-06\n",
            "Epoch 39/40\n",
            "625/625 [==============================] - 8s 13ms/step - loss: 0.1994 - accuracy: 0.9354 - val_loss: 0.7567 - val_accuracy: 0.8269 - lr: 1.0000e-06\n",
            "Epoch 40/40\n",
            "625/625 [==============================] - 8s 13ms/step - loss: 0.2013 - accuracy: 0.9343 - val_loss: 0.7628 - val_accuracy: 0.8273 - lr: 1.0000e-06\n"
          ]
        }
      ]
    },
    {
      "cell_type": "markdown",
      "source": [
        "### No Dropout Layers"
      ],
      "metadata": {
        "id": "c0BYk7ebn7c3"
      }
    },
    {
      "cell_type": "code",
      "source": [
        "model = Sequential()\n",
        "\n",
        "model.add(Conv2D(input_shape=(32,32,3),filters=64,kernel_size=(3,3),padding=\"same\", activation=\"relu\"))\n",
        "model.add(Conv2D(filters=64,kernel_size=(3,3),padding=\"same\", activation=\"relu\"))\n",
        "model.add(MaxPooling2D(pool_size=(2,2),strides=(2,2)))\n",
        "\n",
        "model.add(Conv2D(filters=128, kernel_size=(3,3), padding=\"same\", activation=\"relu\"))\n",
        "model.add(Conv2D(filters=128, kernel_size=(3,3), padding=\"same\", activation=\"relu\"))\n",
        "model.add(MaxPooling2D(pool_size=(2,2),strides=(2,2)))\n",
        "\n",
        "model.add(Conv2D(filters=256, kernel_size=(3,3), padding=\"same\", activation=\"relu\"))\n",
        "model.add(Conv2D(filters=256, kernel_size=(3,3), padding=\"same\", activation=\"relu\"))\n",
        "model.add(Conv2D(filters=256, kernel_size=(3,3), padding=\"same\", activation=\"relu\"))\n",
        "model.add(MaxPooling2D(pool_size=(2,2),strides=(2,2)))\n",
        "\n",
        "model.add(Conv2D(filters=512, kernel_size=(3,3), padding=\"same\", activation=\"relu\"))\n",
        "model.add(Conv2D(filters=512, kernel_size=(3,3), padding=\"same\", activation=\"relu\"))\n",
        "model.add(Conv2D(filters=512, kernel_size=(3,3), padding=\"same\", activation=\"relu\"))\n",
        "model.add(MaxPooling2D(pool_size=(2,2),strides=(2,2)))\n",
        "\n",
        "# Fully Connected layers\n",
        "model.add(Flatten())\n",
        "\n",
        "model.add(Dense(512, activation='relu'))\n",
        "\n",
        "model.add(Dense(256, activation='relu'))\n",
        "\n",
        "model.add(Dense(128, activation='relu'))\n",
        "\n",
        "model.add(Dense(10, activation='softmax'))"
      ],
      "metadata": {
        "id": "mI3c93QNpDe1"
      },
      "execution_count": null,
      "outputs": []
    },
    {
      "cell_type": "code",
      "source": [
        "from keras.callbacks import LearningRateScheduler\n",
        "\n",
        "# Learning rate schedule\n",
        "def lr_schedule(epoch):\n",
        "    if epoch < 20:\n",
        "        return 0.0001\n",
        "    elif epoch < 30:\n",
        "        return 0.00001\n",
        "    else:\n",
        "        return 0.000001\n",
        "\n",
        "# RMSprop optimizer with initial learning rate\n",
        "optimizer = RMSprop(learning_rate=0.0001)\n",
        "\n",
        "model.compile(loss='categorical_crossentropy',\n",
        "             optimizer=optimizer,\n",
        "             metrics=['accuracy'])\n",
        "\n",
        "# Learning rate scheduler callback\n",
        "lr_scheduler = LearningRateScheduler(lr_schedule)\n",
        "\n",
        "history = model.fit(input_X_train, output_Y_train, batch_size=64, epochs=40, validation_split=VALIDATION_SPLIT, verbose=VERBOSE, callbacks=[lr_scheduler])"
      ],
      "metadata": {
        "colab": {
          "base_uri": "https://localhost:8080/"
        },
        "id": "gIbEXoWxpG4c",
        "outputId": "800b2a3d-0aa4-4032-d90a-8beb98cde5d4"
      },
      "execution_count": null,
      "outputs": [
        {
          "output_type": "stream",
          "name": "stdout",
          "text": [
            "Epoch 1/40\n",
            "625/625 [==============================] - 10s 14ms/step - loss: 1.8831 - accuracy: 0.2955 - val_loss: 1.6720 - val_accuracy: 0.3759 - lr: 1.0000e-04\n",
            "Epoch 2/40\n",
            "625/625 [==============================] - 8s 13ms/step - loss: 1.5452 - accuracy: 0.4273 - val_loss: 1.4230 - val_accuracy: 0.4659 - lr: 1.0000e-04\n",
            "Epoch 3/40\n",
            "625/625 [==============================] - 8s 13ms/step - loss: 1.3633 - accuracy: 0.4976 - val_loss: 1.3723 - val_accuracy: 0.4934 - lr: 1.0000e-04\n",
            "Epoch 4/40\n",
            "625/625 [==============================] - 8s 13ms/step - loss: 1.2100 - accuracy: 0.5587 - val_loss: 1.1334 - val_accuracy: 0.5802 - lr: 1.0000e-04\n",
            "Epoch 5/40\n",
            "625/625 [==============================] - 8s 13ms/step - loss: 1.0794 - accuracy: 0.6115 - val_loss: 1.0134 - val_accuracy: 0.6364 - lr: 1.0000e-04\n",
            "Epoch 6/40\n",
            "625/625 [==============================] - 8s 13ms/step - loss: 0.9626 - accuracy: 0.6553 - val_loss: 1.2337 - val_accuracy: 0.5872 - lr: 1.0000e-04\n",
            "Epoch 7/40\n",
            "625/625 [==============================] - 8s 13ms/step - loss: 0.8617 - accuracy: 0.6917 - val_loss: 0.9174 - val_accuracy: 0.6754 - lr: 1.0000e-04\n",
            "Epoch 8/40\n",
            "625/625 [==============================] - 8s 13ms/step - loss: 0.7632 - accuracy: 0.7291 - val_loss: 0.8195 - val_accuracy: 0.7141 - lr: 1.0000e-04\n",
            "Epoch 9/40\n",
            "625/625 [==============================] - 8s 13ms/step - loss: 0.6788 - accuracy: 0.7618 - val_loss: 0.7907 - val_accuracy: 0.7258 - lr: 1.0000e-04\n",
            "Epoch 10/40\n",
            "625/625 [==============================] - 8s 13ms/step - loss: 0.5959 - accuracy: 0.7908 - val_loss: 0.7621 - val_accuracy: 0.7390 - lr: 1.0000e-04\n",
            "Epoch 11/40\n",
            "625/625 [==============================] - 8s 13ms/step - loss: 0.5114 - accuracy: 0.8213 - val_loss: 0.8373 - val_accuracy: 0.7376 - lr: 1.0000e-04\n",
            "Epoch 12/40\n",
            "625/625 [==============================] - 8s 13ms/step - loss: 0.4417 - accuracy: 0.8475 - val_loss: 0.7458 - val_accuracy: 0.7606 - lr: 1.0000e-04\n",
            "Epoch 13/40\n",
            "625/625 [==============================] - 8s 13ms/step - loss: 0.3705 - accuracy: 0.8722 - val_loss: 0.8393 - val_accuracy: 0.7389 - lr: 1.0000e-04\n",
            "Epoch 14/40\n",
            "625/625 [==============================] - 8s 13ms/step - loss: 0.3086 - accuracy: 0.8926 - val_loss: 0.7567 - val_accuracy: 0.7716 - lr: 1.0000e-04\n",
            "Epoch 15/40\n",
            "625/625 [==============================] - 8s 13ms/step - loss: 0.2491 - accuracy: 0.9119 - val_loss: 0.9731 - val_accuracy: 0.7542 - lr: 1.0000e-04\n",
            "Epoch 16/40\n",
            "625/625 [==============================] - 8s 13ms/step - loss: 0.2088 - accuracy: 0.9286 - val_loss: 0.8841 - val_accuracy: 0.7732 - lr: 1.0000e-04\n",
            "Epoch 17/40\n",
            "625/625 [==============================] - 8s 13ms/step - loss: 0.1741 - accuracy: 0.9396 - val_loss: 0.9642 - val_accuracy: 0.7654 - lr: 1.0000e-04\n",
            "Epoch 18/40\n",
            "625/625 [==============================] - 8s 13ms/step - loss: 0.1499 - accuracy: 0.9481 - val_loss: 1.0806 - val_accuracy: 0.7692 - lr: 1.0000e-04\n",
            "Epoch 19/40\n",
            "625/625 [==============================] - 8s 13ms/step - loss: 0.1238 - accuracy: 0.9593 - val_loss: 1.0361 - val_accuracy: 0.7674 - lr: 1.0000e-04\n",
            "Epoch 20/40\n",
            "625/625 [==============================] - 8s 13ms/step - loss: 0.1129 - accuracy: 0.9620 - val_loss: 1.5955 - val_accuracy: 0.7163 - lr: 1.0000e-04\n",
            "Epoch 21/40\n",
            "625/625 [==============================] - 8s 13ms/step - loss: 0.0240 - accuracy: 0.9928 - val_loss: 1.3712 - val_accuracy: 0.7885 - lr: 1.0000e-05\n",
            "Epoch 22/40\n",
            "625/625 [==============================] - 8s 13ms/step - loss: 0.0056 - accuracy: 0.9987 - val_loss: 1.7533 - val_accuracy: 0.7891 - lr: 1.0000e-05\n",
            "Epoch 23/40\n",
            "625/625 [==============================] - 8s 13ms/step - loss: 0.0028 - accuracy: 0.9993 - val_loss: 1.9784 - val_accuracy: 0.7923 - lr: 1.0000e-05\n",
            "Epoch 24/40\n",
            "625/625 [==============================] - 8s 13ms/step - loss: 0.0018 - accuracy: 0.9996 - val_loss: 2.2189 - val_accuracy: 0.7901 - lr: 1.0000e-05\n",
            "Epoch 25/40\n",
            "625/625 [==============================] - 8s 13ms/step - loss: 0.0012 - accuracy: 0.9997 - val_loss: 2.5159 - val_accuracy: 0.7907 - lr: 1.0000e-05\n",
            "Epoch 26/40\n",
            "625/625 [==============================] - 8s 13ms/step - loss: 5.1936e-04 - accuracy: 0.9998 - val_loss: 2.9519 - val_accuracy: 0.7921 - lr: 1.0000e-05\n",
            "Epoch 27/40\n",
            "625/625 [==============================] - 8s 13ms/step - loss: 2.7197e-04 - accuracy: 0.9999 - val_loss: 3.1885 - val_accuracy: 0.7905 - lr: 1.0000e-05\n",
            "Epoch 28/40\n",
            "625/625 [==============================] - 8s 13ms/step - loss: 1.9140e-04 - accuracy: 1.0000 - val_loss: 3.5532 - val_accuracy: 0.7925 - lr: 1.0000e-05\n",
            "Epoch 29/40\n",
            "625/625 [==============================] - 8s 13ms/step - loss: 1.0438e-04 - accuracy: 1.0000 - val_loss: 3.7849 - val_accuracy: 0.7917 - lr: 1.0000e-05\n",
            "Epoch 30/40\n",
            "625/625 [==============================] - 8s 13ms/step - loss: 8.8949e-06 - accuracy: 1.0000 - val_loss: 3.8757 - val_accuracy: 0.7908 - lr: 1.0000e-05\n",
            "Epoch 31/40\n",
            "625/625 [==============================] - 8s 13ms/step - loss: 4.7186e-08 - accuracy: 1.0000 - val_loss: 3.9135 - val_accuracy: 0.7917 - lr: 1.0000e-06\n",
            "Epoch 32/40\n",
            "625/625 [==============================] - 8s 13ms/step - loss: 1.2231e-08 - accuracy: 1.0000 - val_loss: 3.9509 - val_accuracy: 0.7918 - lr: 1.0000e-06\n",
            "Epoch 33/40\n",
            "625/625 [==============================] - 8s 13ms/step - loss: 8.8513e-09 - accuracy: 1.0000 - val_loss: 3.9802 - val_accuracy: 0.7920 - lr: 1.0000e-06\n",
            "Epoch 34/40\n",
            "625/625 [==============================] - 8s 13ms/step - loss: 7.0125e-09 - accuracy: 1.0000 - val_loss: 4.0033 - val_accuracy: 0.7923 - lr: 1.0000e-06\n",
            "Epoch 35/40\n",
            "625/625 [==============================] - 8s 13ms/step - loss: 5.9217e-09 - accuracy: 1.0000 - val_loss: 4.0241 - val_accuracy: 0.7922 - lr: 1.0000e-06\n",
            "Epoch 36/40\n",
            "625/625 [==============================] - 8s 13ms/step - loss: 5.1469e-09 - accuracy: 1.0000 - val_loss: 4.0444 - val_accuracy: 0.7920 - lr: 1.0000e-06\n",
            "Epoch 37/40\n",
            "625/625 [==============================] - 8s 13ms/step - loss: 4.5478e-09 - accuracy: 1.0000 - val_loss: 4.0608 - val_accuracy: 0.7921 - lr: 1.0000e-06\n",
            "Epoch 38/40\n",
            "625/625 [==============================] - 8s 13ms/step - loss: 4.0859e-09 - accuracy: 1.0000 - val_loss: 4.0739 - val_accuracy: 0.7920 - lr: 1.0000e-06\n",
            "Epoch 39/40\n",
            "625/625 [==============================] - 8s 13ms/step - loss: 3.7193e-09 - accuracy: 1.0000 - val_loss: 4.0879 - val_accuracy: 0.7921 - lr: 1.0000e-06\n",
            "Epoch 40/40\n",
            "625/625 [==============================] - 8s 13ms/step - loss: 3.4124e-09 - accuracy: 1.0000 - val_loss: 4.0991 - val_accuracy: 0.7926 - lr: 1.0000e-06\n"
          ]
        }
      ]
    },
    {
      "cell_type": "markdown",
      "source": [
        "### Dropout 0.3"
      ],
      "metadata": {
        "id": "2vua-OS7obUU"
      }
    },
    {
      "cell_type": "code",
      "source": [
        "model = Sequential()\n",
        "\n",
        "model.add(Conv2D(input_shape=(32,32,3),filters=64,kernel_size=(3,3),padding=\"same\", activation=\"relu\"))\n",
        "model.add(Conv2D(filters=64,kernel_size=(3,3),padding=\"same\", activation=\"relu\"))\n",
        "model.add(MaxPooling2D(pool_size=(2,2),strides=(2,2)))\n",
        "model.add(Dropout(0.1))\n",
        "\n",
        "model.add(Conv2D(filters=128, kernel_size=(3,3), padding=\"same\", activation=\"relu\"))\n",
        "model.add(Conv2D(filters=128, kernel_size=(3,3), padding=\"same\", activation=\"relu\"))\n",
        "model.add(MaxPooling2D(pool_size=(2,2),strides=(2,2)))\n",
        "model.add(Dropout(0.1))\n",
        "\n",
        "model.add(Conv2D(filters=256, kernel_size=(3,3), padding=\"same\", activation=\"relu\"))\n",
        "model.add(Conv2D(filters=256, kernel_size=(3,3), padding=\"same\", activation=\"relu\"))\n",
        "model.add(Conv2D(filters=256, kernel_size=(3,3), padding=\"same\", activation=\"relu\"))\n",
        "model.add(MaxPooling2D(pool_size=(2,2),strides=(2,2)))\n",
        "model.add(Dropout(0.1))\n",
        "\n",
        "model.add(Conv2D(filters=512, kernel_size=(3,3), padding=\"same\", activation=\"relu\"))\n",
        "model.add(Conv2D(filters=512, kernel_size=(3,3), padding=\"same\", activation=\"relu\"))\n",
        "model.add(Conv2D(filters=512, kernel_size=(3,3), padding=\"same\", activation=\"relu\"))\n",
        "model.add(MaxPooling2D(pool_size=(2,2),strides=(2,2)))\n",
        "model.add(Dropout(0.1))\n",
        "\n",
        "# Fully Connected layers\n",
        "model.add(Flatten())\n",
        "\n",
        "model.add(Dense(512, activation='relu'))\n",
        "model.add(BatchNormalization())\n",
        "model.add(Dropout(0.3))\n",
        "\n",
        "model.add(Dense(256, activation='relu'))\n",
        "model.add(BatchNormalization())\n",
        "model.add(Dropout(0.3))\n",
        "\n",
        "model.add(Dense(128, activation='relu'))\n",
        "model.add(BatchNormalization())\n",
        "model.add(Dropout(0.3))\n",
        "\n",
        "model.add(Dense(10, activation='softmax'))"
      ],
      "metadata": {
        "id": "mWg-xpWiyYCs"
      },
      "execution_count": null,
      "outputs": []
    },
    {
      "cell_type": "code",
      "source": [
        "from keras.callbacks import LearningRateScheduler\n",
        "\n",
        "# Learning rate schedule\n",
        "def lr_schedule(epoch):\n",
        "    if epoch < 20:\n",
        "        return 0.0001\n",
        "    elif epoch < 30:\n",
        "        return 0.00001\n",
        "    else:\n",
        "        return 0.000001\n",
        "\n",
        "# RMSprop optimizer with initial learning rate\n",
        "optimizer = RMSprop(learning_rate=0.0001)\n",
        "\n",
        "model.compile(loss='categorical_crossentropy',\n",
        "             optimizer=optimizer,\n",
        "             metrics=['accuracy'])\n",
        "\n",
        "# Learning rate scheduler callback\n",
        "lr_scheduler = LearningRateScheduler(lr_schedule)\n",
        "\n",
        "history = model.fit(input_X_train, output_Y_train, batch_size=64, epochs=40, validation_split=VALIDATION_SPLIT, verbose=VERBOSE, callbacks=[lr_scheduler])"
      ],
      "metadata": {
        "colab": {
          "base_uri": "https://localhost:8080/"
        },
        "id": "6h0lJYe2yh3j",
        "outputId": "69b02122-c227-478d-e3a5-60b2e81a106c"
      },
      "execution_count": null,
      "outputs": [
        {
          "output_type": "stream",
          "name": "stdout",
          "text": [
            "Epoch 1/40\n",
            "625/625 [==============================] - 11s 14ms/step - loss: 2.3159 - accuracy: 0.2391 - val_loss: 1.8183 - val_accuracy: 0.3770 - lr: 1.0000e-04\n",
            "Epoch 2/40\n",
            "625/625 [==============================] - 9s 14ms/step - loss: 1.6388 - accuracy: 0.4181 - val_loss: 2.0313 - val_accuracy: 0.3634 - lr: 1.0000e-04\n",
            "Epoch 3/40\n",
            "625/625 [==============================] - 9s 14ms/step - loss: 1.3312 - accuracy: 0.5264 - val_loss: 1.7472 - val_accuracy: 0.4649 - lr: 1.0000e-04\n",
            "Epoch 4/40\n",
            "625/625 [==============================] - 9s 14ms/step - loss: 1.1480 - accuracy: 0.5921 - val_loss: 1.0525 - val_accuracy: 0.6313 - lr: 1.0000e-04\n",
            "Epoch 5/40\n",
            "625/625 [==============================] - 9s 14ms/step - loss: 1.0136 - accuracy: 0.6408 - val_loss: 0.8443 - val_accuracy: 0.7029 - lr: 1.0000e-04\n",
            "Epoch 6/40\n",
            "625/625 [==============================] - 9s 14ms/step - loss: 0.9125 - accuracy: 0.6812 - val_loss: 0.9178 - val_accuracy: 0.6929 - lr: 1.0000e-04\n",
            "Epoch 7/40\n",
            "625/625 [==============================] - 9s 14ms/step - loss: 0.8159 - accuracy: 0.7180 - val_loss: 1.1525 - val_accuracy: 0.6397 - lr: 1.0000e-04\n",
            "Epoch 8/40\n",
            "625/625 [==============================] - 9s 14ms/step - loss: 0.7343 - accuracy: 0.7467 - val_loss: 0.7193 - val_accuracy: 0.7546 - lr: 1.0000e-04\n",
            "Epoch 9/40\n",
            "625/625 [==============================] - 9s 14ms/step - loss: 0.6691 - accuracy: 0.7723 - val_loss: 0.8932 - val_accuracy: 0.7187 - lr: 1.0000e-04\n",
            "Epoch 10/40\n",
            "625/625 [==============================] - 9s 14ms/step - loss: 0.6054 - accuracy: 0.7944 - val_loss: 0.7182 - val_accuracy: 0.7566 - lr: 1.0000e-04\n",
            "Epoch 11/40\n",
            "625/625 [==============================] - 9s 14ms/step - loss: 0.5515 - accuracy: 0.8121 - val_loss: 0.8084 - val_accuracy: 0.7385 - lr: 1.0000e-04\n",
            "Epoch 12/40\n",
            "625/625 [==============================] - 9s 14ms/step - loss: 0.4956 - accuracy: 0.8335 - val_loss: 0.9340 - val_accuracy: 0.7094 - lr: 1.0000e-04\n",
            "Epoch 13/40\n",
            "625/625 [==============================] - 9s 14ms/step - loss: 0.4500 - accuracy: 0.8488 - val_loss: 0.9616 - val_accuracy: 0.7140 - lr: 1.0000e-04\n",
            "Epoch 14/40\n",
            "625/625 [==============================] - 9s 14ms/step - loss: 0.4044 - accuracy: 0.8652 - val_loss: 0.7709 - val_accuracy: 0.7664 - lr: 1.0000e-04\n",
            "Epoch 15/40\n",
            "625/625 [==============================] - 9s 14ms/step - loss: 0.3644 - accuracy: 0.8785 - val_loss: 0.6203 - val_accuracy: 0.8082 - lr: 1.0000e-04\n",
            "Epoch 16/40\n",
            "625/625 [==============================] - 9s 14ms/step - loss: 0.3267 - accuracy: 0.8901 - val_loss: 0.7222 - val_accuracy: 0.7892 - lr: 1.0000e-04\n",
            "Epoch 17/40\n",
            "625/625 [==============================] - 9s 14ms/step - loss: 0.2844 - accuracy: 0.9048 - val_loss: 0.7577 - val_accuracy: 0.7851 - lr: 1.0000e-04\n",
            "Epoch 18/40\n",
            "625/625 [==============================] - 9s 14ms/step - loss: 0.2653 - accuracy: 0.9112 - val_loss: 0.7323 - val_accuracy: 0.7927 - lr: 1.0000e-04\n",
            "Epoch 19/40\n",
            "625/625 [==============================] - 9s 14ms/step - loss: 0.2340 - accuracy: 0.9214 - val_loss: 0.7016 - val_accuracy: 0.8093 - lr: 1.0000e-04\n",
            "Epoch 20/40\n",
            "625/625 [==============================] - 9s 14ms/step - loss: 0.2025 - accuracy: 0.9323 - val_loss: 0.6859 - val_accuracy: 0.8186 - lr: 1.0000e-04\n",
            "Epoch 21/40\n",
            "625/625 [==============================] - 9s 14ms/step - loss: 0.0997 - accuracy: 0.9700 - val_loss: 0.5625 - val_accuracy: 0.8430 - lr: 1.0000e-05\n",
            "Epoch 22/40\n",
            "625/625 [==============================] - 9s 14ms/step - loss: 0.0724 - accuracy: 0.9786 - val_loss: 0.5796 - val_accuracy: 0.8460 - lr: 1.0000e-05\n",
            "Epoch 23/40\n",
            "625/625 [==============================] - 9s 14ms/step - loss: 0.0591 - accuracy: 0.9834 - val_loss: 0.5956 - val_accuracy: 0.8464 - lr: 1.0000e-05\n",
            "Epoch 24/40\n",
            "625/625 [==============================] - 9s 14ms/step - loss: 0.0519 - accuracy: 0.9859 - val_loss: 0.6198 - val_accuracy: 0.8452 - lr: 1.0000e-05\n",
            "Epoch 25/40\n",
            "625/625 [==============================] - 9s 14ms/step - loss: 0.0453 - accuracy: 0.9873 - val_loss: 0.6429 - val_accuracy: 0.8438 - lr: 1.0000e-05\n",
            "Epoch 26/40\n",
            "625/625 [==============================] - 9s 14ms/step - loss: 0.0421 - accuracy: 0.9879 - val_loss: 0.6600 - val_accuracy: 0.8455 - lr: 1.0000e-05\n",
            "Epoch 27/40\n",
            "625/625 [==============================] - 9s 14ms/step - loss: 0.0361 - accuracy: 0.9901 - val_loss: 0.6709 - val_accuracy: 0.8464 - lr: 1.0000e-05\n",
            "Epoch 28/40\n",
            "625/625 [==============================] - 9s 14ms/step - loss: 0.0320 - accuracy: 0.9906 - val_loss: 0.6954 - val_accuracy: 0.8441 - lr: 1.0000e-05\n",
            "Epoch 29/40\n",
            "625/625 [==============================] - 9s 14ms/step - loss: 0.0295 - accuracy: 0.9919 - val_loss: 0.6937 - val_accuracy: 0.8460 - lr: 1.0000e-05\n",
            "Epoch 30/40\n",
            "625/625 [==============================] - 9s 14ms/step - loss: 0.0274 - accuracy: 0.9919 - val_loss: 0.7087 - val_accuracy: 0.8477 - lr: 1.0000e-05\n",
            "Epoch 31/40\n",
            "625/625 [==============================] - 9s 14ms/step - loss: 0.0213 - accuracy: 0.9945 - val_loss: 0.7084 - val_accuracy: 0.8474 - lr: 1.0000e-06\n",
            "Epoch 32/40\n",
            "625/625 [==============================] - 9s 14ms/step - loss: 0.0223 - accuracy: 0.9938 - val_loss: 0.7091 - val_accuracy: 0.8479 - lr: 1.0000e-06\n",
            "Epoch 33/40\n",
            "625/625 [==============================] - 9s 14ms/step - loss: 0.0197 - accuracy: 0.9948 - val_loss: 0.7102 - val_accuracy: 0.8477 - lr: 1.0000e-06\n",
            "Epoch 34/40\n",
            "625/625 [==============================] - 9s 14ms/step - loss: 0.0191 - accuracy: 0.9951 - val_loss: 0.7106 - val_accuracy: 0.8476 - lr: 1.0000e-06\n",
            "Epoch 35/40\n",
            "625/625 [==============================] - 9s 14ms/step - loss: 0.0184 - accuracy: 0.9954 - val_loss: 0.7154 - val_accuracy: 0.8484 - lr: 1.0000e-06\n",
            "Epoch 36/40\n",
            "625/625 [==============================] - 9s 14ms/step - loss: 0.0194 - accuracy: 0.9950 - val_loss: 0.7148 - val_accuracy: 0.8490 - lr: 1.0000e-06\n",
            "Epoch 37/40\n",
            "625/625 [==============================] - 9s 14ms/step - loss: 0.0176 - accuracy: 0.9958 - val_loss: 0.7149 - val_accuracy: 0.8490 - lr: 1.0000e-06\n",
            "Epoch 38/40\n",
            "625/625 [==============================] - 9s 14ms/step - loss: 0.0184 - accuracy: 0.9952 - val_loss: 0.7207 - val_accuracy: 0.8494 - lr: 1.0000e-06\n",
            "Epoch 39/40\n",
            "625/625 [==============================] - 9s 14ms/step - loss: 0.0177 - accuracy: 0.9953 - val_loss: 0.7228 - val_accuracy: 0.8503 - lr: 1.0000e-06\n",
            "Epoch 40/40\n",
            "625/625 [==============================] - 9s 14ms/step - loss: 0.0160 - accuracy: 0.9960 - val_loss: 0.7251 - val_accuracy: 0.8484 - lr: 1.0000e-06\n"
          ]
        }
      ]
    },
    {
      "cell_type": "markdown",
      "source": [
        "### Dropout 0.4"
      ],
      "metadata": {
        "id": "T6sDK3K7o3FD"
      }
    },
    {
      "cell_type": "code",
      "source": [
        "model = Sequential()\n",
        "\n",
        "model.add(Conv2D(input_shape=(32,32,3),filters=64,kernel_size=(3,3),padding=\"same\", activation=\"relu\"))\n",
        "model.add(Conv2D(filters=64,kernel_size=(3,3),padding=\"same\", activation=\"relu\"))\n",
        "model.add(MaxPooling2D(pool_size=(2,2),strides=(2,2)))\n",
        "model.add(Dropout(0.2))\n",
        "\n",
        "model.add(Conv2D(filters=128, kernel_size=(3,3), padding=\"same\", activation=\"relu\"))\n",
        "model.add(Conv2D(filters=128, kernel_size=(3,3), padding=\"same\", activation=\"relu\"))\n",
        "model.add(MaxPooling2D(pool_size=(2,2),strides=(2,2)))\n",
        "model.add(Dropout(0.2))\n",
        "\n",
        "model.add(Conv2D(filters=256, kernel_size=(3,3), padding=\"same\", activation=\"relu\"))\n",
        "model.add(Conv2D(filters=256, kernel_size=(3,3), padding=\"same\", activation=\"relu\"))\n",
        "model.add(Conv2D(filters=256, kernel_size=(3,3), padding=\"same\", activation=\"relu\"))\n",
        "model.add(MaxPooling2D(pool_size=(2,2),strides=(2,2)))\n",
        "model.add(Dropout(0.2))\n",
        "\n",
        "model.add(Conv2D(filters=512, kernel_size=(3,3), padding=\"same\", activation=\"relu\"))\n",
        "model.add(Conv2D(filters=512, kernel_size=(3,3), padding=\"same\", activation=\"relu\"))\n",
        "model.add(Conv2D(filters=512, kernel_size=(3,3), padding=\"same\", activation=\"relu\"))\n",
        "model.add(MaxPooling2D(pool_size=(2,2),strides=(2,2)))\n",
        "model.add(Dropout(0.2))\n",
        "\n",
        "# Fully Connected layers\n",
        "model.add(Flatten())\n",
        "\n",
        "model.add(Dense(512, activation='relu'))\n",
        "model.add(BatchNormalization())\n",
        "model.add(Dropout(0.4))\n",
        "\n",
        "model.add(Dense(256, activation='relu'))\n",
        "model.add(BatchNormalization())\n",
        "model.add(Dropout(0.4))\n",
        "\n",
        "model.add(Dense(128, activation='relu'))\n",
        "model.add(BatchNormalization())\n",
        "model.add(Dropout(0.4))\n",
        "\n",
        "model.add(Dense(10, activation='softmax'))"
      ],
      "metadata": {
        "id": "YETsulLso3FO"
      },
      "execution_count": null,
      "outputs": []
    },
    {
      "cell_type": "code",
      "source": [
        "from keras.callbacks import LearningRateScheduler\n",
        "\n",
        "# Learning rate schedule\n",
        "def lr_schedule(epoch):\n",
        "    if epoch < 20:\n",
        "        return 0.0001\n",
        "    elif epoch < 30:\n",
        "        return 0.00001\n",
        "    else:\n",
        "        return 0.000001\n",
        "\n",
        "# RMSprop optimizer with initial learning rate\n",
        "optimizer = RMSprop(learning_rate=0.0001)\n",
        "\n",
        "model.compile(loss='categorical_crossentropy',\n",
        "             optimizer=optimizer,\n",
        "             metrics=['accuracy'])\n",
        "\n",
        "# Learning rate scheduler callback\n",
        "lr_scheduler = LearningRateScheduler(lr_schedule)\n",
        "\n",
        "history = model.fit(input_X_train, output_Y_train, batch_size=64, epochs=40, validation_split=VALIDATION_SPLIT, verbose=VERBOSE, callbacks=[lr_scheduler])"
      ],
      "metadata": {
        "colab": {
          "base_uri": "https://localhost:8080/"
        },
        "outputId": "c36f69ba-b5a4-468c-87f0-1409f19edaba",
        "id": "LeC_ciA4o3FO"
      },
      "execution_count": null,
      "outputs": [
        {
          "output_type": "stream",
          "name": "stdout",
          "text": [
            "Epoch 1/40\n",
            "625/625 [==============================] - 11s 14ms/step - loss: 2.5958 - accuracy: 0.1846 - val_loss: 1.9760 - val_accuracy: 0.2960 - lr: 1.0000e-04\n",
            "Epoch 2/40\n",
            "625/625 [==============================] - 8s 14ms/step - loss: 2.0011 - accuracy: 0.2955 - val_loss: 1.7325 - val_accuracy: 0.4062 - lr: 1.0000e-04\n",
            "Epoch 3/40\n",
            "625/625 [==============================] - 9s 14ms/step - loss: 1.6739 - accuracy: 0.3965 - val_loss: 1.5473 - val_accuracy: 0.4999 - lr: 1.0000e-04\n",
            "Epoch 4/40\n",
            "625/625 [==============================] - 8s 14ms/step - loss: 1.4399 - accuracy: 0.4841 - val_loss: 1.7807 - val_accuracy: 0.4248 - lr: 1.0000e-04\n",
            "Epoch 5/40\n",
            "625/625 [==============================] - 8s 14ms/step - loss: 1.2658 - accuracy: 0.5544 - val_loss: 1.2819 - val_accuracy: 0.5676 - lr: 1.0000e-04\n",
            "Epoch 6/40\n",
            "625/625 [==============================] - 8s 14ms/step - loss: 1.1450 - accuracy: 0.5958 - val_loss: 1.2013 - val_accuracy: 0.5895 - lr: 1.0000e-04\n",
            "Epoch 7/40\n",
            "625/625 [==============================] - 8s 14ms/step - loss: 1.0399 - accuracy: 0.6365 - val_loss: 1.1155 - val_accuracy: 0.6283 - lr: 1.0000e-04\n",
            "Epoch 8/40\n",
            "625/625 [==============================] - 8s 14ms/step - loss: 0.9575 - accuracy: 0.6653 - val_loss: 0.9131 - val_accuracy: 0.6862 - lr: 1.0000e-04\n",
            "Epoch 9/40\n",
            "625/625 [==============================] - 8s 14ms/step - loss: 0.8811 - accuracy: 0.6952 - val_loss: 0.7593 - val_accuracy: 0.7355 - lr: 1.0000e-04\n",
            "Epoch 10/40\n",
            "625/625 [==============================] - 8s 14ms/step - loss: 0.8108 - accuracy: 0.7218 - val_loss: 1.1296 - val_accuracy: 0.6394 - lr: 1.0000e-04\n",
            "Epoch 11/40\n",
            "625/625 [==============================] - 8s 14ms/step - loss: 0.7552 - accuracy: 0.7427 - val_loss: 0.6842 - val_accuracy: 0.7642 - lr: 1.0000e-04\n",
            "Epoch 12/40\n",
            "625/625 [==============================] - 8s 14ms/step - loss: 0.7045 - accuracy: 0.7610 - val_loss: 0.7049 - val_accuracy: 0.7647 - lr: 1.0000e-04\n",
            "Epoch 13/40\n",
            "625/625 [==============================] - 8s 14ms/step - loss: 0.6566 - accuracy: 0.7790 - val_loss: 0.7033 - val_accuracy: 0.7693 - lr: 1.0000e-04\n",
            "Epoch 14/40\n",
            "625/625 [==============================] - 9s 14ms/step - loss: 0.6114 - accuracy: 0.7965 - val_loss: 0.6322 - val_accuracy: 0.7925 - lr: 1.0000e-04\n",
            "Epoch 15/40\n",
            "625/625 [==============================] - 8s 14ms/step - loss: 0.5750 - accuracy: 0.8087 - val_loss: 0.6359 - val_accuracy: 0.7956 - lr: 1.0000e-04\n",
            "Epoch 16/40\n",
            "625/625 [==============================] - 9s 14ms/step - loss: 0.5359 - accuracy: 0.8206 - val_loss: 0.6672 - val_accuracy: 0.7874 - lr: 1.0000e-04\n",
            "Epoch 17/40\n",
            "625/625 [==============================] - 9s 14ms/step - loss: 0.4976 - accuracy: 0.8358 - val_loss: 0.6749 - val_accuracy: 0.7852 - lr: 1.0000e-04\n",
            "Epoch 18/40\n",
            "625/625 [==============================] - 8s 14ms/step - loss: 0.4631 - accuracy: 0.8456 - val_loss: 0.6484 - val_accuracy: 0.7979 - lr: 1.0000e-04\n",
            "Epoch 19/40\n",
            "625/625 [==============================] - 8s 14ms/step - loss: 0.4318 - accuracy: 0.8564 - val_loss: 0.6423 - val_accuracy: 0.8046 - lr: 1.0000e-04\n",
            "Epoch 20/40\n",
            "625/625 [==============================] - 8s 14ms/step - loss: 0.3979 - accuracy: 0.8676 - val_loss: 0.6537 - val_accuracy: 0.8010 - lr: 1.0000e-04\n",
            "Epoch 21/40\n",
            "625/625 [==============================] - 9s 14ms/step - loss: 0.2794 - accuracy: 0.9091 - val_loss: 0.4881 - val_accuracy: 0.8504 - lr: 1.0000e-05\n",
            "Epoch 22/40\n",
            "625/625 [==============================] - 8s 14ms/step - loss: 0.2493 - accuracy: 0.9197 - val_loss: 0.4860 - val_accuracy: 0.8517 - lr: 1.0000e-05\n",
            "Epoch 23/40\n",
            "625/625 [==============================] - 8s 14ms/step - loss: 0.2369 - accuracy: 0.9244 - val_loss: 0.4923 - val_accuracy: 0.8534 - lr: 1.0000e-05\n",
            "Epoch 24/40\n",
            "625/625 [==============================] - 8s 14ms/step - loss: 0.2232 - accuracy: 0.9286 - val_loss: 0.4983 - val_accuracy: 0.8552 - lr: 1.0000e-05\n",
            "Epoch 25/40\n",
            "625/625 [==============================] - 8s 14ms/step - loss: 0.2153 - accuracy: 0.9320 - val_loss: 0.5073 - val_accuracy: 0.8527 - lr: 1.0000e-05\n",
            "Epoch 26/40\n",
            "625/625 [==============================] - 9s 14ms/step - loss: 0.2044 - accuracy: 0.9343 - val_loss: 0.5231 - val_accuracy: 0.8509 - lr: 1.0000e-05\n",
            "Epoch 27/40\n",
            "625/625 [==============================] - 9s 14ms/step - loss: 0.1938 - accuracy: 0.9381 - val_loss: 0.5242 - val_accuracy: 0.8532 - lr: 1.0000e-05\n",
            "Epoch 28/40\n",
            "625/625 [==============================] - 9s 14ms/step - loss: 0.1887 - accuracy: 0.9397 - val_loss: 0.5334 - val_accuracy: 0.8529 - lr: 1.0000e-05\n",
            "Epoch 29/40\n",
            "625/625 [==============================] - 8s 14ms/step - loss: 0.1834 - accuracy: 0.9402 - val_loss: 0.5373 - val_accuracy: 0.8521 - lr: 1.0000e-05\n",
            "Epoch 30/40\n",
            "625/625 [==============================] - 8s 14ms/step - loss: 0.1788 - accuracy: 0.9435 - val_loss: 0.5427 - val_accuracy: 0.8533 - lr: 1.0000e-05\n",
            "Epoch 31/40\n",
            "625/625 [==============================] - 8s 14ms/step - loss: 0.1639 - accuracy: 0.9473 - val_loss: 0.5358 - val_accuracy: 0.8562 - lr: 1.0000e-06\n",
            "Epoch 32/40\n",
            "625/625 [==============================] - 8s 13ms/step - loss: 0.1611 - accuracy: 0.9493 - val_loss: 0.5352 - val_accuracy: 0.8577 - lr: 1.0000e-06\n",
            "Epoch 33/40\n",
            "625/625 [==============================] - 9s 14ms/step - loss: 0.1624 - accuracy: 0.9483 - val_loss: 0.5361 - val_accuracy: 0.8576 - lr: 1.0000e-06\n",
            "Epoch 34/40\n",
            "625/625 [==============================] - 8s 14ms/step - loss: 0.1593 - accuracy: 0.9485 - val_loss: 0.5370 - val_accuracy: 0.8578 - lr: 1.0000e-06\n",
            "Epoch 35/40\n",
            "625/625 [==============================] - 8s 14ms/step - loss: 0.1610 - accuracy: 0.9482 - val_loss: 0.5372 - val_accuracy: 0.8567 - lr: 1.0000e-06\n",
            "Epoch 36/40\n",
            "625/625 [==============================] - 8s 14ms/step - loss: 0.1549 - accuracy: 0.9510 - val_loss: 0.5374 - val_accuracy: 0.8571 - lr: 1.0000e-06\n",
            "Epoch 37/40\n",
            "625/625 [==============================] - 8s 14ms/step - loss: 0.1584 - accuracy: 0.9493 - val_loss: 0.5393 - val_accuracy: 0.8578 - lr: 1.0000e-06\n",
            "Epoch 38/40\n",
            "625/625 [==============================] - 8s 14ms/step - loss: 0.1555 - accuracy: 0.9503 - val_loss: 0.5399 - val_accuracy: 0.8567 - lr: 1.0000e-06\n",
            "Epoch 39/40\n",
            "625/625 [==============================] - 8s 14ms/step - loss: 0.1570 - accuracy: 0.9506 - val_loss: 0.5387 - val_accuracy: 0.8572 - lr: 1.0000e-06\n",
            "Epoch 40/40\n",
            "625/625 [==============================] - 8s 14ms/step - loss: 0.1578 - accuracy: 0.9502 - val_loss: 0.5440 - val_accuracy: 0.8564 - lr: 1.0000e-06\n"
          ]
        }
      ]
    },
    {
      "cell_type": "markdown",
      "source": [
        "### Dropout 0.5"
      ],
      "metadata": {
        "id": "YU77xjlKwdyC"
      }
    },
    {
      "cell_type": "code",
      "source": [
        "model = Sequential()\n",
        "\n",
        "model.add(Conv2D(input_shape=(32,32,3),filters=64,kernel_size=(3,3),padding=\"same\", activation=\"relu\"))\n",
        "model.add(Conv2D(filters=64,kernel_size=(3,3),padding=\"same\", activation=\"relu\"))\n",
        "model.add(MaxPooling2D(pool_size=(2,2),strides=(2,2)))\n",
        "model.add(Dropout(0.3))\n",
        "\n",
        "model.add(Conv2D(filters=128, kernel_size=(3,3), padding=\"same\", activation=\"relu\"))\n",
        "model.add(Conv2D(filters=128, kernel_size=(3,3), padding=\"same\", activation=\"relu\"))\n",
        "model.add(MaxPooling2D(pool_size=(2,2),strides=(2,2)))\n",
        "model.add(Dropout(0.3))\n",
        "\n",
        "model.add(Conv2D(filters=256, kernel_size=(3,3), padding=\"same\", activation=\"relu\"))\n",
        "model.add(Conv2D(filters=256, kernel_size=(3,3), padding=\"same\", activation=\"relu\"))\n",
        "model.add(Conv2D(filters=256, kernel_size=(3,3), padding=\"same\", activation=\"relu\"))\n",
        "model.add(MaxPooling2D(pool_size=(2,2),strides=(2,2)))\n",
        "model.add(Dropout(0.3))\n",
        "\n",
        "model.add(Conv2D(filters=512, kernel_size=(3,3), padding=\"same\", activation=\"relu\"))\n",
        "model.add(Conv2D(filters=512, kernel_size=(3,3), padding=\"same\", activation=\"relu\"))\n",
        "model.add(Conv2D(filters=512, kernel_size=(3,3), padding=\"same\", activation=\"relu\"))\n",
        "model.add(MaxPooling2D(pool_size=(2,2),strides=(2,2)))\n",
        "model.add(Dropout(0.3))\n",
        "\n",
        "# Fully Connected layers\n",
        "model.add(Flatten())\n",
        "\n",
        "model.add(Dense(512, activation='relu'))\n",
        "model.add(BatchNormalization())\n",
        "model.add(Dropout(0.5))\n",
        "\n",
        "model.add(Dense(256, activation='relu'))\n",
        "model.add(BatchNormalization())\n",
        "model.add(Dropout(0.5))\n",
        "\n",
        "model.add(Dense(128, activation='relu'))\n",
        "model.add(BatchNormalization())\n",
        "model.add(Dropout(0.5))\n",
        "\n",
        "model.add(Dense(10, activation='softmax'))"
      ],
      "metadata": {
        "id": "jru6ANZswgbP"
      },
      "execution_count": null,
      "outputs": []
    },
    {
      "cell_type": "code",
      "source": [
        "from keras.callbacks import LearningRateScheduler\n",
        "\n",
        "# Learning rate schedule\n",
        "def lr_schedule(epoch):\n",
        "    if epoch < 20:\n",
        "        return 0.0001\n",
        "    elif epoch < 30:\n",
        "        return 0.00001\n",
        "    else:\n",
        "        return 0.000001\n",
        "\n",
        "# RMSprop optimizer with initial learning rate\n",
        "optimizer = RMSprop(learning_rate=0.0001)\n",
        "\n",
        "model.compile(loss='categorical_crossentropy',\n",
        "             optimizer=optimizer,\n",
        "             metrics=['accuracy'])\n",
        "\n",
        "# Learning rate scheduler callback\n",
        "lr_scheduler = LearningRateScheduler(lr_schedule)\n",
        "\n",
        "history = model.fit(input_X_train, output_Y_train, batch_size=64, epochs=40, validation_split=VALIDATION_SPLIT, verbose=VERBOSE, callbacks=[lr_scheduler])"
      ],
      "metadata": {
        "colab": {
          "base_uri": "https://localhost:8080/"
        },
        "id": "TZ8708QYwvXG",
        "outputId": "9aeced83-98d0-4cff-ef4d-2e4e690a893c"
      },
      "execution_count": null,
      "outputs": [
        {
          "output_type": "stream",
          "name": "stdout",
          "text": [
            "Epoch 1/40\n",
            "625/625 [==============================] - 12s 14ms/step - loss: 2.8660 - accuracy: 0.1530 - val_loss: 2.0448 - val_accuracy: 0.2269 - lr: 1.0000e-04\n",
            "Epoch 2/40\n",
            "625/625 [==============================] - 8s 13ms/step - loss: 2.3337 - accuracy: 0.2122 - val_loss: 1.8784 - val_accuracy: 0.2774 - lr: 1.0000e-04\n",
            "Epoch 3/40\n",
            "625/625 [==============================] - 8s 13ms/step - loss: 2.0118 - accuracy: 0.2790 - val_loss: 1.6281 - val_accuracy: 0.3900 - lr: 1.0000e-04\n",
            "Epoch 4/40\n",
            "625/625 [==============================] - 8s 14ms/step - loss: 1.7921 - accuracy: 0.3351 - val_loss: 1.5574 - val_accuracy: 0.4112 - lr: 1.0000e-04\n",
            "Epoch 5/40\n",
            "625/625 [==============================] - 9s 14ms/step - loss: 1.5757 - accuracy: 0.4257 - val_loss: 1.6496 - val_accuracy: 0.5019 - lr: 1.0000e-04\n",
            "Epoch 6/40\n",
            "625/625 [==============================] - 9s 14ms/step - loss: 1.4025 - accuracy: 0.4990 - val_loss: 1.3145 - val_accuracy: 0.5424 - lr: 1.0000e-04\n",
            "Epoch 7/40\n",
            "625/625 [==============================] - 9s 14ms/step - loss: 1.2854 - accuracy: 0.5461 - val_loss: 1.0418 - val_accuracy: 0.6195 - lr: 1.0000e-04\n",
            "Epoch 8/40\n",
            "625/625 [==============================] - 9s 14ms/step - loss: 1.1791 - accuracy: 0.5858 - val_loss: 1.0834 - val_accuracy: 0.6225 - lr: 1.0000e-04\n",
            "Epoch 9/40\n",
            "625/625 [==============================] - 9s 14ms/step - loss: 1.0921 - accuracy: 0.6209 - val_loss: 0.9377 - val_accuracy: 0.6668 - lr: 1.0000e-04\n",
            "Epoch 10/40\n",
            "625/625 [==============================] - 9s 14ms/step - loss: 1.0215 - accuracy: 0.6457 - val_loss: 0.8988 - val_accuracy: 0.6893 - lr: 1.0000e-04\n",
            "Epoch 11/40\n",
            "625/625 [==============================] - 9s 14ms/step - loss: 0.9538 - accuracy: 0.6717 - val_loss: 0.8974 - val_accuracy: 0.6945 - lr: 1.0000e-04\n",
            "Epoch 12/40\n",
            "625/625 [==============================] - 9s 14ms/step - loss: 0.8941 - accuracy: 0.6946 - val_loss: 0.8209 - val_accuracy: 0.7201 - lr: 1.0000e-04\n",
            "Epoch 13/40\n",
            "625/625 [==============================] - 9s 14ms/step - loss: 0.8514 - accuracy: 0.7110 - val_loss: 0.8130 - val_accuracy: 0.7290 - lr: 1.0000e-04\n",
            "Epoch 14/40\n",
            "625/625 [==============================] - 9s 14ms/step - loss: 0.8068 - accuracy: 0.7279 - val_loss: 1.1793 - val_accuracy: 0.6345 - lr: 1.0000e-04\n",
            "Epoch 15/40\n",
            "625/625 [==============================] - 9s 14ms/step - loss: 0.7652 - accuracy: 0.7424 - val_loss: 0.7825 - val_accuracy: 0.7362 - lr: 1.0000e-04\n",
            "Epoch 16/40\n",
            "625/625 [==============================] - 9s 14ms/step - loss: 0.7288 - accuracy: 0.7589 - val_loss: 0.6546 - val_accuracy: 0.7751 - lr: 1.0000e-04\n",
            "Epoch 17/40\n",
            "625/625 [==============================] - 9s 14ms/step - loss: 0.6934 - accuracy: 0.7708 - val_loss: 0.8001 - val_accuracy: 0.7490 - lr: 1.0000e-04\n",
            "Epoch 18/40\n",
            "625/625 [==============================] - 9s 14ms/step - loss: 0.6638 - accuracy: 0.7818 - val_loss: 0.8036 - val_accuracy: 0.7429 - lr: 1.0000e-04\n",
            "Epoch 19/40\n",
            "625/625 [==============================] - 9s 14ms/step - loss: 0.6248 - accuracy: 0.7948 - val_loss: 0.8134 - val_accuracy: 0.7420 - lr: 1.0000e-04\n",
            "Epoch 20/40\n",
            "625/625 [==============================] - 9s 14ms/step - loss: 0.5963 - accuracy: 0.8052 - val_loss: 0.7304 - val_accuracy: 0.7693 - lr: 1.0000e-04\n",
            "Epoch 21/40\n",
            "625/625 [==============================] - 9s 14ms/step - loss: 0.4890 - accuracy: 0.8425 - val_loss: 0.5321 - val_accuracy: 0.8243 - lr: 1.0000e-05\n",
            "Epoch 22/40\n",
            "625/625 [==============================] - 9s 14ms/step - loss: 0.4657 - accuracy: 0.8507 - val_loss: 0.5332 - val_accuracy: 0.8265 - lr: 1.0000e-05\n",
            "Epoch 23/40\n",
            "625/625 [==============================] - 9s 14ms/step - loss: 0.4529 - accuracy: 0.8560 - val_loss: 0.5459 - val_accuracy: 0.8254 - lr: 1.0000e-05\n",
            "Epoch 24/40\n",
            "625/625 [==============================] - 9s 14ms/step - loss: 0.4411 - accuracy: 0.8594 - val_loss: 0.5276 - val_accuracy: 0.8318 - lr: 1.0000e-05\n",
            "Epoch 25/40\n",
            "625/625 [==============================] - 9s 14ms/step - loss: 0.4354 - accuracy: 0.8610 - val_loss: 0.5374 - val_accuracy: 0.8296 - lr: 1.0000e-05\n",
            "Epoch 26/40\n",
            "625/625 [==============================] - 9s 14ms/step - loss: 0.4217 - accuracy: 0.8650 - val_loss: 0.5449 - val_accuracy: 0.8286 - lr: 1.0000e-05\n",
            "Epoch 27/40\n",
            "625/625 [==============================] - 9s 14ms/step - loss: 0.4158 - accuracy: 0.8679 - val_loss: 0.5469 - val_accuracy: 0.8296 - lr: 1.0000e-05\n",
            "Epoch 28/40\n",
            "625/625 [==============================] - 9s 14ms/step - loss: 0.4133 - accuracy: 0.8692 - val_loss: 0.5609 - val_accuracy: 0.8263 - lr: 1.0000e-05\n",
            "Epoch 29/40\n",
            "625/625 [==============================] - 9s 14ms/step - loss: 0.4054 - accuracy: 0.8713 - val_loss: 0.5420 - val_accuracy: 0.8315 - lr: 1.0000e-05\n",
            "Epoch 30/40\n",
            "625/625 [==============================] - 9s 14ms/step - loss: 0.3972 - accuracy: 0.8757 - val_loss: 0.5491 - val_accuracy: 0.8340 - lr: 1.0000e-05\n",
            "Epoch 31/40\n",
            "625/625 [==============================] - 9s 14ms/step - loss: 0.3858 - accuracy: 0.8778 - val_loss: 0.5426 - val_accuracy: 0.8330 - lr: 1.0000e-06\n",
            "Epoch 32/40\n",
            "625/625 [==============================] - 9s 14ms/step - loss: 0.3801 - accuracy: 0.8780 - val_loss: 0.5430 - val_accuracy: 0.8352 - lr: 1.0000e-06\n",
            "Epoch 33/40\n",
            "625/625 [==============================] - 9s 14ms/step - loss: 0.3827 - accuracy: 0.8781 - val_loss: 0.5428 - val_accuracy: 0.8351 - lr: 1.0000e-06\n",
            "Epoch 34/40\n",
            "625/625 [==============================] - 9s 14ms/step - loss: 0.3829 - accuracy: 0.8800 - val_loss: 0.5444 - val_accuracy: 0.8348 - lr: 1.0000e-06\n",
            "Epoch 35/40\n",
            "625/625 [==============================] - 9s 14ms/step - loss: 0.3778 - accuracy: 0.8812 - val_loss: 0.5409 - val_accuracy: 0.8365 - lr: 1.0000e-06\n",
            "Epoch 36/40\n",
            "625/625 [==============================] - 9s 14ms/step - loss: 0.3835 - accuracy: 0.8803 - val_loss: 0.5406 - val_accuracy: 0.8351 - lr: 1.0000e-06\n",
            "Epoch 37/40\n",
            "625/625 [==============================] - 9s 14ms/step - loss: 0.3775 - accuracy: 0.8815 - val_loss: 0.5417 - val_accuracy: 0.8360 - lr: 1.0000e-06\n",
            "Epoch 38/40\n",
            "625/625 [==============================] - 9s 14ms/step - loss: 0.3811 - accuracy: 0.8787 - val_loss: 0.5405 - val_accuracy: 0.8355 - lr: 1.0000e-06\n",
            "Epoch 39/40\n",
            "625/625 [==============================] - 9s 14ms/step - loss: 0.3803 - accuracy: 0.8787 - val_loss: 0.5429 - val_accuracy: 0.8348 - lr: 1.0000e-06\n",
            "Epoch 40/40\n",
            "625/625 [==============================] - 9s 14ms/step - loss: 0.3769 - accuracy: 0.8820 - val_loss: 0.5426 - val_accuracy: 0.8353 - lr: 1.0000e-06\n"
          ]
        }
      ]
    },
    {
      "cell_type": "markdown",
      "source": [
        "## Pre-trained CNN Experiments"
      ],
      "metadata": {
        "id": "GIJGeWUK2W1W"
      }
    },
    {
      "cell_type": "markdown",
      "source": [
        "Here we are fine-tuning a pre-trained Convolutional Neural Network (CNN) called VGG16. This model have been selected for its strong performance in image classification tasks and its suitability for transfer learning. This model have been pre-trained on over 1 million labeled images from the ImageNet database, allowing this CNN to capture rich and diverse features from a wide range of visual concepts. Leveraging a pre-trained model as a starting point for training on my dataset will result in faster convergence and improved performance."
      ],
      "metadata": {
        "id": "_B0tbPq7ChVm"
      }
    },
    {
      "cell_type": "markdown",
      "source": [
        "VGG16 is a CNN architecture proposed by the Visual Geometry Group at the University of Oxford. It is characterized by its simple and uniform architecture, consisting of 16 layers, including 13 convolutional layers and 3 fully connected layers. At the time of its introduction (2014), VGG16 was considered a very deep network (Simonyan and Zisserman, 2015)"
      ],
      "metadata": {
        "id": "YeADhIj4DoOv"
      }
    },
    {
      "cell_type": "code",
      "source": [
        "from keras.applications import VGG16\n",
        "from keras.models import Model\n",
        "from keras.layers import Dense, GlobalAveragePooling2D, Dropout\n",
        "from keras.optimizers import SGD\n",
        "from keras.datasets import cifar10\n",
        "from keras.utils import to_categorical\n",
        "from tensorflow.keras.optimizers import Adam\n",
        "\n",
        "# Load VGG16 model pre-trained on ImageNet data\n",
        "base_model = VGG16(weights='imagenet', include_top=False, input_shape=(32, 32, 3))  # input shape matches CIFAR-10 images\n",
        "\n",
        "# Adding custom layers on top of VGG16\n",
        "x = base_model.output\n",
        "x = GlobalAveragePooling2D()(x)\n",
        "x = Dense(512, activation='relu')(x)\n",
        "x = Dropout(0.5)(x)\n",
        "predictions = Dense(10, activation='softmax')(x)  # assuming 10 classes for CIFAR-10 dataset\n",
        "\n",
        "\n",
        "# Creating final model\n",
        "model = Model(inputs=base_model.input, outputs=predictions)\n",
        "# compile the model\n",
        "model.compile(loss='categorical_crossentropy', optimizer=Adam(learning_rate=1e-4), metrics=['accuracy'])\n",
        "history = model.fit(input_X_train, output_Y_train, batch_size=BATCH_SIZE, epochs=10, validation_split=VALIDATION_SPLIT,  verbose=VERBOSE)\n",
        "\n",
        "# Freezing layers up to the last 4\n",
        "for layer in base_model.layers[:-4]:\n",
        "    layer.trainable = False\n",
        "\n",
        "# we need to recompile the model for these modifications to take effect\n",
        "from keras.optimizers import SGD\n",
        "model.compile(optimizer=SGD(lr=0.0001, momentum=0.9), loss='categorical_crossentropy', metrics=['accuracy'])\n",
        "model.fit(input_X_train, output_Y_train, batch_size=BATCH_SIZE, epochs=5, validation_split=VALIDATION_SPLIT,  verbose=VERBOSE)"
      ],
      "metadata": {
        "colab": {
          "base_uri": "https://localhost:8080/"
        },
        "id": "eMKmcZmh2YDT",
        "outputId": "66f4cdec-1dfc-450e-de65-007be6831fa7"
      },
      "execution_count": null,
      "outputs": [
        {
          "output_type": "stream",
          "name": "stdout",
          "text": [
            "Epoch 1/10\n",
            "313/313 [==============================] - 12s 26ms/step - loss: 1.0398 - accuracy: 0.6394 - val_loss: 0.7004 - val_accuracy: 0.7618\n",
            "Epoch 2/10\n",
            "313/313 [==============================] - 8s 25ms/step - loss: 0.5982 - accuracy: 0.8022 - val_loss: 0.5734 - val_accuracy: 0.8065\n",
            "Epoch 3/10\n",
            "313/313 [==============================] - 8s 25ms/step - loss: 0.4418 - accuracy: 0.8519 - val_loss: 0.5101 - val_accuracy: 0.8260\n",
            "Epoch 4/10\n",
            "313/313 [==============================] - 8s 25ms/step - loss: 0.3240 - accuracy: 0.8921 - val_loss: 0.4631 - val_accuracy: 0.8500\n",
            "Epoch 5/10\n",
            "313/313 [==============================] - 8s 25ms/step - loss: 0.2320 - accuracy: 0.9237 - val_loss: 0.5105 - val_accuracy: 0.8392\n",
            "Epoch 6/10\n",
            "313/313 [==============================] - 8s 25ms/step - loss: 0.1603 - accuracy: 0.9465 - val_loss: 0.5564 - val_accuracy: 0.8370\n",
            "Epoch 7/10\n",
            "313/313 [==============================] - 8s 25ms/step - loss: 0.1264 - accuracy: 0.9600 - val_loss: 0.5986 - val_accuracy: 0.8436\n",
            "Epoch 8/10\n",
            "313/313 [==============================] - 8s 25ms/step - loss: 0.0904 - accuracy: 0.9701 - val_loss: 0.5765 - val_accuracy: 0.8499\n",
            "Epoch 9/10\n",
            "313/313 [==============================] - 8s 24ms/step - loss: 0.0697 - accuracy: 0.9776 - val_loss: 0.6423 - val_accuracy: 0.8436\n",
            "Epoch 10/10\n",
            "313/313 [==============================] - 8s 25ms/step - loss: 0.0610 - accuracy: 0.9802 - val_loss: 0.6382 - val_accuracy: 0.8570\n"
          ]
        },
        {
          "output_type": "stream",
          "name": "stderr",
          "text": [
            "WARNING:absl:`lr` is deprecated in Keras optimizer, please use `learning_rate` or use the legacy optimizer, e.g.,tf.keras.optimizers.legacy.SGD.\n"
          ]
        },
        {
          "output_type": "stream",
          "name": "stdout",
          "text": [
            "Epoch 1/5\n",
            "313/313 [==============================] - 5s 13ms/step - loss: 0.0176 - accuracy: 0.9944 - val_loss: 0.6888 - val_accuracy: 0.8660\n",
            "Epoch 2/5\n",
            "313/313 [==============================] - 4s 12ms/step - loss: 0.0100 - accuracy: 0.9973 - val_loss: 0.7337 - val_accuracy: 0.8653\n",
            "Epoch 3/5\n",
            "313/313 [==============================] - 4s 12ms/step - loss: 0.0068 - accuracy: 0.9980 - val_loss: 0.7898 - val_accuracy: 0.8658\n",
            "Epoch 4/5\n",
            "313/313 [==============================] - 4s 12ms/step - loss: 0.0050 - accuracy: 0.9986 - val_loss: 0.8163 - val_accuracy: 0.8662\n",
            "Epoch 5/5\n",
            "313/313 [==============================] - 4s 12ms/step - loss: 0.0031 - accuracy: 0.9993 - val_loss: 0.8518 - val_accuracy: 0.8670\n"
          ]
        },
        {
          "output_type": "execute_result",
          "data": {
            "text/plain": [
              "<keras.src.callbacks.History at 0x7c2e74703fa0>"
            ]
          },
          "metadata": {},
          "execution_count": 12
        }
      ]
    },
    {
      "cell_type": "markdown",
      "source": [
        "## Data Preprocessing Experiments"
      ],
      "metadata": {
        "id": "HbqZ3NMNhja7"
      }
    },
    {
      "cell_type": "code",
      "source": [
        "import cv2\n",
        "from tensorflow.keras.preprocessing.image import ImageDataGenerator\n",
        "\n",
        "# Define the target size\n",
        "target_size = (96, 96)\n",
        "\n",
        "# Resize input images to the target size using OpenCV\n",
        "input_X_train_resized = np.array([cv2.resize(img, target_size) for img in input_X_train])\n",
        "input_X_test_resized = np.array([cv2.resize(img, target_size) for img in input_X_test])\n",
        "\n",
        "# Float and normalization\n",
        "input_X_train = input_X_train_resized.astype('float32')\n",
        "input_X_test = input_X_test_resized.astype('float32')\n",
        "input_X_train /= 255\n",
        "input_X_test /= 255\n",
        "\n",
        "# Define data augmentation parameters\n",
        "datagen = ImageDataGenerator(\n",
        "    rotation_range=15,\n",
        "    width_shift_range=0.1,\n",
        "    height_shift_range=0.1,\n",
        "    horizontal_flip=True,\n",
        "    vertical_flip=False\n",
        ")\n",
        "\n",
        "# Fit the data augmentation generator to the training data\n",
        "datagen.fit(input_X_train)\n",
        "\n",
        "# Configure batch size\n",
        "batch_size = 64\n",
        "\n",
        "# Generate augmented data\n",
        "augmented_data = datagen.flow(input_X_train, output_Y_train, batch_size=batch_size)\n",
        "\n",
        "# Calculate number of steps per epoch based on the batch size\n",
        "steps_per_epoch = len(input_X_train) // batch_size"
      ],
      "metadata": {
        "id": "nX0RSBH2htYh"
      },
      "execution_count": null,
      "outputs": []
    },
    {
      "cell_type": "markdown",
      "source": [
        "### VGG16"
      ],
      "metadata": {
        "id": "WuKSPcpUiSx_"
      }
    },
    {
      "cell_type": "code",
      "source": [
        "from tensorflow.keras.datasets import cifar10\n",
        "from tensorflow.keras.utils import to_categorical\n",
        "from tensorflow.keras.preprocessing.image import ImageDataGenerator\n",
        "\n",
        "# Load dataset\n",
        "(input_X_train, output_y_train), (input_X_test, output_y_test) = cifar10.load_data()\n",
        "print('input_X_train shape:', input_X_train.shape)\n",
        "print(input_X_train.shape[0], 'train samples')\n",
        "print(input_X_test.shape[0], 'test samples')\n",
        "\n",
        "# Convert to categorical\n",
        "N_CLASSES = 10  # Assuming there are 10 classes in CIFAR-10\n",
        "output_Y_train = to_categorical(output_y_train, N_CLASSES)\n",
        "output_Y_test = to_categorical(output_y_test, N_CLASSES)\n",
        "\n",
        "import cv2\n",
        "\n",
        "# Define the target size\n",
        "target_size = (96, 96)  # Example: Resize to 64x64\n",
        "\n",
        "# Resize input images to the target size using OpenCV\n",
        "input_X_train_resized = np.array([cv2.resize(img, target_size) for img in input_X_train])\n",
        "input_X_test_resized = np.array([cv2.resize(img, target_size) for img in input_X_test])\n",
        "\n",
        "# Float and normalization\n",
        "input_X_train = input_X_train_resized.astype('float32')\n",
        "input_X_test = input_X_test_resized.astype('float32')\n",
        "input_X_train /= 255\n",
        "input_X_test /= 255\n",
        "\n",
        "# Define data augmentation parameters\n",
        "datagen = ImageDataGenerator(\n",
        "    featurewise_center=False,\n",
        "    samplewise_center=False,\n",
        "    featurewise_std_normalization=False,\n",
        "    samplewise_std_normalization=False,\n",
        "    zca_whitening=False,\n",
        "    rotation_range=15,\n",
        "    width_shift_range=0.1,\n",
        "    height_shift_range=0.1,\n",
        "    horizontal_flip=True,\n",
        "    vertical_flip=False\n",
        ")\n",
        "\n",
        "# Fit the data augmentation generator to the training data\n",
        "datagen.fit(input_X_train)\n",
        "\n",
        "# Configure batch size\n",
        "batch_size = 128\n",
        "\n",
        "# Generate augmented data\n",
        "augmented_data = datagen.flow(input_X_train, output_Y_train, batch_size=batch_size)\n",
        "\n",
        "# Calculate number of steps per epoch based on the batch size\n",
        "steps_per_epoch = len(input_X_train) // batch_size"
      ],
      "metadata": {
        "colab": {
          "base_uri": "https://localhost:8080/"
        },
        "id": "fQ0Q8Ocety4K",
        "outputId": "060499fc-c885-4cff-ed20-6cf030f699e3"
      },
      "execution_count": null,
      "outputs": [
        {
          "output_type": "stream",
          "name": "stdout",
          "text": [
            "input_X_train shape: (50000, 32, 32, 3)\n",
            "50000 train samples\n",
            "10000 test samples\n"
          ]
        }
      ]
    },
    {
      "cell_type": "code",
      "source": [
        "from keras.applications import VGG16\n",
        "from keras.models import Model\n",
        "from keras.layers import Dense, GlobalAveragePooling2D, Dropout\n",
        "from keras.optimizers import SGD\n",
        "from keras.datasets import cifar10\n",
        "from keras.utils import to_categorical\n",
        "\n",
        "# Load VGG16 model pre-trained on ImageNet data\n",
        "base_model = VGG16(weights='imagenet', include_top=False, input_shape=(96, 96, 3))  # input shape matches CIFAR-10 images\n",
        "\n",
        "# Adding custom layers on top of VGG16\n",
        "x = base_model.output\n",
        "x = GlobalAveragePooling2D()(x)\n",
        "x = Dense(512, activation='relu')(x)\n",
        "x = Dropout(0.5)(x)\n",
        "predictions = Dense(10, activation='softmax')(x)  # assuming 10 classes for CIFAR-10 dataset\n",
        "\n",
        "\n",
        "# Creating final model\n",
        "model = Model(inputs=base_model.input, outputs=predictions)\n",
        "# compile the model\n",
        "model.compile(loss='categorical_crossentropy', optimizer=Adam(learning_rate=1e-4), metrics=['accuracy'])\n",
        "history = model.fit(input_X_train, output_Y_train, batch_size=BATCH_SIZE, epochs=5, validation_split=VALIDATION_SPLIT,  verbose=VERBOSE)\n",
        "\n",
        "# Freezing layers up to the last convolutional block\n",
        "for layer in base_model.layers[:-4]:\n",
        "    layer.trainable = False\n",
        "\n",
        "# we need to recompile the model for these modifications to take effect\n",
        "from keras.optimizers import SGD\n",
        "model.compile(optimizer=SGD(lr=0.0001, momentum=0.9), loss='categorical_crossentropy', metrics=['accuracy'])\n",
        "model.fit(input_X_train, output_Y_train, batch_size=BATCH_SIZE, epochs=5, validation_split=VALIDATION_SPLIT,  verbose=VERBOSE)"
      ],
      "metadata": {
        "colab": {
          "base_uri": "https://localhost:8080/"
        },
        "id": "bPl4s8xEdJLt",
        "outputId": "c405148e-c409-4e92-f2a5-54d643b52f11"
      },
      "execution_count": null,
      "outputs": [
        {
          "output_type": "stream",
          "name": "stdout",
          "text": [
            "Epoch 1/5\n",
            "313/313 [==============================] - 79s 210ms/step - loss: 0.8502 - accuracy: 0.7076 - val_loss: 0.4267 - val_accuracy: 0.8534\n",
            "Epoch 2/5\n",
            "313/313 [==============================] - 58s 186ms/step - loss: 0.3468 - accuracy: 0.8853 - val_loss: 0.2841 - val_accuracy: 0.9013\n",
            "Epoch 3/5\n",
            "313/313 [==============================] - 58s 187ms/step - loss: 0.2171 - accuracy: 0.9283 - val_loss: 0.3290 - val_accuracy: 0.8909\n",
            "Epoch 4/5\n",
            "313/313 [==============================] - 58s 187ms/step - loss: 0.1504 - accuracy: 0.9503 - val_loss: 0.2795 - val_accuracy: 0.9096\n",
            "Epoch 5/5\n",
            "313/313 [==============================] - 58s 187ms/step - loss: 0.1020 - accuracy: 0.9651 - val_loss: 0.2534 - val_accuracy: 0.9266\n"
          ]
        },
        {
          "output_type": "stream",
          "name": "stderr",
          "text": [
            "WARNING:absl:`lr` is deprecated in Keras optimizer, please use `learning_rate` or use the legacy optimizer, e.g.,tf.keras.optimizers.legacy.SGD.\n"
          ]
        },
        {
          "output_type": "stream",
          "name": "stdout",
          "text": [
            "Epoch 1/5\n",
            "313/313 [==============================] - 27s 80ms/step - loss: 0.0333 - accuracy: 0.9893 - val_loss: 0.2709 - val_accuracy: 0.9272\n",
            "Epoch 2/5\n",
            "313/313 [==============================] - 24s 76ms/step - loss: 0.0154 - accuracy: 0.9950 - val_loss: 0.2848 - val_accuracy: 0.9349\n",
            "Epoch 3/5\n",
            "313/313 [==============================] - 24s 75ms/step - loss: 0.0090 - accuracy: 0.9969 - val_loss: 0.3248 - val_accuracy: 0.9318\n",
            "Epoch 4/5\n",
            "313/313 [==============================] - 23s 75ms/step - loss: 0.0049 - accuracy: 0.9985 - val_loss: 0.3467 - val_accuracy: 0.9345\n",
            "Epoch 5/5\n",
            "313/313 [==============================] - 23s 75ms/step - loss: 0.0025 - accuracy: 0.9995 - val_loss: 0.3600 - val_accuracy: 0.9338\n"
          ]
        },
        {
          "output_type": "execute_result",
          "data": {
            "text/plain": [
              "<keras.src.callbacks.History at 0x788f007ed300>"
            ]
          },
          "metadata": {},
          "execution_count": 8
        }
      ]
    },
    {
      "cell_type": "code",
      "source": [
        "from sklearn.metrics import classification_report\n",
        "\n",
        "# Making predictions on the test set\n",
        "predictions = model.predict(input_X_test)\n",
        "\n",
        "# Getting class labels from one-hot encoded vectors\n",
        "predicted_classes = np.argmax(predictions, axis=1)\n",
        "true_classes = np.argmax(output_Y_test, axis=1)\n",
        "\n",
        "# Printing classification report\n",
        "print(classification_report(true_classes, predicted_classes))"
      ],
      "metadata": {
        "colab": {
          "base_uri": "https://localhost:8080/"
        },
        "id": "oGZtEBtRBd30",
        "outputId": "0f2caf66-f78d-45d0-9e4f-17ec15cc8a19"
      },
      "execution_count": null,
      "outputs": [
        {
          "output_type": "stream",
          "name": "stdout",
          "text": [
            "313/313 [==============================] - 6s 16ms/step\n",
            "              precision    recall  f1-score   support\n",
            "\n",
            "           0       0.93      0.95      0.94      1000\n",
            "           1       0.94      0.97      0.96      1000\n",
            "           2       0.92      0.92      0.92      1000\n",
            "           3       0.87      0.83      0.85      1000\n",
            "           4       0.93      0.94      0.93      1000\n",
            "           5       0.89      0.89      0.89      1000\n",
            "           6       0.95      0.96      0.95      1000\n",
            "           7       0.95      0.95      0.95      1000\n",
            "           8       0.96      0.96      0.96      1000\n",
            "           9       0.97      0.93      0.95      1000\n",
            "\n",
            "    accuracy                           0.93     10000\n",
            "   macro avg       0.93      0.93      0.93     10000\n",
            "weighted avg       0.93      0.93      0.93     10000\n",
            "\n"
          ]
        }
      ]
    },
    {
      "cell_type": "markdown",
      "source": [
        "### Custom CNN"
      ],
      "metadata": {
        "id": "zZiIx6BoiLtq"
      }
    },
    {
      "cell_type": "code",
      "source": [
        "model = Sequential()\n",
        "\n",
        "model.add(Conv2D(input_shape=(96,96,3),filters=64,kernel_size=(3,3),padding=\"same\", activation=\"relu\"))\n",
        "model.add(Conv2D(filters=64,kernel_size=(3,3),padding=\"same\", activation=\"relu\"))\n",
        "model.add(MaxPooling2D(pool_size=(2,2),strides=(2,2)))\n",
        "model.add(Dropout(0.2))\n",
        "\n",
        "model.add(Conv2D(filters=128, kernel_size=(3,3), padding=\"same\", activation=\"relu\"))\n",
        "model.add(Conv2D(filters=128, kernel_size=(3,3), padding=\"same\", activation=\"relu\"))\n",
        "model.add(MaxPooling2D(pool_size=(2,2),strides=(2,2)))\n",
        "model.add(Dropout(0.2))\n",
        "\n",
        "model.add(Conv2D(filters=256, kernel_size=(3,3), padding=\"same\", activation=\"relu\"))\n",
        "model.add(Conv2D(filters=256, kernel_size=(3,3), padding=\"same\", activation=\"relu\"))\n",
        "model.add(Conv2D(filters=256, kernel_size=(3,3), padding=\"same\", activation=\"relu\"))\n",
        "model.add(MaxPooling2D(pool_size=(2,2),strides=(2,2)))\n",
        "model.add(Dropout(0.2))\n",
        "\n",
        "model.add(Conv2D(filters=512, kernel_size=(3,3), padding=\"same\", activation=\"relu\"))\n",
        "model.add(Conv2D(filters=512, kernel_size=(3,3), padding=\"same\", activation=\"relu\"))\n",
        "model.add(Conv2D(filters=512, kernel_size=(3,3), padding=\"same\", activation=\"relu\"))\n",
        "model.add(MaxPooling2D(pool_size=(2,2),strides=(2,2)))\n",
        "model.add(Dropout(0.2))\n",
        "\n",
        "model.add(Flatten())\n",
        "\n",
        "model.add(Dense(512, activation='relu'))\n",
        "model.add(BatchNormalization())\n",
        "model.add(Dropout(0.4))\n",
        "\n",
        "model.add(Dense(256, activation='relu'))\n",
        "model.add(BatchNormalization())\n",
        "model.add(Dropout(0.4))\n",
        "\n",
        "model.add(Dense(128, activation='relu'))\n",
        "model.add(BatchNormalization())\n",
        "model.add(Dropout(0.4))\n",
        "\n",
        "model.add(Dense(10, activation='softmax'))"
      ],
      "metadata": {
        "id": "ah-iGYt8iLt0"
      },
      "execution_count": null,
      "outputs": []
    },
    {
      "cell_type": "code",
      "source": [
        "from keras.callbacks import LearningRateScheduler\n",
        "\n",
        "# Learning rate schedule\n",
        "def lr_schedule(epoch):\n",
        "    if epoch < 20:\n",
        "        return 0.0001\n",
        "    elif epoch < 30:\n",
        "        return 0.00001\n",
        "    else:\n",
        "        return 0.000001\n",
        "\n",
        "# RMSprop optimizer with initial learning rate\n",
        "optimizer = RMSprop(learning_rate=0.0001)\n",
        "\n",
        "model.compile(loss='categorical_crossentropy',\n",
        "             optimizer=optimizer,\n",
        "             metrics=['accuracy'])\n",
        "\n",
        "# Learning rate scheduler callback\n",
        "lr_scheduler = LearningRateScheduler(lr_schedule)\n",
        "\n",
        "history = model.fit(input_X_train, output_Y_train, batch_size=64, epochs=40, validation_split=VALIDATION_SPLIT, verbose=VERBOSE, callbacks=[lr_scheduler])"
      ],
      "metadata": {
        "colab": {
          "base_uri": "https://localhost:8080/"
        },
        "outputId": "ff16a764-d38d-43d3-8a1f-47fa54564b29",
        "id": "wt3CMPrjiLt0"
      },
      "execution_count": null,
      "outputs": [
        {
          "output_type": "stream",
          "name": "stdout",
          "text": [
            "Epoch 1/40\n",
            "625/625 [==============================] - 70s 102ms/step - loss: 2.5797 - accuracy: 0.2081 - val_loss: 2.3294 - val_accuracy: 0.2095 - lr: 1.0000e-04\n",
            "Epoch 2/40\n",
            "625/625 [==============================] - 62s 99ms/step - loss: 2.0125 - accuracy: 0.3094 - val_loss: 1.8450 - val_accuracy: 0.3731 - lr: 1.0000e-04\n",
            "Epoch 3/40\n",
            "625/625 [==============================] - 62s 99ms/step - loss: 1.6658 - accuracy: 0.4124 - val_loss: 1.4749 - val_accuracy: 0.4985 - lr: 1.0000e-04\n",
            "Epoch 4/40\n",
            "625/625 [==============================] - 62s 99ms/step - loss: 1.4096 - accuracy: 0.4992 - val_loss: 1.1887 - val_accuracy: 0.5737 - lr: 1.0000e-04\n",
            "Epoch 5/40\n",
            "625/625 [==============================] - 62s 99ms/step - loss: 1.2241 - accuracy: 0.5645 - val_loss: 1.2532 - val_accuracy: 0.5641 - lr: 1.0000e-04\n",
            "Epoch 6/40\n",
            "625/625 [==============================] - 62s 99ms/step - loss: 1.0766 - accuracy: 0.6215 - val_loss: 0.8843 - val_accuracy: 0.6858 - lr: 1.0000e-04\n",
            "Epoch 7/40\n",
            "625/625 [==============================] - 62s 99ms/step - loss: 0.9462 - accuracy: 0.6709 - val_loss: 0.8746 - val_accuracy: 0.6998 - lr: 1.0000e-04\n",
            "Epoch 8/40\n",
            "625/625 [==============================] - 62s 99ms/step - loss: 0.8705 - accuracy: 0.7029 - val_loss: 0.7757 - val_accuracy: 0.7331 - lr: 1.0000e-04\n",
            "Epoch 9/40\n",
            "625/625 [==============================] - 62s 99ms/step - loss: 0.7890 - accuracy: 0.7324 - val_loss: 0.8532 - val_accuracy: 0.7089 - lr: 1.0000e-04\n",
            "Epoch 10/40\n",
            "625/625 [==============================] - 62s 99ms/step - loss: 0.7243 - accuracy: 0.7538 - val_loss: 0.7903 - val_accuracy: 0.7307 - lr: 1.0000e-04\n",
            "Epoch 11/40\n",
            "625/625 [==============================] - 62s 99ms/step - loss: 0.6620 - accuracy: 0.7748 - val_loss: 0.7405 - val_accuracy: 0.7581 - lr: 1.0000e-04\n",
            "Epoch 12/40\n",
            "625/625 [==============================] - 62s 99ms/step - loss: 0.6023 - accuracy: 0.7964 - val_loss: 0.6718 - val_accuracy: 0.7718 - lr: 1.0000e-04\n",
            "Epoch 13/40\n",
            "625/625 [==============================] - 62s 98ms/step - loss: 0.5488 - accuracy: 0.8165 - val_loss: 0.6894 - val_accuracy: 0.7694 - lr: 1.0000e-04\n",
            "Epoch 14/40\n",
            "625/625 [==============================] - 62s 98ms/step - loss: 0.5069 - accuracy: 0.8306 - val_loss: 0.5813 - val_accuracy: 0.8054 - lr: 1.0000e-04\n",
            "Epoch 15/40\n",
            "625/625 [==============================] - 62s 99ms/step - loss: 0.4569 - accuracy: 0.8476 - val_loss: 0.7366 - val_accuracy: 0.7657 - lr: 1.0000e-04\n",
            "Epoch 16/40\n",
            "625/625 [==============================] - 62s 99ms/step - loss: 0.4125 - accuracy: 0.8654 - val_loss: 0.7046 - val_accuracy: 0.7853 - lr: 1.0000e-04\n",
            "Epoch 17/40\n",
            "625/625 [==============================] - 62s 99ms/step - loss: 0.3714 - accuracy: 0.8777 - val_loss: 0.5897 - val_accuracy: 0.8146 - lr: 1.0000e-04\n",
            "Epoch 18/40\n",
            "625/625 [==============================] - 62s 99ms/step - loss: 0.3330 - accuracy: 0.8899 - val_loss: 0.5233 - val_accuracy: 0.8340 - lr: 1.0000e-04\n",
            "Epoch 19/40\n",
            "625/625 [==============================] - 62s 99ms/step - loss: 0.2905 - accuracy: 0.9028 - val_loss: 0.5376 - val_accuracy: 0.8331 - lr: 1.0000e-04\n",
            "Epoch 20/40\n",
            "625/625 [==============================] - 62s 99ms/step - loss: 0.2602 - accuracy: 0.9145 - val_loss: 0.5432 - val_accuracy: 0.8413 - lr: 1.0000e-04\n",
            "Epoch 21/40\n",
            "625/625 [==============================] - 62s 99ms/step - loss: 0.1565 - accuracy: 0.9511 - val_loss: 0.4516 - val_accuracy: 0.8620 - lr: 1.0000e-05\n",
            "Epoch 22/40\n",
            "625/625 [==============================] - 62s 99ms/step - loss: 0.1276 - accuracy: 0.9621 - val_loss: 0.4523 - val_accuracy: 0.8623 - lr: 1.0000e-05\n",
            "Epoch 23/40\n",
            "625/625 [==============================] - 62s 99ms/step - loss: 0.1120 - accuracy: 0.9671 - val_loss: 0.4665 - val_accuracy: 0.8624 - lr: 1.0000e-05\n",
            "Epoch 24/40\n",
            "625/625 [==============================] - 62s 99ms/step - loss: 0.1042 - accuracy: 0.9693 - val_loss: 0.4652 - val_accuracy: 0.8652 - lr: 1.0000e-05\n",
            "Epoch 25/40\n",
            "625/625 [==============================] - 62s 99ms/step - loss: 0.0962 - accuracy: 0.9722 - val_loss: 0.4650 - val_accuracy: 0.8674 - lr: 1.0000e-05\n",
            "Epoch 26/40\n",
            "625/625 [==============================] - 62s 99ms/step - loss: 0.0905 - accuracy: 0.9738 - val_loss: 0.4724 - val_accuracy: 0.8638 - lr: 1.0000e-05\n",
            "Epoch 27/40\n",
            "625/625 [==============================] - 62s 99ms/step - loss: 0.0812 - accuracy: 0.9757 - val_loss: 0.4873 - val_accuracy: 0.8634 - lr: 1.0000e-05\n",
            "Epoch 28/40\n",
            "625/625 [==============================] - 62s 99ms/step - loss: 0.0760 - accuracy: 0.9776 - val_loss: 0.4830 - val_accuracy: 0.8656 - lr: 1.0000e-05\n",
            "Epoch 29/40\n",
            "625/625 [==============================] - 62s 99ms/step - loss: 0.0712 - accuracy: 0.9800 - val_loss: 0.4879 - val_accuracy: 0.8652 - lr: 1.0000e-05\n",
            "Epoch 30/40\n",
            "625/625 [==============================] - 62s 98ms/step - loss: 0.0659 - accuracy: 0.9817 - val_loss: 0.4871 - val_accuracy: 0.8678 - lr: 1.0000e-05\n",
            "Epoch 31/40\n",
            "625/625 [==============================] - 62s 98ms/step - loss: 0.0584 - accuracy: 0.9845 - val_loss: 0.4851 - val_accuracy: 0.8689 - lr: 1.0000e-06\n",
            "Epoch 32/40\n",
            "625/625 [==============================] - 62s 99ms/step - loss: 0.0568 - accuracy: 0.9848 - val_loss: 0.4827 - val_accuracy: 0.8689 - lr: 1.0000e-06\n",
            "Epoch 33/40\n",
            "625/625 [==============================] - 62s 98ms/step - loss: 0.0572 - accuracy: 0.9843 - val_loss: 0.4855 - val_accuracy: 0.8698 - lr: 1.0000e-06\n",
            "Epoch 34/40\n",
            "625/625 [==============================] - 62s 99ms/step - loss: 0.0562 - accuracy: 0.9852 - val_loss: 0.4829 - val_accuracy: 0.8686 - lr: 1.0000e-06\n",
            "Epoch 35/40\n",
            "625/625 [==============================] - 62s 98ms/step - loss: 0.0566 - accuracy: 0.9848 - val_loss: 0.4844 - val_accuracy: 0.8686 - lr: 1.0000e-06\n",
            "Epoch 36/40\n",
            "625/625 [==============================] - 61s 98ms/step - loss: 0.0546 - accuracy: 0.9860 - val_loss: 0.4848 - val_accuracy: 0.8691 - lr: 1.0000e-06\n",
            "Epoch 37/40\n",
            "625/625 [==============================] - 62s 98ms/step - loss: 0.0539 - accuracy: 0.9856 - val_loss: 0.4858 - val_accuracy: 0.8703 - lr: 1.0000e-06\n",
            "Epoch 38/40\n",
            "625/625 [==============================] - 62s 99ms/step - loss: 0.0537 - accuracy: 0.9852 - val_loss: 0.4868 - val_accuracy: 0.8687 - lr: 1.0000e-06\n",
            "Epoch 39/40\n",
            "625/625 [==============================] - 62s 99ms/step - loss: 0.0524 - accuracy: 0.9862 - val_loss: 0.4871 - val_accuracy: 0.8689 - lr: 1.0000e-06\n",
            "Epoch 40/40\n",
            "625/625 [==============================] - 62s 99ms/step - loss: 0.0526 - accuracy: 0.9860 - val_loss: 0.4867 - val_accuracy: 0.8695 - lr: 1.0000e-06\n"
          ]
        }
      ]
    },
    {
      "cell_type": "code",
      "source": [
        "from sklearn.metrics import classification_report\n",
        "\n",
        "# Making predictions on the test set\n",
        "predictions = model.predict(input_X_test)\n",
        "\n",
        "# Getting class labels from one-hot encoded vectors\n",
        "predicted_classes = np.argmax(predictions, axis=1)\n",
        "true_classes = np.argmax(output_Y_test, axis=1)\n",
        "\n",
        "# Printing classification report\n",
        "print(classification_report(true_classes, predicted_classes))"
      ],
      "metadata": {
        "colab": {
          "base_uri": "https://localhost:8080/"
        },
        "id": "uKwX1vcKOGf0",
        "outputId": "fb660fd0-0b24-40da-b558-99c0d9785cc3"
      },
      "execution_count": null,
      "outputs": [
        {
          "output_type": "stream",
          "name": "stdout",
          "text": [
            "313/313 [==============================] - 5s 15ms/step\n",
            "              precision    recall  f1-score   support\n",
            "\n",
            "           0       0.88      0.87      0.88      1000\n",
            "           1       0.94      0.93      0.94      1000\n",
            "           2       0.81      0.80      0.80      1000\n",
            "           3       0.71      0.74      0.73      1000\n",
            "           4       0.84      0.84      0.84      1000\n",
            "           5       0.79      0.82      0.81      1000\n",
            "           6       0.89      0.90      0.89      1000\n",
            "           7       0.90      0.88      0.89      1000\n",
            "           8       0.93      0.91      0.92      1000\n",
            "           9       0.92      0.92      0.92      1000\n",
            "\n",
            "    accuracy                           0.86     10000\n",
            "   macro avg       0.86      0.86      0.86     10000\n",
            "weighted avg       0.86      0.86      0.86     10000\n",
            "\n"
          ]
        }
      ]
    },
    {
      "cell_type": "markdown",
      "source": [
        "## Generate Graphs"
      ],
      "metadata": {
        "id": "rH3pgQYUb6XG"
      }
    },
    {
      "cell_type": "markdown",
      "source": [
        "### Epoch & Learning Rate"
      ],
      "metadata": {
        "id": "dvEAZ6Gp_5Z3"
      }
    },
    {
      "cell_type": "code",
      "source": [
        "import matplotlib.pyplot as plt\n",
        "\n",
        "# Validation accuracy data\n",
        "smallest_lr = [0.0952, 0.1181, 0.1302, 0.1311, 0.159,\n",
        "            0.1908, 0.2254, 0.2301, 0.2564, 0.2701,\n",
        "            0.2908, 0.3187, 0.322, 0.3402, 0.3627,\n",
        "            0.3589, 0.3888, 0.3776, 0.4029, 0.4361,\n",
        "            0.4042, 0.4204, 0.4442, 0.4595, 0.4533,\n",
        "            0.4585, 0.4613, 0.4714, 0.516,  0.4779,\n",
        "            0.5344, 0.4594, 0.5145, 0.5099, 0.5215,\n",
        "            0.544,  0.5419, 0.517,  0.5695, 0.5501]\n",
        "\n",
        "\n",
        "middle_lr = [0.177, 0.2705, 0.3988, 0.5131, 0.5709,\n",
        "    0.5629, 0.6287, 0.6503, 0.6579, 0.6869,\n",
        "    0.7083, 0.7518, 0.703,  0.7389, 0.7476,\n",
        "    0.7606, 0.7881, 0.7957, 0.7939, 0.7981,\n",
        "    0.7928, 0.8099, 0.7917, 0.8093, 0.7839,\n",
        "    0.8137, 0.8086, 0.8255, 0.8161, 0.8144,\n",
        "    0.8271, 0.7984, 0.8209, 0.8227, 0.8123,\n",
        "    0.8087, 0.8203, 0.8183, 0.8249, 0.8257]\n",
        "\n",
        "\n",
        "\n",
        "largest_lr = [0.2529, 0.2661, 0.2818, 0.4605, 0.5006,\n",
        "    0.5286, 0.6037, 0.6623, 0.7197, 0.6932,\n",
        "    0.6700, 0.7606, 0.7486, 0.7601, 0.7834,\n",
        "    0.7851, 0.8012, 0.8040, 0.7986, 0.8068,\n",
        "    0.7985, 0.7969, 0.7994, 0.8044, 0.8033,\n",
        "    0.8030, 0.8091, 0.8138, 0.8114, 0.8147,\n",
        "    0.8120, 0.8136, 0.8193, 0.8218, 0.8269,\n",
        "    0.8256, 0.8204, 0.8162, 0.8248, 0.8135]\n",
        "\n",
        "scheduled_lr = [0.1018, 0.2695, 0.4322, 0.4604, 0.5128,\n",
        "    0.6031, 0.6382, 0.6208, 0.6868, 0.7180,\n",
        "    0.7390, 0.7273, 0.7329, 0.7422, 0.7704,\n",
        "    0.7412, 0.7909, 0.7931, 0.7949, 0.7952,\n",
        "    0.8271, 0.8312, 0.8303, 0.8299, 0.8337,\n",
        "    0.8320, 0.8268, 0.8311, 0.8338, 0.8312,\n",
        "    0.8370, 0.8382, 0.8381, 0.8370, 0.8371,\n",
        "    0.8360, 0.8381, 0.8381, 0.8367, 0.8366]\n",
        "\n",
        "\n",
        "epochs = range(1, len(smallest_lr) + 1)\n",
        "\n",
        "plt.plot(epochs, smallest_lr, 'b', label='0.00001 learning rate')\n",
        "plt.plot(epochs, middle_lr, 'r', label='0.0001 learning rate')\n",
        "plt.plot(epochs, largest_lr, 'g', label='0.001 learning rate')\n",
        "plt.plot(epochs, scheduled_lr, 'm', label='Scheduled learning rate')\n",
        "plt.title('Validation Accuracy for Different Learning Rates')\n",
        "plt.xlabel('Epochs')\n",
        "plt.ylabel('Validation Accuracy')\n",
        "plt.legend()\n",
        "plt.show()"
      ],
      "metadata": {
        "colab": {
          "base_uri": "https://localhost:8080/",
          "height": 472
        },
        "id": "w3tf53AK_4_s",
        "outputId": "09fb8932-ca62-470e-82ab-0c47f571f54e"
      },
      "execution_count": null,
      "outputs": [
        {
          "output_type": "display_data",
          "data": {
            "text/plain": [
              "<Figure size 640x480 with 1 Axes>"
            ],
            "image/png": "[encoded data removed]"
          },
          "metadata": {}
        }
      ]
    },
    {
      "cell_type": "markdown",
      "source": [
        "### Batch Size"
      ],
      "metadata": {
        "id": "_GnaBybKhQuQ"
      }
    },
    {
      "cell_type": "code",
      "source": [
        "import matplotlib.pyplot as plt\n",
        "\n",
        "# Validation accuracy data\n",
        "batch_size_16 = [0.1399, 0.2559, 0.2809, 0.3614, 0.4787, 0.5042, 0.5468, 0.6155, 0.6285, 0.6525,\n",
        "                 0.6715, 0.6547, 0.6611, 0.6840, 0.7310, 0.7448, 0.7436, 0.7675, 0.7563, 0.7233,\n",
        "                 0.8096, 0.8110, 0.8148, 0.8141, 0.8170, 0.8149, 0.8194, 0.8187, 0.8193, 0.8214,\n",
        "                 0.8222, 0.8234, 0.8232, 0.8228, 0.8223, 0.8244, 0.8220, 0.8237, 0.8238, 0.8216]\n",
        "\n",
        "batch_size_64  = [0.2960, 0.4062, 0.4999, 0.4248, 0.5676, 0.5895, 0.6283, 0.6862, 0.7355, 0.6394,\n",
        "                  0.7642, 0.7647, 0.7693, 0.7925, 0.7956, 0.7874, 0.7852, 0.7979, 0.8046, 0.8010,\n",
        "                  0.8504, 0.8517, 0.8534, 0.8552, 0.8527, 0.8509, 0.8532, 0.8529, 0.8521, 0.8533,\n",
        "                  0.8562, 0.8577, 0.8576, 0.8578, 0.8567, 0.8571, 0.8578, 0.8567, 0.8572, 0.8564]\n",
        "\n",
        "batch_size_128 = [0.1279, 0.3527, 0.4583, 0.4418, 0.4919, 0.4441, 0.6432, 0.6176, 0.6969, 0.6351,\n",
        "                  0.7204, 0.6656, 0.7497, 0.7595, 0.7278, 0.7051, 0.7480, 0.7730, 0.7899, 0.7530,\n",
        "                  0.8343, 0.8346, 0.8375, 0.8351, 0.8298, 0.8351, 0.8336, 0.8375, 0.8387, 0.8399,\n",
        "                  0.8413, 0.8418, 0.8413, 0.8425, 0.8425, 0.8433, 0.8415, 0.8428, 0.8423, 0.8421]\n",
        "\n",
        "epochs = range(1, len(batch_size_16) + 1)\n",
        "\n",
        "plt.plot(epochs, batch_size_16, 'b', label='Batch size 16')\n",
        "plt.plot(epochs, batch_size_64, 'r', label='Batch size 64')\n",
        "plt.plot(epochs, batch_size_128, 'g', label='Batch size 128')\n",
        "plt.title('Validation Accuracy for Different Batch Sizes')\n",
        "plt.xlabel('Epochs')\n",
        "plt.ylabel('Validation Accuracy')\n",
        "plt.legend()\n",
        "plt.show()"
      ],
      "metadata": {
        "colab": {
          "base_uri": "https://localhost:8080/",
          "height": 472
        },
        "id": "K1brKwqWb5zT",
        "outputId": "742de080-cc8a-4c14-acbb-b4ec3a902b7d"
      },
      "execution_count": null,
      "outputs": [
        {
          "output_type": "display_data",
          "data": {
            "text/plain": [
              "<Figure size 640x480 with 1 Axes>"
            ],
            "image/png": "[encoded data removed]"
          },
          "metadata": {}
        }
      ]
    },
    {
      "cell_type": "markdown",
      "source": [
        "### Optimisers"
      ],
      "metadata": {
        "id": "VP4Mxqw7hafJ"
      }
    },
    {
      "cell_type": "code",
      "source": [
        "import matplotlib.pyplot as plt\n",
        "\n",
        "# Validation accuracy data\n",
        "optimiser_Adam = [0.1018, 0.2695, 0.4322, 0.4604, 0.5128, 0.6031, 0.6382, 0.6208, 0.6868, 0.7180,\n",
        "                         0.7390, 0.7273, 0.7329, 0.7422, 0.7704, 0.7412, 0.7909, 0.7931, 0.7949, 0.7952,\n",
        "                         0.8271, 0.8312, 0.8303, 0.8299, 0.8337, 0.8320, 0.8268, 0.8311, 0.8338, 0.8312,\n",
        "                         0.8370, 0.8382, 0.8381, 0.8370, 0.8371, 0.8360, 0.8381, 0.8381, 0.8367, 0.8366]\n",
        "\n",
        "\n",
        "optimiser_RMSprop = [0.1279, 0.3527, 0.4583, 0.4418, 0.4919, 0.4441, 0.6432, 0.6176, 0.6969, 0.6351,\n",
        "                  0.7204, 0.6656, 0.7497, 0.7595, 0.7278, 0.7051, 0.7480, 0.7730, 0.7899, 0.7530,\n",
        "                  0.8343, 0.8346, 0.8375, 0.8351, 0.8298, 0.8351, 0.8336, 0.8375, 0.8387, 0.8399,\n",
        "                  0.8413, 0.8418, 0.8413, 0.8425, 0.8425, 0.8433, 0.8415, 0.8428, 0.8423, 0.8421]\n",
        "\n",
        "\n",
        "optimiser_SGD = [0.4240, 0.6261, 0.6635, 0.6345, 0.7154, 0.7520, 0.7221, 0.7270, 0.7103, 0.5873,\n",
        "                  0.6857, 0.7214, 0.7604, 0.6680, 0.7748, 0.7652, 0.5547, 0.7940, 0.7780, 0.7771,\n",
        "                  0.8237, 0.8262, 0.8245, 0.8276, 0.8242, 0.8186, 0.8260, 0.8314, 0.8307, 0.8281,\n",
        "                  0.8325, 0.8314, 0.8322, 0.8324, 0.8306, 0.8310, 0.8312, 0.8314, 0.8312, 0.8319]\n",
        "\n",
        "\n",
        "epochs = range(1, len(batch_size_16) + 1)\n",
        "\n",
        "plt.plot(epochs, optimiser_Adam, 'b', label='Adam')\n",
        "plt.plot(epochs, optimiser_RMSprop, 'r', label='RMSprop')\n",
        "plt.plot(epochs, optimiser_SGD, 'g', label='SGD')\n",
        "plt.title('Validation Accuracy for Different Optimisers')\n",
        "plt.xlabel('Epochs')\n",
        "plt.ylabel('Validation Accuracy')\n",
        "plt.legend()\n",
        "plt.show()"
      ],
      "metadata": {
        "colab": {
          "base_uri": "https://localhost:8080/",
          "height": 472
        },
        "id": "IlT-5usLhdP4",
        "outputId": "518e750c-2780-4ab3-a16d-0ecb4a8b21b4"
      },
      "execution_count": null,
      "outputs": [
        {
          "output_type": "display_data",
          "data": {
            "text/plain": [
              "<Figure size 640x480 with 1 Axes>"
            ],
            "image/png": "[encoded data removed]"
          },
          "metadata": {}
        }
      ]
    },
    {
      "cell_type": "markdown",
      "source": [
        "### Dropout"
      ],
      "metadata": {
        "id": "hi5bUEzlpWYR"
      }
    },
    {
      "cell_type": "code",
      "source": [
        "import matplotlib.pyplot as plt\n",
        "\n",
        "# Validation accuracy data\n",
        "no_dropout = [0.3759, 0.4659, 0.4934, 0.5802, 0.6364, 0.5872, 0.6754, 0.7141, 0.7258, 0.7390,\n",
        "             0.7376, 0.7606, 0.7389, 0.7716, 0.7542, 0.7732, 0.7654, 0.7692, 0.7674, 0.7163,\n",
        "             0.7885, 0.7891, 0.7923, 0.7901, 0.7907, 0.7921, 0.7905, 0.7925, 0.7917, 0.7908,\n",
        "             0.7917, 0.7918, 0.7920, 0.7923, 0.7922, 0.7920, 0.7921, 0.7920, 0.7921, 0.7926]\n",
        "\n",
        "\n",
        "three_dropout = [0.3770, 0.3634, 0.4649, 0.6313, 0.7029, 0.6929, 0.6397, 0.7546, 0.7187, 0.7566,\n",
        "               0.7385, 0.7094, 0.7140, 0.7664, 0.8082, 0.7892, 0.7851, 0.7927, 0.8093, 0.8186,\n",
        "               0.8430, 0.8460, 0.8464, 0.8452, 0.8438, 0.8455, 0.8464, 0.8441, 0.8460, 0.8477,\n",
        "               0.8474, 0.8479, 0.8477, 0.8476, 0.8484, 0.8490, 0.8490, 0.8494, 0.8503, 0.8484]\n",
        "\n",
        "\n",
        "\n",
        "four_dropout = [0.2960, 0.4062, 0.4999, 0.4248, 0.5676, 0.5895, 0.6283, 0.6862, 0.7355, 0.6394,\n",
        "               0.7642, 0.7647, 0.7693, 0.7925, 0.7956, 0.7874, 0.7852, 0.7979, 0.8046, 0.8010,\n",
        "               0.8504, 0.8517, 0.8534, 0.8552, 0.8527, 0.8509, 0.8532, 0.8529, 0.8521, 0.8533,\n",
        "               0.8562, 0.8577, 0.8576, 0.8578, 0.8567, 0.8571, 0.8578, 0.8567, 0.8572, 0.8564]\n",
        "\n",
        "five_dropout = [0.2269, 0.2774, 0.3900, 0.4112, 0.5019, 0.5424, 0.6195, 0.6225, 0.6668, 0.6893,\n",
        "                         0.6945, 0.7201, 0.7290, 0.6345, 0.7362, 0.7751, 0.7490, 0.7429, 0.7420, 0.7693,\n",
        "                         0.8243, 0.8265, 0.8254, 0.8318, 0.8296, 0.8286, 0.8296, 0.8263, 0.8315, 0.8340,\n",
        "                         0.8330, 0.8352, 0.8351, 0.8348, 0.8365, 0.8351, 0.8360, 0.8355, 0.8348, 0.8353]\n",
        "\n",
        "\n",
        "epochs = range(1, len(no_dropout) + 1)\n",
        "\n",
        "plt.plot(epochs, no_dropout, 'b', label='0 dropout')\n",
        "plt.plot(epochs, three_dropout, 'r', label='0.3 dropout')\n",
        "plt.plot(epochs, four_dropout, 'g', label='0.4 dropout')\n",
        "plt.plot(epochs, five_dropout, 'm', label='0.5 dropout')\n",
        "plt.title('Validation Accuracy for Different Dropout Rates')\n",
        "plt.xlabel('Epochs')\n",
        "plt.ylabel('Validation Accuracy')\n",
        "plt.legend()\n",
        "plt.show()"
      ],
      "metadata": {
        "outputId": "5728181b-2c63-448b-b837-ffbab98e233d",
        "colab": {
          "base_uri": "https://localhost:8080/",
          "height": 472
        },
        "id": "wrpNNlB4pWYb"
      },
      "execution_count": null,
      "outputs": [
        {
          "output_type": "display_data",
          "data": {
            "text/plain": [
              "<Figure size 640x480 with 1 Axes>"
            ],
            "image/png": "[encoded data removed]"
          },
          "metadata": {}
        }
      ]
    },
    {
      "cell_type": "markdown",
      "source": [
        "### Pre-trained CNN"
      ],
      "metadata": {
        "id": "P9tk07pfDcSq"
      }
    },
    {
      "cell_type": "code",
      "source": [
        "import matplotlib.pyplot as plt\n",
        "\n",
        "# Validation accuracy data\n",
        "vgg16 = [\n",
        "    0.7618, 0.8065, 0.8260, 0.8500, 0.8392, 0.8370, 0.8436, 0.8499, 0.8436, 0.8570,\n",
        "    0.8660, 0.8653, 0.8658, 0.8662, 0.8670, 0.8670, 0.8670, 0.8670, 0.8670, 0.8670,\n",
        "    0.8670, 0.8670, 0.8670, 0.8670, 0.8670, 0.8670, 0.8670, 0.8670, 0.8670, 0.8670,\n",
        "    0.8670, 0.8670, 0.8670, 0.8670, 0.8670, 0.8670, 0.8670, 0.8670, 0.8670, 0.8670\n",
        "]\n",
        "\n",
        "\n",
        "hyper_tuned_CNN = [0.2960, 0.4062, 0.4999, 0.4248, 0.5676, 0.5895, 0.6283, 0.6862, 0.7355, 0.6394,\n",
        "               0.7642, 0.7647, 0.7693, 0.7925, 0.7956, 0.7874, 0.7852, 0.7979, 0.8046, 0.8010,\n",
        "               0.8504, 0.8517, 0.8534, 0.8552, 0.8527, 0.8509, 0.8532, 0.8529, 0.8521, 0.8533,\n",
        "               0.8562, 0.8577, 0.8576, 0.8578, 0.8567, 0.8571, 0.8578, 0.8567, 0.8572, 0.8564]\n",
        "\n",
        "\n",
        "epochs = range(1, len(hyper_tuned_CNN) + 1)\n",
        "\n",
        "plt.plot(epochs, vgg16, 'b', label='VGG16')\n",
        "plt.plot(epochs, hyper_tuned_CNN, 'r', label='My CNN')\n",
        "\n",
        "plt.title('Validation Accuracy for Different Training Approaches')\n",
        "plt.xlabel('Epochs')\n",
        "plt.ylabel('Validation Accuracy')\n",
        "plt.legend()\n",
        "plt.show()"
      ],
      "metadata": {
        "outputId": "275e707b-a8e1-4661-ca5f-510f8203e52b",
        "colab": {
          "base_uri": "https://localhost:8080/",
          "height": 472
        },
        "id": "FIx3jONaDcS3"
      },
      "execution_count": null,
      "outputs": [
        {
          "output_type": "display_data",
          "data": {
            "text/plain": [
              "<Figure size 640x480 with 1 Axes>"
            ],
            "image/png": "[encoded data removed]"
          },
          "metadata": {}
        }
      ]
    },
    {
      "cell_type": "markdown",
      "source": [
        "### Pre-processing"
      ],
      "metadata": {
        "id": "rpzGI1oTG0i5"
      }
    },
    {
      "cell_type": "code",
      "source": [
        "import matplotlib.pyplot as plt\n",
        "\n",
        "# Validation accuracy data\n",
        "vgg16 = [\n",
        "    0.7618, 0.8065, 0.8260, 0.8500, 0.8392, 0.8370, 0.8436, 0.8499, 0.8436, 0.8570,\n",
        "    0.8660, 0.8653, 0.8658, 0.8662, 0.8670, 0.8670, 0.8670, 0.8670, 0.8670, 0.8670,\n",
        "    0.8670, 0.8670, 0.8670, 0.8670, 0.8670, 0.8670, 0.8670, 0.8670, 0.8670, 0.8670,\n",
        "    0.8670, 0.8670, 0.8670, 0.8670, 0.8670, 0.8670, 0.8670, 0.8670, 0.8670, 0.8670\n",
        "]\n",
        "\n",
        "\n",
        "hyper_tuned_CNN = [0.2960, 0.4062, 0.4999, 0.4248, 0.5676, 0.5895, 0.6283, 0.6862, 0.7355, 0.6394,\n",
        "               0.7642, 0.7647, 0.7693, 0.7925, 0.7956, 0.7874, 0.7852, 0.7979, 0.8046, 0.8010,\n",
        "               0.8504, 0.8517, 0.8534, 0.8552, 0.8527, 0.8509, 0.8532, 0.8529, 0.8521, 0.8533,\n",
        "               0.8562, 0.8577, 0.8576, 0.8578, 0.8567, 0.8571, 0.8578, 0.8567, 0.8572, 0.8564]\n",
        "\n",
        "vgg16_pp = [\n",
        "    0.8534, 0.9013, 0.8909, 0.9096, 0.9266, 0.9272, 0.9349, 0.9318, 0.9345, 0.9338,\n",
        "    0.9338, 0.9338, 0.9338, 0.9338, 0.9338, 0.9338, 0.9338, 0.9338, 0.9338, 0.9338,\n",
        "    0.9338, 0.9338, 0.9338, 0.9338, 0.9338, 0.9338, 0.9338, 0.9338, 0.9338, 0.9338,\n",
        "    0.9338, 0.9338, 0.9338, 0.9338, 0.9338, 0.9338, 0.9338, 0.9338, 0.9338, 0.9338\n",
        "]\n",
        "\n",
        "\n",
        "hyper_tuned_CNN_pp = [\n",
        "    0.2095, 0.3731, 0.4985, 0.5737, 0.5641, 0.6858, 0.6998, 0.7331, 0.7089, 0.7307,\n",
        "    0.7581, 0.7718, 0.7694, 0.8054, 0.7657, 0.7853, 0.8146, 0.8340, 0.8331, 0.8413,\n",
        "    0.8620, 0.8623, 0.8624, 0.8652, 0.8674, 0.8638, 0.8634, 0.8656, 0.8652, 0.8678,\n",
        "    0.8689, 0.8689, 0.8698, 0.8686, 0.8686, 0.8691, 0.8703, 0.8687, 0.8689, 0.8695\n",
        "]\n",
        "\n",
        "epochs = range(1, len(hyper_tuned_CNN) + 1)\n",
        "\n",
        "plt.plot(epochs, vgg16, 'b', label='VGG16')\n",
        "plt.plot(epochs, hyper_tuned_CNN, 'r', label='My CNN')\n",
        "plt.plot(epochs, vgg16_pp, 'g', label='VGG16 Pre-processed')\n",
        "plt.plot(epochs, hyper_tuned_CNN_pp, 'm', label='My CNN Pre-processed')\n",
        "\n",
        "plt.title('Validation Accuracy for Different Training Approaches')\n",
        "plt.xlabel('Epochs')\n",
        "plt.ylabel('Validation Accuracy')\n",
        "plt.legend()\n",
        "plt.show()"
      ],
      "metadata": {
        "outputId": "29b20f04-065d-4ea4-fe6a-c5d72aadd5dd",
        "colab": {
          "base_uri": "https://localhost:8080/",
          "height": 472
        },
        "id": "teLGXk1tG0jF"
      },
      "execution_count": null,
      "outputs": [
        {
          "output_type": "display_data",
          "data": {
            "text/plain": [
              "<Figure size 640x480 with 1 Axes>"
            ],
            "image/png": "[encoded data removed]"
          },
          "metadata": {}
        }
      ]
    }
  ]
}